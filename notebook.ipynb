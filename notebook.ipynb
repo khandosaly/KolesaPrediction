{
 "cells": [
  {
   "cell_type": "markdown",
   "metadata": {
    "pycharm": {
     "name": "#%% md\n"
    }
   },
   "source": [
    "# Cars price prediction"
   ]
  },
  {
   "cell_type": "markdown",
   "metadata": {
    "pycharm": {
     "name": "#%% md\n"
    }
   },
   "source": [
    "## I. Data import"
   ]
  },
  {
   "cell_type": "code",
   "execution_count": 326,
   "metadata": {
    "pycharm": {
     "name": "#%%\n"
    }
   },
   "outputs": [
    {
     "data": {
      "text/plain": "       manufacturer                model       price  year         body  \\\n0           Renault               Megane   1 800 000  2004        седан   \n1        ВАЗ (Lada)  2131 (5-ти дверный)   1 055 000  2004  внедорожник   \n2         Chevrolet              Orlando   8 000 000  2013      минивэн   \n3               Kia                Cee’d   6 300 000  2013      хэтчбек   \n4            Toyota                Camry  17 000 000  2018        седан   \n...             ...                  ...         ...   ...          ...   \n131475       Toyota                Camry   6 500 000  2006        седан   \n131476          BMW                  320   3 600 000  2002        седан   \n131477          ГАЗ               ГАЗель   6 700 000  2013        пикап   \n131478   ВАЗ (Lada)  Priora 2170 (седан)   3 200 000  2014        седан   \n131479   ВАЗ (Lada)  Priora 2170 (седан)   3 000 000  2014        седан   \n\n       engine_volume   fuel_type transmission    city      date  \n0                1.4      бензин     механика  Актобе  29 марта  \n1                1.8      бензин     механика  Актобе  29 марта  \n2                1.8      бензин      автомат  Актобе  29 марта  \n3                1.6      бензин      автомат  Актобе  29 марта  \n4                2.5      бензин      автомат  Актобе  29 марта  \n...              ...         ...          ...     ...       ...  \n131475           2.4      бензин      автомат  Актобе  29 марта  \n131476           2.2      бензин      автомат  Актобе  29 марта  \n131477           2.9  газ-бензин     механика  Актобе  29 марта  \n131478           1.6      бензин     механика  Актобе  29 марта  \n131479           1.6      бензин     механика  Актобе  29 марта  \n\n[131480 rows x 10 columns]",
      "text/html": "<div>\n<style scoped>\n    .dataframe tbody tr th:only-of-type {\n        vertical-align: middle;\n    }\n\n    .dataframe tbody tr th {\n        vertical-align: top;\n    }\n\n    .dataframe thead th {\n        text-align: right;\n    }\n</style>\n<table border=\"1\" class=\"dataframe\">\n  <thead>\n    <tr style=\"text-align: right;\">\n      <th></th>\n      <th>manufacturer</th>\n      <th>model</th>\n      <th>price</th>\n      <th>year</th>\n      <th>body</th>\n      <th>engine_volume</th>\n      <th>fuel_type</th>\n      <th>transmission</th>\n      <th>city</th>\n      <th>date</th>\n    </tr>\n  </thead>\n  <tbody>\n    <tr>\n      <th>0</th>\n      <td>Renault</td>\n      <td>Megane</td>\n      <td>1 800 000</td>\n      <td>2004</td>\n      <td>седан</td>\n      <td>1.4</td>\n      <td>бензин</td>\n      <td>механика</td>\n      <td>Актобе</td>\n      <td>29 марта</td>\n    </tr>\n    <tr>\n      <th>1</th>\n      <td>ВАЗ (Lada)</td>\n      <td>2131 (5-ти дверный)</td>\n      <td>1 055 000</td>\n      <td>2004</td>\n      <td>внедорожник</td>\n      <td>1.8</td>\n      <td>бензин</td>\n      <td>механика</td>\n      <td>Актобе</td>\n      <td>29 марта</td>\n    </tr>\n    <tr>\n      <th>2</th>\n      <td>Chevrolet</td>\n      <td>Orlando</td>\n      <td>8 000 000</td>\n      <td>2013</td>\n      <td>минивэн</td>\n      <td>1.8</td>\n      <td>бензин</td>\n      <td>автомат</td>\n      <td>Актобе</td>\n      <td>29 марта</td>\n    </tr>\n    <tr>\n      <th>3</th>\n      <td>Kia</td>\n      <td>Cee’d</td>\n      <td>6 300 000</td>\n      <td>2013</td>\n      <td>хэтчбек</td>\n      <td>1.6</td>\n      <td>бензин</td>\n      <td>автомат</td>\n      <td>Актобе</td>\n      <td>29 марта</td>\n    </tr>\n    <tr>\n      <th>4</th>\n      <td>Toyota</td>\n      <td>Camry</td>\n      <td>17 000 000</td>\n      <td>2018</td>\n      <td>седан</td>\n      <td>2.5</td>\n      <td>бензин</td>\n      <td>автомат</td>\n      <td>Актобе</td>\n      <td>29 марта</td>\n    </tr>\n    <tr>\n      <th>...</th>\n      <td>...</td>\n      <td>...</td>\n      <td>...</td>\n      <td>...</td>\n      <td>...</td>\n      <td>...</td>\n      <td>...</td>\n      <td>...</td>\n      <td>...</td>\n      <td>...</td>\n    </tr>\n    <tr>\n      <th>131475</th>\n      <td>Toyota</td>\n      <td>Camry</td>\n      <td>6 500 000</td>\n      <td>2006</td>\n      <td>седан</td>\n      <td>2.4</td>\n      <td>бензин</td>\n      <td>автомат</td>\n      <td>Актобе</td>\n      <td>29 марта</td>\n    </tr>\n    <tr>\n      <th>131476</th>\n      <td>BMW</td>\n      <td>320</td>\n      <td>3 600 000</td>\n      <td>2002</td>\n      <td>седан</td>\n      <td>2.2</td>\n      <td>бензин</td>\n      <td>автомат</td>\n      <td>Актобе</td>\n      <td>29 марта</td>\n    </tr>\n    <tr>\n      <th>131477</th>\n      <td>ГАЗ</td>\n      <td>ГАЗель</td>\n      <td>6 700 000</td>\n      <td>2013</td>\n      <td>пикап</td>\n      <td>2.9</td>\n      <td>газ-бензин</td>\n      <td>механика</td>\n      <td>Актобе</td>\n      <td>29 марта</td>\n    </tr>\n    <tr>\n      <th>131478</th>\n      <td>ВАЗ (Lada)</td>\n      <td>Priora 2170 (седан)</td>\n      <td>3 200 000</td>\n      <td>2014</td>\n      <td>седан</td>\n      <td>1.6</td>\n      <td>бензин</td>\n      <td>механика</td>\n      <td>Актобе</td>\n      <td>29 марта</td>\n    </tr>\n    <tr>\n      <th>131479</th>\n      <td>ВАЗ (Lada)</td>\n      <td>Priora 2170 (седан)</td>\n      <td>3 000 000</td>\n      <td>2014</td>\n      <td>седан</td>\n      <td>1.6</td>\n      <td>бензин</td>\n      <td>механика</td>\n      <td>Актобе</td>\n      <td>29 марта</td>\n    </tr>\n  </tbody>\n</table>\n<p>131480 rows × 10 columns</p>\n</div>"
     },
     "execution_count": 326,
     "metadata": {},
     "output_type": "execute_result"
    }
   ],
   "source": [
    "import pandas as pd\n",
    "import numpy as np\n",
    "from sklearn.metrics  import f1_score,accuracy_score\n",
    "from sklearn.tree import DecisionTreeClassifier\n",
    "from sklearn.model_selection import train_test_split\n",
    "from sklearn.metrics import mean_absolute_error\n",
    "from sklearn.metrics import mean_squared_error\n",
    "from sklearn.metrics import r2_score\n",
    "from sklearn.linear_model import LinearRegression\n",
    "import warnings\n",
    "warnings.filterwarnings('ignore')\n",
    "\n",
    "df = pd.read_csv('ScrapyParser/kolesa_cars.csv')\n",
    "df"
   ]
  },
  {
   "cell_type": "markdown",
   "metadata": {
    "pycharm": {
     "name": "#%% md\n"
    }
   },
   "source": [
    "## II. Data cleaning\n",
    "\n",
    "#### Remove duplicates\n",
    "Due to the inherent nature of the repetition of ads and due to the technical specifics of the parser, there are duplicates in the dataset that need to be removed."
   ]
  },
  {
   "cell_type": "code",
   "execution_count": 327,
   "metadata": {
    "pycharm": {
     "name": "#%%\n"
    }
   },
   "outputs": [
    {
     "name": "stdout",
     "output_type": "stream",
     "text": [
      "Total amount of rows: 131480\n",
      "Total amount of duplicates: 15759\n",
      "New amount: 115721\n"
     ]
    }
   ],
   "source": [
    "print(f'Total amount of rows: {len(df)}\\n'\n",
    "      f'Total amount of duplicates: {len(df)-len(df.drop_duplicates())}')\n",
    "df = df.drop_duplicates()\n",
    "print(f'New amount: {len(df)}')"
   ]
  },
  {
   "cell_type": "markdown",
   "metadata": {
    "pycharm": {
     "name": "#%% md\n"
    }
   },
   "source": [
    "#### Drop useless columns\n",
    "The parsing occurred on March 29 and, accordingly, the date in the column is only 7 days. This data is useless."
   ]
  },
  {
   "cell_type": "code",
   "execution_count": 328,
   "metadata": {
    "pycharm": {
     "name": "#%%\n"
    }
   },
   "outputs": [
    {
     "name": "stdout",
     "output_type": "stream",
     "text": [
      "All days in dataset: ['29 марта' '25 марта' '23 марта' '24 марта' '26 марта' '28 марта'\n",
      " '27 марта' '30 марта']\n"
     ]
    }
   ],
   "source": [
    "print(f\"All days in dataset: {df['date'].unique()}\")\n",
    "df.drop('date', inplace=True, axis=1)"
   ]
  },
  {
   "cell_type": "markdown",
   "metadata": {
    "pycharm": {
     "name": "#%% md\n"
    }
   },
   "source": [
    "#### Drop garbage rows\n",
    "Parser may set wrong values for some columns, let's check their status."
   ]
  },
  {
   "cell_type": "code",
   "execution_count": 329,
   "metadata": {
    "pycharm": {
     "name": "#%%\n"
    }
   },
   "outputs": [
    {
     "name": "stdout",
     "output_type": "stream",
     "text": [
      "Manufacturer: OK\n",
      "['Renault' 'ВАЗ (Lada)' 'Chevrolet' 'Kia' 'Toyota' 'Nissan' 'Opel'\n",
      " 'Hyundai' 'ГАЗ' 'Daewoo' 'Skoda' 'Mitsubishi' 'Volkswagen' 'Lexus'\n",
      " 'Geely' 'УАЗ' 'SsangYong' 'Mercedes-Benz' 'Ford' 'BMW' 'Audi' 'Changan'\n",
      " 'Subaru' 'FAW' 'Great Wall' 'Porsche' 'Mazda' 'Honda' 'Москвич'\n",
      " 'Infiniti' 'Suzuki' 'Haval' 'Land Rover' 'Ravon' 'Dodge' 'Mini' 'Peugeot'\n",
      " 'JAC' 'ЗАЗ' 'Derways' 'Foton' 'ИЖ' 'Fiat' 'Lincoln' 'Lifan' 'Jaguar'\n",
      " 'Chery' 'Datsun' 'Daihatsu' 'Citroen' 'Chrysler' 'Volvo' 'Isuzu' 'Seat'\n",
      " 'Cadillac' 'Jeep' 'GMC' 'Hummer' 'Alfa Romeo' 'MG' 'ЛуАЗ' 'DongFeng'\n",
      " 'Acura' 'Pontiac' 'Shuanghuan' 'Bentley' 'Saab' 'ТагАЗ' 'Tianma' 'BYD'\n",
      " 'Ретро-автомобили' 'Hafei' 'ЗиЛ' 'Lancia' 'ZX' 'Rover' 'ВИС' 'Haima'\n",
      " 'Smart' 'Maserati' 'Wuling' 'Genesis' 'Jin' 'GAC' 'Tesla' 'РАФ' 'Gonow'\n",
      " 'Dacia' 'Iran Khodro' 'Mercedes-Maybach' 'Rolls-Royce' 'Buick' 'Scion'\n",
      " 'Mercury' 'Aston Martin' 'BAIC' 'Maybach' 'Ferrari' 'Dayun' 'Lamborghini'\n",
      " 'Puch' 'Huanghai' 'BAW' 'Mahindra' 'Tianye']\n",
      "\n",
      "Model: OK\n",
      "['Megane' '2131 (5-ти дверный)' 'Orlando' ... 'Hover H5' 'ZS' 'Alsvin']\n",
      "\n",
      "Price: OK\n",
      "['1 800 000' '1 055 000' '8 000 000' ... '31 780 000' '1 748 000'\n",
      " '5 200 066']\n",
      "\n",
      "Year: OK\n",
      "[2004 2013 2018 1994 2005 2014 1997 2012 2010 1996 2020 2007 2011 2021\n",
      " 1995 2008 2006 2016 2022 2017 2000 2001 2015 1990 1992 1993 1999 1988\n",
      " 1998 2019 2009 2002 2003 1991 1953 1959 1978 1989 1987 1981 1986 1980\n",
      " 1975 1985 1984 1983 1977 1976 1982 1969 1967 1963 1971 1957 1965 1973\n",
      " 1966 1972 1974 1954 1968 1960 1958 1970 1950 1964 1962 1961 1979 1952\n",
      " 1956 1955 1947 1951 1945 1949 1946 1943 1944]\n",
      "\n",
      "Body: BAD\n",
      "['седан' 'внедорожник' 'минивэн' 'хэтчбек' 'универсал' 'фургон'\n",
      " 'кроссовер' 'лифтбек' 'пикап' 'микроавтобус' 'купе' 'родстер' 'микровэн'\n",
      " 'лимузин' 'кабриолет' 'хардтоп' 'тарга' 'фастбек' 'л']\n",
      "\n",
      "Engine volume: BAD\n",
      "['1.4' '1.8' '1.6' '2.5' '3' '4.5' '2' '1.5' '2.7' '2.9' '0.8' '2.4' '1.7'\n",
      " '4.6' '2.3' '3.5' '2.8' '4' '1.3' '4.7' '5.5' '2.2' '1.1' '3.6' '3.3'\n",
      " '3.2' '2.6' '2.1' '4.4' '5.7' '1.2' '1.9' '6' '3.4' '4.8' '5' '4.3' '5.6'\n",
      " '3.8' '1' '5.4' '4.2' '3.7' '3.1' '6.2' 'электричество' '6.3' '3.9' '5.3'\n",
      " '8.5' '0.7' 'бензин' '0.9' '6.5' '9.9' '7.7' '1.69' '0.6' '6.1' '5.9'\n",
      " 'газ' '8.8' '0.2' '4.9' '5.2' '8.3' '6.8' '9' '5.8' '0.1' '6.6' '7.4'\n",
      " '6.7' '8.2' '6.4' '4.497' '8.1' '2.99' '7.3' '2.01' 'дизель' '8' 2.7 1.6\n",
      " 2.0 1.4 4.0 1.8 2.5 1.5 4.5 1.7 5.7 2.6 4.7 3.0 2.9 2.3 2.4 4.6 3.2 3.5\n",
      " 2.8 1.3 2.2 1.9 3.3 1.2 0.8 5.4 5.5 5.0 5.6 4.4 3.6 4.3 3.7 3.4 0.2]\n",
      "\n",
      "Fuel type: BAD\n",
      "['бензин' 'газ-бензин' 'дизель' 'гибрид' 'газ' 'КПП автомат'\n",
      " 'электричество' 'КПП механика' 'правый руль']\n",
      "\n",
      "Transmission: BAD\n",
      "['механика' 'автомат' 'вариатор' 'робот' 'руль' 'пробегом 100 км'\n",
      " 'типтроник' 'пробегом 39 000 км' 'пробегом 24 500 км'\n",
      " 'автомобиль Победа 1953 года на ходу или обменяю на другое авто' nan\n",
      " 'пробегом 250 569 км' 'пробегом 37 000 км' 'пробегом 72 405 км'\n",
      " 'пробегом 48 500 км' 'пробегом 2 900 км' 'пробегом 36 401 км'\n",
      " 'пробегом 69 000 км' 'под реставрацию возможен варианты обмена'\n",
      " 'пробегом 20 000 км' 'пробегом 9 679 км' 'ходу' 'пробегом 2 000 км' 'км'\n",
      " 'пробегом 14 641 км' 'пробегом 4 500 км' 'пробегом 32 000 км'\n",
      " 'пробегом 21 000 км' 'пробегом 59 000 км' 'пробегом 70 км'\n",
      " 'пробегом 12 000 км'\n",
      " 'Максимальный комплектации из Японии. Все родное. Сиденье в отличном состояни...'\n",
      " 'пробегом 36 600 км' 'пробегом 24 509 км' 'пробегом 666 км'\n",
      " 'пробегом 9 486 км' '600 км' 'пробегом 130 000 км' 'пробегом 3 000 км'\n",
      " 'диски' 'пробегом 35 000 км' 'пробегом 30 606 км' 'пробегом 19 155 км'\n",
      " 'пробегом 47 706 км' 'пробегом 60 000 км' 'пробегом 69 434 км'\n",
      " 'пробегом 21 444 км' 'пробегом 8 778 км' 'пробегом 57 048 км'\n",
      " 'пробегом 48 035 км' 'пробегом 4 000 км' 'пробегом 70 000 км'\n",
      " 'пробегом 80 000 км' 'пробегом 40 000 км' 'пробегом 56 000 км'\n",
      " 'пробегом 24 000 км' 'пробегом 38 823 км' 'пробегом 16 500 км'\n",
      " 'Model S Long Range Запас хода 600 км. Разгон 0-100 км/ч 3.2...'\n",
      " 'пробегом 101 000 км' 'пробегом 240 км' 'пробегом 3 800 км'\n",
      " 'пробегом 71 000 км'\n",
      " 'абсолютно новый! Европеец! Комплектация Long Range Dual Motor...'\n",
      " 'пробегом 10 500 км' 'пробегом 13 186 км' 'пробегом 9 999 км'\n",
      " 'пробегом 48 000 км' 'пробегом 10 000 км' 'пробегом 7 000 км'\n",
      " 'пробегом 47 000 км']\n",
      "\n",
      "City: Ok\n",
      "['Актобе' 'Шалкар' 'Хромтау' 'Акраб' 'Кандыагаш' 'Степногорск'\n",
      " 'Нур-Султан (Астана)' 'Кокшетау' 'Державинск' 'Атырау' 'Кульсары'\n",
      " 'Шымкент' 'Туркестан' 'Сарыагаш' 'Махамбет' 'Доссор' 'Индерборский'\n",
      " 'Ленгер' 'Жетысай' 'Алматы' 'Капшагай' 'Талдыкорган' 'Усть-Каменогорск'\n",
      " 'Семей' 'Урджар' 'Аягоз' 'Курчатов' 'Зайсан' 'Уральск' 'Аксай' 'Балхаш'\n",
      " 'Жезказган' 'Темиртау' 'Караганда' 'Костанай' 'Лисаковск' 'Рудный'\n",
      " 'Шиели' 'Байконыр' 'Кызылорда' 'Жалагаш' 'Жосалы' 'Жанаозен' 'Актау'\n",
      " 'Бейнеу' 'Сатпаев' 'Атасу' 'Петропавловск' 'Саумалколь' 'Бишкуль'\n",
      " 'Явленка' 'Сергеевка' 'Тайынша' 'Новоишимский' 'Пресновка' 'Талшик'\n",
      " 'Булаево' 'Кишкенеколь' 'Мамлютка' 'Смирново' 'Чкалово' 'Тимирязево'\n",
      " 'Павлодар' 'Железинка' 'Кашыр' 'Экибастуз' 'Аксу' 'Успенка' 'Иртышск'\n",
      " 'Шарбакты' 'Баянаул' 'Акку' 'Черноярка' 'Актогай' 'Коктобе'\n",
      " 'Форт-Шевченко' 'Курык' 'Жетыбай' 'Шетпе' 'Акшукур' 'Жанакорган'\n",
      " 'Аральск' 'Теренозек' 'Саксаульский' 'Казалинск' 'Айтеке би' 'Житикара'\n",
      " 'Федоровка (Федоровский р-н)' 'Карабалык (Карабалыкский р-н)'\n",
      " 'Затобольск' 'Денисовка' 'Аркалык' 'Аулиеколь' 'Тобыл' 'Узунколь'\n",
      " 'Амангельды' 'Карасу' 'Тарановское' 'Аманкарагай' 'Боровской' 'Камысты'\n",
      " 'Заречное' 'Сарыколь' 'Убаганское' 'Качар' 'Караменды' 'Октябрьское'\n",
      " 'Торгай' 'Шахтинск' 'Агадырь' 'Приозерск' 'Абай (Абайский р-н)'\n",
      " 'Молодежное (Осакаровский р-н)' 'Сарань' 'Жайрем' 'Осакаровка'\n",
      " 'Сарышаган' 'Каркаралинск' 'Актогай (Актогайский район)' 'Каражал'\n",
      " 'Аксу-Аюлы' 'Габидена Мустафина' 'Топар' 'Киевка' 'Ботакара' 'Улытау'\n",
      " 'Жарык' 'Кенгирское' 'Переметное' 'Жымпиты' 'Жангала' 'Тайпак' 'Чапаев'\n",
      " 'Федоровка (Теректинский р-н)' 'Таскала' 'Дарьинское' 'Чингирлау'\n",
      " 'Казталовка' 'Жанибек' 'Акжаик' 'Жалпактал' 'Трекино' 'Тараз' 'Сарыкемер'\n",
      " 'Мерке' 'Жанатас' 'Кордай' 'Шу' 'Кулан' 'Бауыржана Момышулы' 'Мойынкум'\n",
      " 'Аса' 'Каратау' 'Саудакент' 'Акколь (Таласский р-н)' 'Толе би' 'Бурыл'\n",
      " 'Алтай' 'Риддер' 'Шемонаиха' 'Маканчи' 'Бородулиха' 'Караул' 'Калбатау'\n",
      " 'Кокпекты' 'Георгиевка' 'Акжар' 'Большенарымское' 'Глубокое' 'Самарское'\n",
      " 'Молодежный (Уланский р-н)' 'Большая Владимировка' 'Курчум' 'Серебрянск'\n",
      " 'Кабанбай (Урджарский р-н)' 'Таврическое' 'Новая Бухтарма' 'Аксуат'\n",
      " 'Жезкент' 'Кайнар' 'Теректы' 'Катон-Карагай' 'Шар' 'Новая Шульба'\n",
      " 'Верхнеберезовский' 'Турара Рыскулова' 'Кентау' 'Абай (Келесский р-н)'\n",
      " 'Казыгурт' 'Шаульдер' 'Аксукент' 'Арысь' 'Асыката' 'Темирлановка'\n",
      " 'Мырзакент' 'Шаян' 'Шардара' 'Шолаккорган' 'Карабулак' 'Атакент'\n",
      " 'Састобе' 'Аккыстау' 'Макат' 'Ганюшкино' 'Миялы'\n",
      " 'Акколь (Аккольский р-н)' 'Есиль' 'Щучинск' 'Ерейментау' 'Зеренда'\n",
      " 'Макинск' 'Аршалы' 'Атбасар' 'Степняк' 'Коргалжын' 'Астраханка'\n",
      " 'Балкашино' 'Шортанды' 'Кабанбай батыра (Целиноградский р-н)' 'Жолымбет'\n",
      " 'Талапкер' 'Шантобе' 'Джалтыр' 'Боровое' 'Жаксы' 'Косшы' 'Бестобе'\n",
      " 'Егиндыколь' 'Боралдай' 'Талгар' 'Жаркент' 'Балпык би' 'Каскелен'\n",
      " 'Байтерек' 'Узынагаш' 'Ават (Енбекшиказахский р-н)' 'Сарыозек'\n",
      " 'Панфилово (Талгарский р-н)' 'Текели' 'Шамалган' 'Уштобе' 'Сарканд'\n",
      " 'Есик' 'Чунджа' 'Ушарал' 'Отеген-Батыр' 'Карабулак (Ескельдинский р-н)'\n",
      " 'Бесагаш' 'Кендала' 'Кызылту' 'Байсерке' 'Карабулак (Талгарский р-н)'\n",
      " 'Ащибулак' 'Шелек' 'Жансугуров' 'Жетиген' 'Кыргауылды' 'Нарынкол'\n",
      " 'Кабанбай (Алакольский р-н)' 'Иргели' 'Жалкамыс' 'Кеген' 'Когалы'\n",
      " 'Баканас' 'Райымбек (Карасайский р-н)' 'Байганин' 'Мартук' 'Алга'\n",
      " 'Шубаркудук' 'Комсомольское' 'Эмба' 'Бадамша' 'Хобда']\n",
      "\n",
      "\n"
     ]
    }
   ],
   "source": [
    "print(f'Manufacturer: OK\\n{df.manufacturer.unique()}\\n\\n'\n",
    "      f'Model: OK\\n{df.model.unique()}\\n\\n'\n",
    "      f'Price: OK\\n{df.price.unique()}\\n\\n'\n",
    "      f'Year: OK\\n{df.year.unique()}\\n\\n'\n",
    "      f'Body: BAD\\n{df.body.unique()}\\n\\n'\n",
    "      f'Engine volume: BAD\\n{df.engine_volume.unique()}\\n\\n'\n",
    "      f'Fuel type: BAD\\n{df.fuel_type.unique()}\\n\\n'\n",
    "      f'Transmission: BAD\\n{df.transmission.unique()}\\n\\n'\n",
    "      f'City: Ok\\n{df.city.unique()}\\n\\n')"
   ]
  },
  {
   "cell_type": "markdown",
   "metadata": {
    "pycharm": {
     "name": "#%% md\n"
    }
   },
   "source": [
    "As we can see engine_volume, body, fuel_type, transmission columns has some garbage rows, we will delete them."
   ]
  },
  {
   "cell_type": "code",
   "execution_count": 330,
   "metadata": {
    "pycharm": {
     "name": "#%%\n"
    }
   },
   "outputs": [],
   "source": [
    "df['engine_volume'] = df['engine_volume'].astype(str)\n",
    "df['engine_volume'] = df['engine_volume'].apply(lambda x: None if x in ['газ', 'бензин', 'электричество'] else x)\n",
    "df['body'] = df['body'].apply(lambda x: None if x.strip()=='л' else x)\n",
    "df['fuel_type'] = df['fuel_type'].apply(lambda x: None if x in ['КПП Автомат', 'КПП механика', 'правый руль'] else x)\n",
    "df['transmission'] = df['transmission'].apply(lambda x: x if x in ['механика', 'автомат', 'вариатор', 'робот'] else None)\n",
    "df.dropna(inplace=True)"
   ]
  },
  {
   "cell_type": "markdown",
   "metadata": {
    "pycharm": {
     "name": "#%% md\n"
    }
   },
   "source": [
    "Now these columns are good to go."
   ]
  },
  {
   "cell_type": "code",
   "execution_count": 331,
   "metadata": {
    "pycharm": {
     "name": "#%%\n"
    }
   },
   "outputs": [
    {
     "name": "stdout",
     "output_type": "stream",
     "text": [
      "Body: OK\n",
      "['седан' 'внедорожник' 'минивэн' 'хэтчбек' 'универсал' 'фургон'\n",
      " 'кроссовер' 'лифтбек' 'пикап' 'микроавтобус' 'купе' 'родстер' 'микровэн'\n",
      " 'лимузин' 'кабриолет' 'хардтоп' 'фастбек' 'тарга']\n",
      "\n",
      "Engine volume: OK\n",
      "['1.4' '1.8' '1.6' '2.5' '3' '4.5' '2' '1.5' '2.7' '2.9' '0.8' '2.4' '1.7'\n",
      " '4.6' '2.3' '3.5' '2.8' '4' '1.3' '4.7' '5.5' '2.2' '1.1' '3.6' '3.3'\n",
      " '3.2' '2.6' '2.1' '4.4' '5.7' '1.2' '1.9' '6' '3.4' '4.8' '5' '4.3' '5.6'\n",
      " '3.8' '1' '5.4' '4.2' '3.7' '3.1' '6.2' '6.3' '3.9' '5.3' '8.5' '0.7'\n",
      " '0.9' '6.5' '9.9' '7.7' '1.69' '0.6' '6.1' '5.9' '0.2' '4.9' '5.2' '8.3'\n",
      " '6.8' '9' '5.8' '0.1' '6.6' '7.4' '6.7' '8.2' '6.4' '4.497' '8.1' '2.99'\n",
      " '7.3' '2.01' '8' '2.0' '4.0' '3.0' '5.0']\n",
      "\n",
      "Fuel type: OK\n",
      "['бензин' 'газ-бензин' 'дизель' 'гибрид' 'газ' 'электричество']\n",
      "\n",
      "Transmission: OK\n",
      "['механика' 'автомат' 'вариатор' 'робот']\n",
      "\n",
      "\n"
     ]
    }
   ],
   "source": [
    "print(f'Body: OK\\n{df.body.unique()}\\n\\n'\n",
    "      f'Engine volume: OK\\n{df.engine_volume.unique()}\\n\\n'\n",
    "      f'Fuel type: OK\\n{df.fuel_type.unique()}\\n\\n'\n",
    "      f'Transmission: OK\\n{df.transmission.unique()}\\n\\n')"
   ]
  },
  {
   "cell_type": "markdown",
   "metadata": {
    "pycharm": {
     "name": "#%% md\n"
    }
   },
   "source": [
    "As the result of data cleaning:\n",
    "Rows amount at the start: 131480\n",
    "Rows amount after duplicates removed: 115721\n",
    "Rows amount after garbage rows are removed: 109483"
   ]
  },
  {
   "cell_type": "code",
   "execution_count": 332,
   "metadata": {
    "pycharm": {
     "name": "#%%\n"
    }
   },
   "outputs": [
    {
     "data": {
      "text/plain": "       manufacturer                model       price  year         body  \\\n0           Renault               Megane   1 800 000  2004        седан   \n1        ВАЗ (Lada)  2131 (5-ти дверный)   1 055 000  2004  внедорожник   \n2         Chevrolet              Orlando   8 000 000  2013      минивэн   \n3               Kia                Cee’d   6 300 000  2013      хэтчбек   \n4            Toyota                Camry  17 000 000  2018        седан   \n...             ...                  ...         ...   ...          ...   \n131474   ВАЗ (Lada)  Priora 2170 (седан)   2 700 000  2013        седан   \n131476          BMW                  320   3 600 000  2002        седан   \n131477          ГАЗ               ГАЗель   6 700 000  2013        пикап   \n131478   ВАЗ (Lada)  Priora 2170 (седан)   3 200 000  2014        седан   \n131479   ВАЗ (Lada)  Priora 2170 (седан)   3 000 000  2014        седан   \n\n       engine_volume   fuel_type transmission    city  \n0                1.4      бензин     механика  Актобе  \n1                1.8      бензин     механика  Актобе  \n2                1.8      бензин      автомат  Актобе  \n3                1.6      бензин      автомат  Актобе  \n4                2.5      бензин      автомат  Актобе  \n...              ...         ...          ...     ...  \n131474           1.6      бензин     механика  Актобе  \n131476           2.2      бензин      автомат  Актобе  \n131477           2.9  газ-бензин     механика  Актобе  \n131478           1.6      бензин     механика  Актобе  \n131479           1.6      бензин     механика  Актобе  \n\n[109483 rows x 9 columns]",
      "text/html": "<div>\n<style scoped>\n    .dataframe tbody tr th:only-of-type {\n        vertical-align: middle;\n    }\n\n    .dataframe tbody tr th {\n        vertical-align: top;\n    }\n\n    .dataframe thead th {\n        text-align: right;\n    }\n</style>\n<table border=\"1\" class=\"dataframe\">\n  <thead>\n    <tr style=\"text-align: right;\">\n      <th></th>\n      <th>manufacturer</th>\n      <th>model</th>\n      <th>price</th>\n      <th>year</th>\n      <th>body</th>\n      <th>engine_volume</th>\n      <th>fuel_type</th>\n      <th>transmission</th>\n      <th>city</th>\n    </tr>\n  </thead>\n  <tbody>\n    <tr>\n      <th>0</th>\n      <td>Renault</td>\n      <td>Megane</td>\n      <td>1 800 000</td>\n      <td>2004</td>\n      <td>седан</td>\n      <td>1.4</td>\n      <td>бензин</td>\n      <td>механика</td>\n      <td>Актобе</td>\n    </tr>\n    <tr>\n      <th>1</th>\n      <td>ВАЗ (Lada)</td>\n      <td>2131 (5-ти дверный)</td>\n      <td>1 055 000</td>\n      <td>2004</td>\n      <td>внедорожник</td>\n      <td>1.8</td>\n      <td>бензин</td>\n      <td>механика</td>\n      <td>Актобе</td>\n    </tr>\n    <tr>\n      <th>2</th>\n      <td>Chevrolet</td>\n      <td>Orlando</td>\n      <td>8 000 000</td>\n      <td>2013</td>\n      <td>минивэн</td>\n      <td>1.8</td>\n      <td>бензин</td>\n      <td>автомат</td>\n      <td>Актобе</td>\n    </tr>\n    <tr>\n      <th>3</th>\n      <td>Kia</td>\n      <td>Cee’d</td>\n      <td>6 300 000</td>\n      <td>2013</td>\n      <td>хэтчбек</td>\n      <td>1.6</td>\n      <td>бензин</td>\n      <td>автомат</td>\n      <td>Актобе</td>\n    </tr>\n    <tr>\n      <th>4</th>\n      <td>Toyota</td>\n      <td>Camry</td>\n      <td>17 000 000</td>\n      <td>2018</td>\n      <td>седан</td>\n      <td>2.5</td>\n      <td>бензин</td>\n      <td>автомат</td>\n      <td>Актобе</td>\n    </tr>\n    <tr>\n      <th>...</th>\n      <td>...</td>\n      <td>...</td>\n      <td>...</td>\n      <td>...</td>\n      <td>...</td>\n      <td>...</td>\n      <td>...</td>\n      <td>...</td>\n      <td>...</td>\n    </tr>\n    <tr>\n      <th>131474</th>\n      <td>ВАЗ (Lada)</td>\n      <td>Priora 2170 (седан)</td>\n      <td>2 700 000</td>\n      <td>2013</td>\n      <td>седан</td>\n      <td>1.6</td>\n      <td>бензин</td>\n      <td>механика</td>\n      <td>Актобе</td>\n    </tr>\n    <tr>\n      <th>131476</th>\n      <td>BMW</td>\n      <td>320</td>\n      <td>3 600 000</td>\n      <td>2002</td>\n      <td>седан</td>\n      <td>2.2</td>\n      <td>бензин</td>\n      <td>автомат</td>\n      <td>Актобе</td>\n    </tr>\n    <tr>\n      <th>131477</th>\n      <td>ГАЗ</td>\n      <td>ГАЗель</td>\n      <td>6 700 000</td>\n      <td>2013</td>\n      <td>пикап</td>\n      <td>2.9</td>\n      <td>газ-бензин</td>\n      <td>механика</td>\n      <td>Актобе</td>\n    </tr>\n    <tr>\n      <th>131478</th>\n      <td>ВАЗ (Lada)</td>\n      <td>Priora 2170 (седан)</td>\n      <td>3 200 000</td>\n      <td>2014</td>\n      <td>седан</td>\n      <td>1.6</td>\n      <td>бензин</td>\n      <td>механика</td>\n      <td>Актобе</td>\n    </tr>\n    <tr>\n      <th>131479</th>\n      <td>ВАЗ (Lada)</td>\n      <td>Priora 2170 (седан)</td>\n      <td>3 000 000</td>\n      <td>2014</td>\n      <td>седан</td>\n      <td>1.6</td>\n      <td>бензин</td>\n      <td>механика</td>\n      <td>Актобе</td>\n    </tr>\n  </tbody>\n</table>\n<p>109483 rows × 9 columns</p>\n</div>"
     },
     "execution_count": 332,
     "metadata": {},
     "output_type": "execute_result"
    }
   ],
   "source": [
    "df"
   ]
  },
  {
   "cell_type": "markdown",
   "metadata": {
    "pycharm": {
     "name": "#%% md\n"
    }
   },
   "source": [
    "## III. Data preparation\n",
    "Only \"year\" columns has appropriate type. So we will cast each of other columns."
   ]
  },
  {
   "cell_type": "code",
   "execution_count": 333,
   "metadata": {
    "pycharm": {
     "name": "#%%\n"
    }
   },
   "outputs": [
    {
     "data": {
      "text/plain": "manufacturer     object\nmodel            object\nprice            object\nyear              int64\nbody             object\nengine_volume    object\nfuel_type        object\ntransmission     object\ncity             object\ndtype: object"
     },
     "execution_count": 333,
     "metadata": {},
     "output_type": "execute_result"
    }
   ],
   "source": [
    "df.dtypes"
   ]
  },
  {
   "cell_type": "markdown",
   "metadata": {
    "pycharm": {
     "name": "#%% md\n"
    }
   },
   "source": [
    "We will give columns consisting of digits the correct types"
   ]
  },
  {
   "cell_type": "code",
   "execution_count": 334,
   "metadata": {
    "pycharm": {
     "name": "#%%\n"
    }
   },
   "outputs": [],
   "source": [
    "df['price'] = df['price'].apply(lambda x: x.replace(' ', '')).astype(int)\n",
    "df['engine_volume'] = df['engine_volume'].astype(float)"
   ]
  },
  {
   "cell_type": "markdown",
   "source": [
    "Transmission and fuel type has few categories, so we will turn them into binary columns"
   ],
   "metadata": {
    "collapsed": false,
    "pycharm": {
     "name": "#%% md\n"
    }
   }
  },
  {
   "cell_type": "code",
   "execution_count": 335,
   "metadata": {
    "pycharm": {
     "name": "#%%\n"
    }
   },
   "outputs": [],
   "source": [
    "df = df.join(pd.get_dummies(df.transmission))\n",
    "df = df.join(pd.get_dummies(df.fuel_type))"
   ]
  },
  {
   "cell_type": "markdown",
   "source": [
    "We don't want to overfit our model with many columns, so we can not just make dummy values from columns as manufacturer, model, body, city. We will drop them."
   ],
   "metadata": {
    "collapsed": false,
    "pycharm": {
     "name": "#%% md\n"
    }
   }
  },
  {
   "cell_type": "code",
   "execution_count": 336,
   "outputs": [
    {
     "data": {
      "text/plain": "           price  year  engine_volume  автомат  вариатор  механика  робот  \\\n0        1800000  2004            1.4        0         0         1      0   \n1        1055000  2004            1.8        0         0         1      0   \n2        8000000  2013            1.8        1         0         0      0   \n3        6300000  2013            1.6        1         0         0      0   \n4       17000000  2018            2.5        1         0         0      0   \n...          ...   ...            ...      ...       ...       ...    ...   \n131474   2700000  2013            1.6        0         0         1      0   \n131476   3600000  2002            2.2        1         0         0      0   \n131477   6700000  2013            2.9        0         0         1      0   \n131478   3200000  2014            1.6        0         0         1      0   \n131479   3000000  2014            1.6        0         0         1      0   \n\n        бензин  газ  газ-бензин  гибрид  дизель  электричество  \n0            1    0           0       0       0              0  \n1            1    0           0       0       0              0  \n2            1    0           0       0       0              0  \n3            1    0           0       0       0              0  \n4            1    0           0       0       0              0  \n...        ...  ...         ...     ...     ...            ...  \n131474       1    0           0       0       0              0  \n131476       1    0           0       0       0              0  \n131477       0    0           1       0       0              0  \n131478       1    0           0       0       0              0  \n131479       1    0           0       0       0              0  \n\n[109483 rows x 13 columns]",
      "text/html": "<div>\n<style scoped>\n    .dataframe tbody tr th:only-of-type {\n        vertical-align: middle;\n    }\n\n    .dataframe tbody tr th {\n        vertical-align: top;\n    }\n\n    .dataframe thead th {\n        text-align: right;\n    }\n</style>\n<table border=\"1\" class=\"dataframe\">\n  <thead>\n    <tr style=\"text-align: right;\">\n      <th></th>\n      <th>price</th>\n      <th>year</th>\n      <th>engine_volume</th>\n      <th>автомат</th>\n      <th>вариатор</th>\n      <th>механика</th>\n      <th>робот</th>\n      <th>бензин</th>\n      <th>газ</th>\n      <th>газ-бензин</th>\n      <th>гибрид</th>\n      <th>дизель</th>\n      <th>электричество</th>\n    </tr>\n  </thead>\n  <tbody>\n    <tr>\n      <th>0</th>\n      <td>1800000</td>\n      <td>2004</td>\n      <td>1.4</td>\n      <td>0</td>\n      <td>0</td>\n      <td>1</td>\n      <td>0</td>\n      <td>1</td>\n      <td>0</td>\n      <td>0</td>\n      <td>0</td>\n      <td>0</td>\n      <td>0</td>\n    </tr>\n    <tr>\n      <th>1</th>\n      <td>1055000</td>\n      <td>2004</td>\n      <td>1.8</td>\n      <td>0</td>\n      <td>0</td>\n      <td>1</td>\n      <td>0</td>\n      <td>1</td>\n      <td>0</td>\n      <td>0</td>\n      <td>0</td>\n      <td>0</td>\n      <td>0</td>\n    </tr>\n    <tr>\n      <th>2</th>\n      <td>8000000</td>\n      <td>2013</td>\n      <td>1.8</td>\n      <td>1</td>\n      <td>0</td>\n      <td>0</td>\n      <td>0</td>\n      <td>1</td>\n      <td>0</td>\n      <td>0</td>\n      <td>0</td>\n      <td>0</td>\n      <td>0</td>\n    </tr>\n    <tr>\n      <th>3</th>\n      <td>6300000</td>\n      <td>2013</td>\n      <td>1.6</td>\n      <td>1</td>\n      <td>0</td>\n      <td>0</td>\n      <td>0</td>\n      <td>1</td>\n      <td>0</td>\n      <td>0</td>\n      <td>0</td>\n      <td>0</td>\n      <td>0</td>\n    </tr>\n    <tr>\n      <th>4</th>\n      <td>17000000</td>\n      <td>2018</td>\n      <td>2.5</td>\n      <td>1</td>\n      <td>0</td>\n      <td>0</td>\n      <td>0</td>\n      <td>1</td>\n      <td>0</td>\n      <td>0</td>\n      <td>0</td>\n      <td>0</td>\n      <td>0</td>\n    </tr>\n    <tr>\n      <th>...</th>\n      <td>...</td>\n      <td>...</td>\n      <td>...</td>\n      <td>...</td>\n      <td>...</td>\n      <td>...</td>\n      <td>...</td>\n      <td>...</td>\n      <td>...</td>\n      <td>...</td>\n      <td>...</td>\n      <td>...</td>\n      <td>...</td>\n    </tr>\n    <tr>\n      <th>131474</th>\n      <td>2700000</td>\n      <td>2013</td>\n      <td>1.6</td>\n      <td>0</td>\n      <td>0</td>\n      <td>1</td>\n      <td>0</td>\n      <td>1</td>\n      <td>0</td>\n      <td>0</td>\n      <td>0</td>\n      <td>0</td>\n      <td>0</td>\n    </tr>\n    <tr>\n      <th>131476</th>\n      <td>3600000</td>\n      <td>2002</td>\n      <td>2.2</td>\n      <td>1</td>\n      <td>0</td>\n      <td>0</td>\n      <td>0</td>\n      <td>1</td>\n      <td>0</td>\n      <td>0</td>\n      <td>0</td>\n      <td>0</td>\n      <td>0</td>\n    </tr>\n    <tr>\n      <th>131477</th>\n      <td>6700000</td>\n      <td>2013</td>\n      <td>2.9</td>\n      <td>0</td>\n      <td>0</td>\n      <td>1</td>\n      <td>0</td>\n      <td>0</td>\n      <td>0</td>\n      <td>1</td>\n      <td>0</td>\n      <td>0</td>\n      <td>0</td>\n    </tr>\n    <tr>\n      <th>131478</th>\n      <td>3200000</td>\n      <td>2014</td>\n      <td>1.6</td>\n      <td>0</td>\n      <td>0</td>\n      <td>1</td>\n      <td>0</td>\n      <td>1</td>\n      <td>0</td>\n      <td>0</td>\n      <td>0</td>\n      <td>0</td>\n      <td>0</td>\n    </tr>\n    <tr>\n      <th>131479</th>\n      <td>3000000</td>\n      <td>2014</td>\n      <td>1.6</td>\n      <td>0</td>\n      <td>0</td>\n      <td>1</td>\n      <td>0</td>\n      <td>1</td>\n      <td>0</td>\n      <td>0</td>\n      <td>0</td>\n      <td>0</td>\n      <td>0</td>\n    </tr>\n  </tbody>\n</table>\n<p>109483 rows × 13 columns</p>\n</div>"
     },
     "execution_count": 336,
     "metadata": {},
     "output_type": "execute_result"
    }
   ],
   "source": [
    "df_num = df.drop(['manufacturer', 'model', 'body', 'fuel_type', 'transmission', 'city'], axis=1)\n",
    "df_num"
   ],
   "metadata": {
    "collapsed": false,
    "pycharm": {
     "name": "#%%\n"
    }
   }
  },
  {
   "cell_type": "markdown",
   "source": [
    "At the end, we have ready for regression, filled only with numeric values dataframe"
   ],
   "metadata": {
    "collapsed": false,
    "pycharm": {
     "name": "#%% md\n"
    }
   }
  },
  {
   "cell_type": "code",
   "execution_count": 337,
   "outputs": [
    {
     "data": {
      "text/plain": "price              int64\nyear               int64\nengine_volume    float64\nавтомат            uint8\nвариатор           uint8\nмеханика           uint8\nробот              uint8\nбензин             uint8\nгаз                uint8\nгаз-бензин         uint8\nгибрид             uint8\nдизель             uint8\nэлектричество      uint8\ndtype: object"
     },
     "execution_count": 337,
     "metadata": {},
     "output_type": "execute_result"
    }
   ],
   "source": [
    "df_num.dtypes"
   ],
   "metadata": {
    "collapsed": false,
    "pycharm": {
     "name": "#%%\n"
    }
   }
  },
  {
   "cell_type": "markdown",
   "metadata": {
    "pycharm": {
     "name": "#%% md\n"
    }
   },
   "source": [
    "## IV. Regression"
   ]
  },
  {
   "cell_type": "code",
   "execution_count": 338,
   "metadata": {
    "pycharm": {
     "name": "#%%\n"
    }
   },
   "outputs": [],
   "source": [
    "y = df_num.price\n",
    "df_num.drop(['price'], axis=1, inplace=True)\n",
    "X = df_num\n",
    "X_train, X_test, y_train, y_test = train_test_split(X, y, test_size=0.25, random_state=2)\n"
   ]
  },
  {
   "cell_type": "code",
   "execution_count": 340,
   "outputs": [
    {
     "name": "stdout",
     "output_type": "stream",
     "text": [
      "3184086.935042661\n",
      "31893925417651.496\n"
     ]
    }
   ],
   "source": [
    "model = LinearRegression()\n",
    "model.fit(X_train,y_train)\n",
    "pred = model.predict(X_test)\n",
    "\n",
    "\n",
    "print(mean_absolute_error(y_test,pred))\n",
    "print(mean_squared_error(y_test,pred))"
   ],
   "metadata": {
    "collapsed": false,
    "pycharm": {
     "name": "#%%\n"
    }
   }
  }
 ],
 "metadata": {
  "kernelspec": {
   "display_name": "Python 3 (ipykernel)",
   "language": "python",
   "name": "python3"
  },
  "language_info": {
   "codemirror_mode": {
    "name": "ipython",
    "version": 3
   },
   "file_extension": ".py",
   "mimetype": "text/x-python",
   "name": "python",
   "nbconvert_exporter": "python",
   "pygments_lexer": "ipython3",
   "version": "3.8.10"
  }
 },
 "nbformat": 4,
 "nbformat_minor": 1
}