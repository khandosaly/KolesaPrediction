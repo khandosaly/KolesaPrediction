{
 "cells": [
  {
   "cell_type": "markdown",
   "metadata": {
    "pycharm": {
     "name": "#%% md\n"
    }
   },
   "source": [
    "# Cars price prediction"
   ]
  },
  {
   "cell_type": "markdown",
   "metadata": {
    "pycharm": {
     "name": "#%% md\n"
    }
   },
   "source": [
    "## I. Data import"
   ]
  },
  {
   "cell_type": "code",
   "execution_count": 43,
   "metadata": {
    "pycharm": {
     "name": "#%%\n"
    }
   },
   "outputs": [
    {
     "data": {
      "text/plain": "       manufacturer                model       price  year         body  \\\n0           Renault               Megane   1 800 000  2004        седан   \n1        ВАЗ (Lada)  2131 (5-ти дверный)   1 055 000  2004  внедорожник   \n2         Chevrolet              Orlando   8 000 000  2013      минивэн   \n3               Kia                Cee’d   6 300 000  2013      хэтчбек   \n4            Toyota                Camry  17 000 000  2018        седан   \n...             ...                  ...         ...   ...          ...   \n131475       Toyota                Camry   6 500 000  2006        седан   \n131476          BMW                  320   3 600 000  2002        седан   \n131477          ГАЗ               ГАЗель   6 700 000  2013        пикап   \n131478   ВАЗ (Lada)  Priora 2170 (седан)   3 200 000  2014        седан   \n131479   ВАЗ (Lada)  Priora 2170 (седан)   3 000 000  2014        седан   \n\n       engine_volume   fuel_type transmission    city      date  \n0                1.4      бензин     механика  Актобе  29 марта  \n1                1.8      бензин     механика  Актобе  29 марта  \n2                1.8      бензин      автомат  Актобе  29 марта  \n3                1.6      бензин      автомат  Актобе  29 марта  \n4                2.5      бензин      автомат  Актобе  29 марта  \n...              ...         ...          ...     ...       ...  \n131475           2.4      бензин      автомат  Актобе  29 марта  \n131476           2.2      бензин      автомат  Актобе  29 марта  \n131477           2.9  газ-бензин     механика  Актобе  29 марта  \n131478           1.6      бензин     механика  Актобе  29 марта  \n131479           1.6      бензин     механика  Актобе  29 марта  \n\n[131480 rows x 10 columns]",
      "text/html": "<div>\n<style scoped>\n    .dataframe tbody tr th:only-of-type {\n        vertical-align: middle;\n    }\n\n    .dataframe tbody tr th {\n        vertical-align: top;\n    }\n\n    .dataframe thead th {\n        text-align: right;\n    }\n</style>\n<table border=\"1\" class=\"dataframe\">\n  <thead>\n    <tr style=\"text-align: right;\">\n      <th></th>\n      <th>manufacturer</th>\n      <th>model</th>\n      <th>price</th>\n      <th>year</th>\n      <th>body</th>\n      <th>engine_volume</th>\n      <th>fuel_type</th>\n      <th>transmission</th>\n      <th>city</th>\n      <th>date</th>\n    </tr>\n  </thead>\n  <tbody>\n    <tr>\n      <th>0</th>\n      <td>Renault</td>\n      <td>Megane</td>\n      <td>1 800 000</td>\n      <td>2004</td>\n      <td>седан</td>\n      <td>1.4</td>\n      <td>бензин</td>\n      <td>механика</td>\n      <td>Актобе</td>\n      <td>29 марта</td>\n    </tr>\n    <tr>\n      <th>1</th>\n      <td>ВАЗ (Lada)</td>\n      <td>2131 (5-ти дверный)</td>\n      <td>1 055 000</td>\n      <td>2004</td>\n      <td>внедорожник</td>\n      <td>1.8</td>\n      <td>бензин</td>\n      <td>механика</td>\n      <td>Актобе</td>\n      <td>29 марта</td>\n    </tr>\n    <tr>\n      <th>2</th>\n      <td>Chevrolet</td>\n      <td>Orlando</td>\n      <td>8 000 000</td>\n      <td>2013</td>\n      <td>минивэн</td>\n      <td>1.8</td>\n      <td>бензин</td>\n      <td>автомат</td>\n      <td>Актобе</td>\n      <td>29 марта</td>\n    </tr>\n    <tr>\n      <th>3</th>\n      <td>Kia</td>\n      <td>Cee’d</td>\n      <td>6 300 000</td>\n      <td>2013</td>\n      <td>хэтчбек</td>\n      <td>1.6</td>\n      <td>бензин</td>\n      <td>автомат</td>\n      <td>Актобе</td>\n      <td>29 марта</td>\n    </tr>\n    <tr>\n      <th>4</th>\n      <td>Toyota</td>\n      <td>Camry</td>\n      <td>17 000 000</td>\n      <td>2018</td>\n      <td>седан</td>\n      <td>2.5</td>\n      <td>бензин</td>\n      <td>автомат</td>\n      <td>Актобе</td>\n      <td>29 марта</td>\n    </tr>\n    <tr>\n      <th>...</th>\n      <td>...</td>\n      <td>...</td>\n      <td>...</td>\n      <td>...</td>\n      <td>...</td>\n      <td>...</td>\n      <td>...</td>\n      <td>...</td>\n      <td>...</td>\n      <td>...</td>\n    </tr>\n    <tr>\n      <th>131475</th>\n      <td>Toyota</td>\n      <td>Camry</td>\n      <td>6 500 000</td>\n      <td>2006</td>\n      <td>седан</td>\n      <td>2.4</td>\n      <td>бензин</td>\n      <td>автомат</td>\n      <td>Актобе</td>\n      <td>29 марта</td>\n    </tr>\n    <tr>\n      <th>131476</th>\n      <td>BMW</td>\n      <td>320</td>\n      <td>3 600 000</td>\n      <td>2002</td>\n      <td>седан</td>\n      <td>2.2</td>\n      <td>бензин</td>\n      <td>автомат</td>\n      <td>Актобе</td>\n      <td>29 марта</td>\n    </tr>\n    <tr>\n      <th>131477</th>\n      <td>ГАЗ</td>\n      <td>ГАЗель</td>\n      <td>6 700 000</td>\n      <td>2013</td>\n      <td>пикап</td>\n      <td>2.9</td>\n      <td>газ-бензин</td>\n      <td>механика</td>\n      <td>Актобе</td>\n      <td>29 марта</td>\n    </tr>\n    <tr>\n      <th>131478</th>\n      <td>ВАЗ (Lada)</td>\n      <td>Priora 2170 (седан)</td>\n      <td>3 200 000</td>\n      <td>2014</td>\n      <td>седан</td>\n      <td>1.6</td>\n      <td>бензин</td>\n      <td>механика</td>\n      <td>Актобе</td>\n      <td>29 марта</td>\n    </tr>\n    <tr>\n      <th>131479</th>\n      <td>ВАЗ (Lada)</td>\n      <td>Priora 2170 (седан)</td>\n      <td>3 000 000</td>\n      <td>2014</td>\n      <td>седан</td>\n      <td>1.6</td>\n      <td>бензин</td>\n      <td>механика</td>\n      <td>Актобе</td>\n      <td>29 марта</td>\n    </tr>\n  </tbody>\n</table>\n<p>131480 rows × 10 columns</p>\n</div>"
     },
     "execution_count": 43,
     "metadata": {},
     "output_type": "execute_result"
    }
   ],
   "source": [
    "import pandas as pd\n",
    "import numpy as np\n",
    "from sklearn.metrics  import f1_score,accuracy_score\n",
    "from sklearn.tree import DecisionTreeClassifier\n",
    "from sklearn.model_selection import train_test_split\n",
    "from sklearn.metrics import mean_absolute_error\n",
    "from sklearn.metrics import mean_squared_error\n",
    "from sklearn.metrics import r2_score\n",
    "from sklearn.linear_model import LinearRegression\n",
    "\n",
    "from lightgbm import LGBMRegressor\n",
    "from xgboost.sklearn import XGBRegressor\n",
    "from catboost import CatBoostRegressor\n",
    "from sklearn.linear_model import SGDRegressor\n",
    "from sklearn.kernel_ridge import KernelRidge\n",
    "from sklearn.linear_model import ElasticNet\n",
    "from sklearn.linear_model import BayesianRidge\n",
    "from sklearn.ensemble import GradientBoostingRegressor\n",
    "from sklearn.svm import SVR\n",
    "\n",
    "import warnings\n",
    "warnings.filterwarnings('ignore')\n",
    "\n",
    "df = pd.read_csv('ScrapyParser/kolesa_cars.csv')\n",
    "df"
   ]
  },
  {
   "cell_type": "markdown",
   "metadata": {
    "pycharm": {
     "name": "#%% md\n"
    }
   },
   "source": [
    "## II. Data cleaning\n",
    "\n",
    "#### Remove duplicates\n",
    "Due to the inherent nature of the repetition of ads and due to the technical specifics of the parser, there are duplicates in the dataset that need to be removed."
   ]
  },
  {
   "cell_type": "code",
   "execution_count": 44,
   "metadata": {
    "pycharm": {
     "name": "#%%\n"
    }
   },
   "outputs": [
    {
     "name": "stdout",
     "output_type": "stream",
     "text": [
      "Total amount of rows: 131480\n",
      "Total amount of duplicates: 15759\n",
      "New amount: 115721\n"
     ]
    }
   ],
   "source": [
    "print(f'Total amount of rows: {len(df)}\\n'\n",
    "      f'Total amount of duplicates: {len(df)-len(df.drop_duplicates())}')\n",
    "df = df.drop_duplicates()\n",
    "print(f'New amount: {len(df)}')"
   ]
  },
  {
   "cell_type": "markdown",
   "metadata": {
    "pycharm": {
     "name": "#%% md\n"
    }
   },
   "source": [
    "#### Drop useless columns\n",
    "The parsing occurred on March 29 and, accordingly, the date in the column is only 7 days. This data is useless."
   ]
  },
  {
   "cell_type": "code",
   "execution_count": 45,
   "metadata": {
    "pycharm": {
     "name": "#%%\n"
    }
   },
   "outputs": [
    {
     "name": "stdout",
     "output_type": "stream",
     "text": [
      "All days in dataset: ['29 марта' '25 марта' '23 марта' '24 марта' '26 марта' '28 марта'\n",
      " '27 марта' '30 марта']\n"
     ]
    }
   ],
   "source": [
    "print(f\"All days in dataset: {df['date'].unique()}\")\n",
    "df.drop('date', inplace=True, axis=1)"
   ]
  },
  {
   "cell_type": "markdown",
   "metadata": {
    "pycharm": {
     "name": "#%% md\n"
    }
   },
   "source": [
    "#### Drop garbage rows\n",
    "Parser may set wrong values for some columns, let's check their status."
   ]
  },
  {
   "cell_type": "code",
   "execution_count": 46,
   "metadata": {
    "pycharm": {
     "name": "#%%\n"
    }
   },
   "outputs": [
    {
     "name": "stdout",
     "output_type": "stream",
     "text": [
      "Manufacturer: OK\n",
      "['Renault' 'ВАЗ (Lada)' 'Chevrolet' 'Kia' 'Toyota' 'Nissan' 'Opel'\n",
      " 'Hyundai' 'ГАЗ' 'Daewoo' 'Skoda' 'Mitsubishi' 'Volkswagen' 'Lexus'\n",
      " 'Geely' 'УАЗ' 'SsangYong' 'Mercedes-Benz' 'Ford' 'BMW' 'Audi' 'Changan'\n",
      " 'Subaru' 'FAW' 'Great Wall' 'Porsche' 'Mazda' 'Honda' 'Москвич'\n",
      " 'Infiniti' 'Suzuki' 'Haval' 'Land Rover' 'Ravon' 'Dodge' 'Mini' 'Peugeot'\n",
      " 'JAC' 'ЗАЗ' 'Derways' 'Foton' 'ИЖ' 'Fiat' 'Lincoln' 'Lifan' 'Jaguar'\n",
      " 'Chery' 'Datsun' 'Daihatsu' 'Citroen' 'Chrysler' 'Volvo' 'Isuzu' 'Seat'\n",
      " 'Cadillac' 'Jeep' 'GMC' 'Hummer' 'Alfa Romeo' 'MG' 'ЛуАЗ' 'DongFeng'\n",
      " 'Acura' 'Pontiac' 'Shuanghuan' 'Bentley' 'Saab' 'ТагАЗ' 'Tianma' 'BYD'\n",
      " 'Ретро-автомобили' 'Hafei' 'ЗиЛ' 'Lancia' 'ZX' 'Rover' 'ВИС' 'Haima'\n",
      " 'Smart' 'Maserati' 'Wuling' 'Genesis' 'Jin' 'GAC' 'Tesla' 'РАФ' 'Gonow'\n",
      " 'Dacia' 'Iran Khodro' 'Mercedes-Maybach' 'Rolls-Royce' 'Buick' 'Scion'\n",
      " 'Mercury' 'Aston Martin' 'BAIC' 'Maybach' 'Ferrari' 'Dayun' 'Lamborghini'\n",
      " 'Puch' 'Huanghai' 'BAW' 'Mahindra' 'Tianye']\n",
      "\n",
      "Model: OK\n",
      "['Megane' '2131 (5-ти дверный)' 'Orlando' ... 'Hover H5' 'ZS' 'Alsvin']\n",
      "\n",
      "Price: OK\n",
      "['1 800 000' '1 055 000' '8 000 000' ... '31 780 000' '1 748 000'\n",
      " '5 200 066']\n",
      "\n",
      "Year: OK\n",
      "[2004 2013 2018 1994 2005 2014 1997 2012 2010 1996 2020 2007 2011 2021\n",
      " 1995 2008 2006 2016 2022 2017 2000 2001 2015 1990 1992 1993 1999 1988\n",
      " 1998 2019 2009 2002 2003 1991 1953 1959 1978 1989 1987 1981 1986 1980\n",
      " 1975 1985 1984 1983 1977 1976 1982 1969 1967 1963 1971 1957 1965 1973\n",
      " 1966 1972 1974 1954 1968 1960 1958 1970 1950 1964 1962 1961 1979 1952\n",
      " 1956 1955 1947 1951 1945 1949 1946 1943 1944]\n",
      "\n",
      "Body: BAD\n",
      "['седан' 'внедорожник' 'минивэн' 'хэтчбек' 'универсал' 'фургон'\n",
      " 'кроссовер' 'лифтбек' 'пикап' 'микроавтобус' 'купе' 'родстер' 'микровэн'\n",
      " 'лимузин' 'кабриолет' 'хардтоп' 'тарга' 'фастбек' 'л']\n",
      "\n",
      "Engine volume: BAD\n",
      "['1.4' '1.8' '1.6' '2.5' '3' '4.5' '2' '1.5' '2.7' '2.9' '0.8' '2.4' '1.7'\n",
      " '4.6' '2.3' '3.5' '2.8' '4' '1.3' '4.7' '5.5' '2.2' '1.1' '3.6' '3.3'\n",
      " '3.2' '2.6' '2.1' '4.4' '5.7' '1.2' '1.9' '6' '3.4' '4.8' '5' '4.3' '5.6'\n",
      " '3.8' '1' '5.4' '4.2' '3.7' '3.1' '6.2' 'электричество' '6.3' '3.9' '5.3'\n",
      " '8.5' '0.7' 'бензин' '0.9' '6.5' '9.9' '7.7' '1.69' '0.6' '6.1' '5.9'\n",
      " 'газ' '8.8' '0.2' '4.9' '5.2' '8.3' '6.8' '9' '5.8' '0.1' '6.6' '7.4'\n",
      " '6.7' '8.2' '6.4' '4.497' '8.1' '2.99' '7.3' '2.01' 'дизель' '8' 2.7 1.6\n",
      " 2.0 1.4 4.0 1.8 2.5 1.5 4.5 1.7 5.7 2.6 4.7 3.0 2.9 2.3 2.4 4.6 3.2 3.5\n",
      " 2.8 1.3 2.2 1.9 3.3 1.2 0.8 5.4 5.5 5.0 5.6 4.4 3.6 4.3 3.7 3.4 0.2]\n",
      "\n",
      "Fuel type: BAD\n",
      "['бензин' 'газ-бензин' 'дизель' 'гибрид' 'газ' 'КПП автомат'\n",
      " 'электричество' 'КПП механика' 'правый руль']\n",
      "\n",
      "Transmission: BAD\n",
      "['механика' 'автомат' 'вариатор' 'робот' 'руль' 'пробегом 100 км'\n",
      " 'типтроник' 'пробегом 39 000 км' 'пробегом 24 500 км'\n",
      " 'автомобиль Победа 1953 года на ходу или обменяю на другое авто' nan\n",
      " 'пробегом 250 569 км' 'пробегом 37 000 км' 'пробегом 72 405 км'\n",
      " 'пробегом 48 500 км' 'пробегом 2 900 км' 'пробегом 36 401 км'\n",
      " 'пробегом 69 000 км' 'под реставрацию возможен варианты обмена'\n",
      " 'пробегом 20 000 км' 'пробегом 9 679 км' 'ходу' 'пробегом 2 000 км' 'км'\n",
      " 'пробегом 14 641 км' 'пробегом 4 500 км' 'пробегом 32 000 км'\n",
      " 'пробегом 21 000 км' 'пробегом 59 000 км' 'пробегом 70 км'\n",
      " 'пробегом 12 000 км'\n",
      " 'Максимальный комплектации из Японии. Все родное. Сиденье в отличном состояни...'\n",
      " 'пробегом 36 600 км' 'пробегом 24 509 км' 'пробегом 666 км'\n",
      " 'пробегом 9 486 км' '600 км' 'пробегом 130 000 км' 'пробегом 3 000 км'\n",
      " 'диски' 'пробегом 35 000 км' 'пробегом 30 606 км' 'пробегом 19 155 км'\n",
      " 'пробегом 47 706 км' 'пробегом 60 000 км' 'пробегом 69 434 км'\n",
      " 'пробегом 21 444 км' 'пробегом 8 778 км' 'пробегом 57 048 км'\n",
      " 'пробегом 48 035 км' 'пробегом 4 000 км' 'пробегом 70 000 км'\n",
      " 'пробегом 80 000 км' 'пробегом 40 000 км' 'пробегом 56 000 км'\n",
      " 'пробегом 24 000 км' 'пробегом 38 823 км' 'пробегом 16 500 км'\n",
      " 'Model S Long Range Запас хода 600 км. Разгон 0-100 км/ч 3.2...'\n",
      " 'пробегом 101 000 км' 'пробегом 240 км' 'пробегом 3 800 км'\n",
      " 'пробегом 71 000 км'\n",
      " 'абсолютно новый! Европеец! Комплектация Long Range Dual Motor...'\n",
      " 'пробегом 10 500 км' 'пробегом 13 186 км' 'пробегом 9 999 км'\n",
      " 'пробегом 48 000 км' 'пробегом 10 000 км' 'пробегом 7 000 км'\n",
      " 'пробегом 47 000 км']\n",
      "\n",
      "City: Ok\n",
      "['Актобе' 'Шалкар' 'Хромтау' 'Акраб' 'Кандыагаш' 'Степногорск'\n",
      " 'Нур-Султан (Астана)' 'Кокшетау' 'Державинск' 'Атырау' 'Кульсары'\n",
      " 'Шымкент' 'Туркестан' 'Сарыагаш' 'Махамбет' 'Доссор' 'Индерборский'\n",
      " 'Ленгер' 'Жетысай' 'Алматы' 'Капшагай' 'Талдыкорган' 'Усть-Каменогорск'\n",
      " 'Семей' 'Урджар' 'Аягоз' 'Курчатов' 'Зайсан' 'Уральск' 'Аксай' 'Балхаш'\n",
      " 'Жезказган' 'Темиртау' 'Караганда' 'Костанай' 'Лисаковск' 'Рудный'\n",
      " 'Шиели' 'Байконыр' 'Кызылорда' 'Жалагаш' 'Жосалы' 'Жанаозен' 'Актау'\n",
      " 'Бейнеу' 'Сатпаев' 'Атасу' 'Петропавловск' 'Саумалколь' 'Бишкуль'\n",
      " 'Явленка' 'Сергеевка' 'Тайынша' 'Новоишимский' 'Пресновка' 'Талшик'\n",
      " 'Булаево' 'Кишкенеколь' 'Мамлютка' 'Смирново' 'Чкалово' 'Тимирязево'\n",
      " 'Павлодар' 'Железинка' 'Кашыр' 'Экибастуз' 'Аксу' 'Успенка' 'Иртышск'\n",
      " 'Шарбакты' 'Баянаул' 'Акку' 'Черноярка' 'Актогай' 'Коктобе'\n",
      " 'Форт-Шевченко' 'Курык' 'Жетыбай' 'Шетпе' 'Акшукур' 'Жанакорган'\n",
      " 'Аральск' 'Теренозек' 'Саксаульский' 'Казалинск' 'Айтеке би' 'Житикара'\n",
      " 'Федоровка (Федоровский р-н)' 'Карабалык (Карабалыкский р-н)'\n",
      " 'Затобольск' 'Денисовка' 'Аркалык' 'Аулиеколь' 'Тобыл' 'Узунколь'\n",
      " 'Амангельды' 'Карасу' 'Тарановское' 'Аманкарагай' 'Боровской' 'Камысты'\n",
      " 'Заречное' 'Сарыколь' 'Убаганское' 'Качар' 'Караменды' 'Октябрьское'\n",
      " 'Торгай' 'Шахтинск' 'Агадырь' 'Приозерск' 'Абай (Абайский р-н)'\n",
      " 'Молодежное (Осакаровский р-н)' 'Сарань' 'Жайрем' 'Осакаровка'\n",
      " 'Сарышаган' 'Каркаралинск' 'Актогай (Актогайский район)' 'Каражал'\n",
      " 'Аксу-Аюлы' 'Габидена Мустафина' 'Топар' 'Киевка' 'Ботакара' 'Улытау'\n",
      " 'Жарык' 'Кенгирское' 'Переметное' 'Жымпиты' 'Жангала' 'Тайпак' 'Чапаев'\n",
      " 'Федоровка (Теректинский р-н)' 'Таскала' 'Дарьинское' 'Чингирлау'\n",
      " 'Казталовка' 'Жанибек' 'Акжаик' 'Жалпактал' 'Трекино' 'Тараз' 'Сарыкемер'\n",
      " 'Мерке' 'Жанатас' 'Кордай' 'Шу' 'Кулан' 'Бауыржана Момышулы' 'Мойынкум'\n",
      " 'Аса' 'Каратау' 'Саудакент' 'Акколь (Таласский р-н)' 'Толе би' 'Бурыл'\n",
      " 'Алтай' 'Риддер' 'Шемонаиха' 'Маканчи' 'Бородулиха' 'Караул' 'Калбатау'\n",
      " 'Кокпекты' 'Георгиевка' 'Акжар' 'Большенарымское' 'Глубокое' 'Самарское'\n",
      " 'Молодежный (Уланский р-н)' 'Большая Владимировка' 'Курчум' 'Серебрянск'\n",
      " 'Кабанбай (Урджарский р-н)' 'Таврическое' 'Новая Бухтарма' 'Аксуат'\n",
      " 'Жезкент' 'Кайнар' 'Теректы' 'Катон-Карагай' 'Шар' 'Новая Шульба'\n",
      " 'Верхнеберезовский' 'Турара Рыскулова' 'Кентау' 'Абай (Келесский р-н)'\n",
      " 'Казыгурт' 'Шаульдер' 'Аксукент' 'Арысь' 'Асыката' 'Темирлановка'\n",
      " 'Мырзакент' 'Шаян' 'Шардара' 'Шолаккорган' 'Карабулак' 'Атакент'\n",
      " 'Састобе' 'Аккыстау' 'Макат' 'Ганюшкино' 'Миялы'\n",
      " 'Акколь (Аккольский р-н)' 'Есиль' 'Щучинск' 'Ерейментау' 'Зеренда'\n",
      " 'Макинск' 'Аршалы' 'Атбасар' 'Степняк' 'Коргалжын' 'Астраханка'\n",
      " 'Балкашино' 'Шортанды' 'Кабанбай батыра (Целиноградский р-н)' 'Жолымбет'\n",
      " 'Талапкер' 'Шантобе' 'Джалтыр' 'Боровое' 'Жаксы' 'Косшы' 'Бестобе'\n",
      " 'Егиндыколь' 'Боралдай' 'Талгар' 'Жаркент' 'Балпык би' 'Каскелен'\n",
      " 'Байтерек' 'Узынагаш' 'Ават (Енбекшиказахский р-н)' 'Сарыозек'\n",
      " 'Панфилово (Талгарский р-н)' 'Текели' 'Шамалган' 'Уштобе' 'Сарканд'\n",
      " 'Есик' 'Чунджа' 'Ушарал' 'Отеген-Батыр' 'Карабулак (Ескельдинский р-н)'\n",
      " 'Бесагаш' 'Кендала' 'Кызылту' 'Байсерке' 'Карабулак (Талгарский р-н)'\n",
      " 'Ащибулак' 'Шелек' 'Жансугуров' 'Жетиген' 'Кыргауылды' 'Нарынкол'\n",
      " 'Кабанбай (Алакольский р-н)' 'Иргели' 'Жалкамыс' 'Кеген' 'Когалы'\n",
      " 'Баканас' 'Райымбек (Карасайский р-н)' 'Байганин' 'Мартук' 'Алга'\n",
      " 'Шубаркудук' 'Комсомольское' 'Эмба' 'Бадамша' 'Хобда']\n",
      "\n",
      "\n"
     ]
    }
   ],
   "source": [
    "print(f'Manufacturer: OK\\n{df.manufacturer.unique()}\\n\\n'\n",
    "      f'Model: OK\\n{df.model.unique()}\\n\\n'\n",
    "      f'Price: OK\\n{df.price.unique()}\\n\\n'\n",
    "      f'Year: OK\\n{df.year.unique()}\\n\\n'\n",
    "      f'Body: BAD\\n{df.body.unique()}\\n\\n'\n",
    "      f'Engine volume: BAD\\n{df.engine_volume.unique()}\\n\\n'\n",
    "      f'Fuel type: BAD\\n{df.fuel_type.unique()}\\n\\n'\n",
    "      f'Transmission: BAD\\n{df.transmission.unique()}\\n\\n'\n",
    "      f'City: Ok\\n{df.city.unique()}\\n\\n')"
   ]
  },
  {
   "cell_type": "markdown",
   "metadata": {
    "pycharm": {
     "name": "#%% md\n"
    }
   },
   "source": [
    "As we can see engine_volume, body, fuel_type, transmission columns has some garbage rows, we will delete them."
   ]
  },
  {
   "cell_type": "code",
   "execution_count": 47,
   "metadata": {
    "pycharm": {
     "name": "#%%\n"
    }
   },
   "outputs": [],
   "source": [
    "df['engine_volume'] = df['engine_volume'].astype(str)\n",
    "df['engine_volume'] = df['engine_volume'].apply(lambda x: None if x in ['газ', 'бензин', 'электричество'] else x)\n",
    "df['body'] = df['body'].apply(lambda x: None if x.strip()=='л' else x)\n",
    "df['fuel_type'] = df['fuel_type'].apply(lambda x: None if x in ['КПП Автомат', 'КПП механика', 'правый руль'] else x)\n",
    "df['transmission'] = df['transmission'].apply(lambda x: x if x in ['механика', 'автомат', 'вариатор', 'робот'] else None)\n",
    "df.dropna(inplace=True)"
   ]
  },
  {
   "cell_type": "markdown",
   "metadata": {
    "pycharm": {
     "name": "#%% md\n"
    }
   },
   "source": [
    "Now these columns are good to go."
   ]
  },
  {
   "cell_type": "code",
   "execution_count": 48,
   "metadata": {
    "pycharm": {
     "name": "#%%\n"
    }
   },
   "outputs": [
    {
     "name": "stdout",
     "output_type": "stream",
     "text": [
      "Body: OK\n",
      "['седан' 'внедорожник' 'минивэн' 'хэтчбек' 'универсал' 'фургон'\n",
      " 'кроссовер' 'лифтбек' 'пикап' 'микроавтобус' 'купе' 'родстер' 'микровэн'\n",
      " 'лимузин' 'кабриолет' 'хардтоп' 'фастбек' 'тарга']\n",
      "\n",
      "Engine volume: OK\n",
      "['1.4' '1.8' '1.6' '2.5' '3' '4.5' '2' '1.5' '2.7' '2.9' '0.8' '2.4' '1.7'\n",
      " '4.6' '2.3' '3.5' '2.8' '4' '1.3' '4.7' '5.5' '2.2' '1.1' '3.6' '3.3'\n",
      " '3.2' '2.6' '2.1' '4.4' '5.7' '1.2' '1.9' '6' '3.4' '4.8' '5' '4.3' '5.6'\n",
      " '3.8' '1' '5.4' '4.2' '3.7' '3.1' '6.2' '6.3' '3.9' '5.3' '8.5' '0.7'\n",
      " '0.9' '6.5' '9.9' '7.7' '1.69' '0.6' '6.1' '5.9' '0.2' '4.9' '5.2' '8.3'\n",
      " '6.8' '9' '5.8' '0.1' '6.6' '7.4' '6.7' '8.2' '6.4' '4.497' '8.1' '2.99'\n",
      " '7.3' '2.01' '8' '2.0' '4.0' '3.0' '5.0']\n",
      "\n",
      "Fuel type: OK\n",
      "['бензин' 'газ-бензин' 'дизель' 'гибрид' 'газ' 'электричество']\n",
      "\n",
      "Transmission: OK\n",
      "['механика' 'автомат' 'вариатор' 'робот']\n",
      "\n",
      "\n"
     ]
    }
   ],
   "source": [
    "print(f'Body: OK\\n{df.body.unique()}\\n\\n'\n",
    "      f'Engine volume: OK\\n{df.engine_volume.unique()}\\n\\n'\n",
    "      f'Fuel type: OK\\n{df.fuel_type.unique()}\\n\\n'\n",
    "      f'Transmission: OK\\n{df.transmission.unique()}\\n\\n')"
   ]
  },
  {
   "cell_type": "markdown",
   "metadata": {
    "pycharm": {
     "name": "#%% md\n"
    }
   },
   "source": [
    "As the result of data cleaning:\n",
    "Rows amount at the start: 131480\n",
    "Rows amount after duplicates removed: 115721\n",
    "Rows amount after garbage rows are removed: 109483"
   ]
  },
  {
   "cell_type": "code",
   "execution_count": 49,
   "metadata": {
    "pycharm": {
     "name": "#%%\n"
    }
   },
   "outputs": [
    {
     "data": {
      "text/plain": "       manufacturer                model       price  year         body  \\\n0           Renault               Megane   1 800 000  2004        седан   \n1        ВАЗ (Lada)  2131 (5-ти дверный)   1 055 000  2004  внедорожник   \n2         Chevrolet              Orlando   8 000 000  2013      минивэн   \n3               Kia                Cee’d   6 300 000  2013      хэтчбек   \n4            Toyota                Camry  17 000 000  2018        седан   \n...             ...                  ...         ...   ...          ...   \n131474   ВАЗ (Lada)  Priora 2170 (седан)   2 700 000  2013        седан   \n131476          BMW                  320   3 600 000  2002        седан   \n131477          ГАЗ               ГАЗель   6 700 000  2013        пикап   \n131478   ВАЗ (Lada)  Priora 2170 (седан)   3 200 000  2014        седан   \n131479   ВАЗ (Lada)  Priora 2170 (седан)   3 000 000  2014        седан   \n\n       engine_volume   fuel_type transmission    city  \n0                1.4      бензин     механика  Актобе  \n1                1.8      бензин     механика  Актобе  \n2                1.8      бензин      автомат  Актобе  \n3                1.6      бензин      автомат  Актобе  \n4                2.5      бензин      автомат  Актобе  \n...              ...         ...          ...     ...  \n131474           1.6      бензин     механика  Актобе  \n131476           2.2      бензин      автомат  Актобе  \n131477           2.9  газ-бензин     механика  Актобе  \n131478           1.6      бензин     механика  Актобе  \n131479           1.6      бензин     механика  Актобе  \n\n[109483 rows x 9 columns]",
      "text/html": "<div>\n<style scoped>\n    .dataframe tbody tr th:only-of-type {\n        vertical-align: middle;\n    }\n\n    .dataframe tbody tr th {\n        vertical-align: top;\n    }\n\n    .dataframe thead th {\n        text-align: right;\n    }\n</style>\n<table border=\"1\" class=\"dataframe\">\n  <thead>\n    <tr style=\"text-align: right;\">\n      <th></th>\n      <th>manufacturer</th>\n      <th>model</th>\n      <th>price</th>\n      <th>year</th>\n      <th>body</th>\n      <th>engine_volume</th>\n      <th>fuel_type</th>\n      <th>transmission</th>\n      <th>city</th>\n    </tr>\n  </thead>\n  <tbody>\n    <tr>\n      <th>0</th>\n      <td>Renault</td>\n      <td>Megane</td>\n      <td>1 800 000</td>\n      <td>2004</td>\n      <td>седан</td>\n      <td>1.4</td>\n      <td>бензин</td>\n      <td>механика</td>\n      <td>Актобе</td>\n    </tr>\n    <tr>\n      <th>1</th>\n      <td>ВАЗ (Lada)</td>\n      <td>2131 (5-ти дверный)</td>\n      <td>1 055 000</td>\n      <td>2004</td>\n      <td>внедорожник</td>\n      <td>1.8</td>\n      <td>бензин</td>\n      <td>механика</td>\n      <td>Актобе</td>\n    </tr>\n    <tr>\n      <th>2</th>\n      <td>Chevrolet</td>\n      <td>Orlando</td>\n      <td>8 000 000</td>\n      <td>2013</td>\n      <td>минивэн</td>\n      <td>1.8</td>\n      <td>бензин</td>\n      <td>автомат</td>\n      <td>Актобе</td>\n    </tr>\n    <tr>\n      <th>3</th>\n      <td>Kia</td>\n      <td>Cee’d</td>\n      <td>6 300 000</td>\n      <td>2013</td>\n      <td>хэтчбек</td>\n      <td>1.6</td>\n      <td>бензин</td>\n      <td>автомат</td>\n      <td>Актобе</td>\n    </tr>\n    <tr>\n      <th>4</th>\n      <td>Toyota</td>\n      <td>Camry</td>\n      <td>17 000 000</td>\n      <td>2018</td>\n      <td>седан</td>\n      <td>2.5</td>\n      <td>бензин</td>\n      <td>автомат</td>\n      <td>Актобе</td>\n    </tr>\n    <tr>\n      <th>...</th>\n      <td>...</td>\n      <td>...</td>\n      <td>...</td>\n      <td>...</td>\n      <td>...</td>\n      <td>...</td>\n      <td>...</td>\n      <td>...</td>\n      <td>...</td>\n    </tr>\n    <tr>\n      <th>131474</th>\n      <td>ВАЗ (Lada)</td>\n      <td>Priora 2170 (седан)</td>\n      <td>2 700 000</td>\n      <td>2013</td>\n      <td>седан</td>\n      <td>1.6</td>\n      <td>бензин</td>\n      <td>механика</td>\n      <td>Актобе</td>\n    </tr>\n    <tr>\n      <th>131476</th>\n      <td>BMW</td>\n      <td>320</td>\n      <td>3 600 000</td>\n      <td>2002</td>\n      <td>седан</td>\n      <td>2.2</td>\n      <td>бензин</td>\n      <td>автомат</td>\n      <td>Актобе</td>\n    </tr>\n    <tr>\n      <th>131477</th>\n      <td>ГАЗ</td>\n      <td>ГАЗель</td>\n      <td>6 700 000</td>\n      <td>2013</td>\n      <td>пикап</td>\n      <td>2.9</td>\n      <td>газ-бензин</td>\n      <td>механика</td>\n      <td>Актобе</td>\n    </tr>\n    <tr>\n      <th>131478</th>\n      <td>ВАЗ (Lada)</td>\n      <td>Priora 2170 (седан)</td>\n      <td>3 200 000</td>\n      <td>2014</td>\n      <td>седан</td>\n      <td>1.6</td>\n      <td>бензин</td>\n      <td>механика</td>\n      <td>Актобе</td>\n    </tr>\n    <tr>\n      <th>131479</th>\n      <td>ВАЗ (Lada)</td>\n      <td>Priora 2170 (седан)</td>\n      <td>3 000 000</td>\n      <td>2014</td>\n      <td>седан</td>\n      <td>1.6</td>\n      <td>бензин</td>\n      <td>механика</td>\n      <td>Актобе</td>\n    </tr>\n  </tbody>\n</table>\n<p>109483 rows × 9 columns</p>\n</div>"
     },
     "execution_count": 49,
     "metadata": {},
     "output_type": "execute_result"
    }
   ],
   "source": [
    "df"
   ]
  },
  {
   "cell_type": "markdown",
   "metadata": {
    "pycharm": {
     "name": "#%% md\n"
    }
   },
   "source": [
    "## III. Data preparation\n",
    "Only \"year\" columns has appropriate type. So we will cast each of other columns."
   ]
  },
  {
   "cell_type": "code",
   "execution_count": 50,
   "metadata": {
    "pycharm": {
     "name": "#%%\n"
    }
   },
   "outputs": [
    {
     "data": {
      "text/plain": "manufacturer     object\nmodel            object\nprice            object\nyear              int64\nbody             object\nengine_volume    object\nfuel_type        object\ntransmission     object\ncity             object\ndtype: object"
     },
     "execution_count": 50,
     "metadata": {},
     "output_type": "execute_result"
    }
   ],
   "source": [
    "df.dtypes"
   ]
  },
  {
   "cell_type": "markdown",
   "metadata": {
    "pycharm": {
     "name": "#%% md\n"
    }
   },
   "source": [
    "We will give columns consisting of digits the correct types"
   ]
  },
  {
   "cell_type": "code",
   "execution_count": 51,
   "metadata": {
    "pycharm": {
     "name": "#%%\n"
    }
   },
   "outputs": [],
   "source": [
    "df['price'] = df['price'].apply(lambda x: x.replace(' ', '')).astype(int)\n",
    "df['engine_volume'] = df['engine_volume'].astype(float)"
   ]
  },
  {
   "cell_type": "markdown",
   "source": [
    "Transmission and fuel type has few categories, so we will turn them into binary columns"
   ],
   "metadata": {
    "collapsed": false,
    "pycharm": {
     "name": "#%% md\n"
    }
   }
  },
  {
   "cell_type": "code",
   "execution_count": 52,
   "metadata": {
    "pycharm": {
     "name": "#%%\n"
    }
   },
   "outputs": [],
   "source": [
    "df = df.join(pd.get_dummies(df.transmission))\n",
    "df = df.join(pd.get_dummies(df.fuel_type))\n",
    "df = df.join(pd.get_dummies(df.body))"
   ]
  },
  {
   "cell_type": "markdown",
   "source": [
    "Turn big categorical columns to numbers, where 0 is the cheapest category."
   ],
   "metadata": {
    "collapsed": false,
    "pycharm": {
     "name": "#%% md\n"
    }
   }
  },
  {
   "cell_type": "code",
   "execution_count": 53,
   "outputs": [],
   "source": [
    "for col in ['manufacturer', 'model', 'city']:\n",
    "      ordered_dict = {\n",
    "            d:i for i,d in enumerate(dict(sorted({c:df[df[col]==c].price.mean() for c in df[col].unique()}.items(), key=lambda item: item[1])[::-1]))\n",
    "      }\n",
    "      df[col] = df[col].apply(lambda x: ordered_dict[x]).astype(int)"
   ],
   "metadata": {
    "collapsed": false,
    "pycharm": {
     "name": "#%%\n"
    }
   }
  },
  {
   "cell_type": "markdown",
   "source": [
    "We don't want to overfit our model with many columns, so we can not just make dummy values from columns as manufacturer, model, body, city. We will drop them."
   ],
   "metadata": {
    "collapsed": false,
    "pycharm": {
     "name": "#%% md\n"
    }
   }
  },
  {
   "cell_type": "code",
   "execution_count": 54,
   "outputs": [
    {
     "data": {
      "text/plain": "        manufacturer  model     price  year  engine_volume  city  автомат  \\\n0                 35   1284   1800000  2004            1.4    11        0   \n1                 77   1225   1055000  2004            1.8    11        0   \n2                 36    801   8000000  2013            1.8    11        1   \n3                 29    758   6300000  2013            1.6    11        1   \n4                 21    608  17000000  2018            2.5    11        1   \n...              ...    ...       ...   ...            ...   ...      ...   \n131474            77   1179   2700000  2013            1.6    11        0   \n131476            34   1256   3600000  2002            2.2    11        1   \n131477            50    931   6700000  2013            2.9    11        0   \n131478            77   1179   3200000  2014            1.6    11        0   \n131479            77   1179   3000000  2014            1.6    11        0   \n\n        вариатор  механика  робот  ...  минивэн  пикап  родстер  седан  тарга  \\\n0              0         1      0  ...        0      0        0      1      0   \n1              0         1      0  ...        0      0        0      0      0   \n2              0         0      0  ...        1      0        0      0      0   \n3              0         0      0  ...        0      0        0      0      0   \n4              0         0      0  ...        0      0        0      1      0   \n...          ...       ...    ...  ...      ...    ...      ...    ...    ...   \n131474         0         1      0  ...        0      0        0      1      0   \n131476         0         0      0  ...        0      0        0      1      0   \n131477         0         1      0  ...        0      1        0      0      0   \n131478         0         1      0  ...        0      0        0      1      0   \n131479         0         1      0  ...        0      0        0      1      0   \n\n        универсал  фастбек  фургон  хардтоп  хэтчбек  \n0               0        0       0        0        0  \n1               0        0       0        0        0  \n2               0        0       0        0        0  \n3               0        0       0        0        1  \n4               0        0       0        0        0  \n...           ...      ...     ...      ...      ...  \n131474          0        0       0        0        0  \n131476          0        0       0        0        0  \n131477          0        0       0        0        0  \n131478          0        0       0        0        0  \n131479          0        0       0        0        0  \n\n[109483 rows x 34 columns]",
      "text/html": "<div>\n<style scoped>\n    .dataframe tbody tr th:only-of-type {\n        vertical-align: middle;\n    }\n\n    .dataframe tbody tr th {\n        vertical-align: top;\n    }\n\n    .dataframe thead th {\n        text-align: right;\n    }\n</style>\n<table border=\"1\" class=\"dataframe\">\n  <thead>\n    <tr style=\"text-align: right;\">\n      <th></th>\n      <th>manufacturer</th>\n      <th>model</th>\n      <th>price</th>\n      <th>year</th>\n      <th>engine_volume</th>\n      <th>city</th>\n      <th>автомат</th>\n      <th>вариатор</th>\n      <th>механика</th>\n      <th>робот</th>\n      <th>...</th>\n      <th>минивэн</th>\n      <th>пикап</th>\n      <th>родстер</th>\n      <th>седан</th>\n      <th>тарга</th>\n      <th>универсал</th>\n      <th>фастбек</th>\n      <th>фургон</th>\n      <th>хардтоп</th>\n      <th>хэтчбек</th>\n    </tr>\n  </thead>\n  <tbody>\n    <tr>\n      <th>0</th>\n      <td>35</td>\n      <td>1284</td>\n      <td>1800000</td>\n      <td>2004</td>\n      <td>1.4</td>\n      <td>11</td>\n      <td>0</td>\n      <td>0</td>\n      <td>1</td>\n      <td>0</td>\n      <td>...</td>\n      <td>0</td>\n      <td>0</td>\n      <td>0</td>\n      <td>1</td>\n      <td>0</td>\n      <td>0</td>\n      <td>0</td>\n      <td>0</td>\n      <td>0</td>\n      <td>0</td>\n    </tr>\n    <tr>\n      <th>1</th>\n      <td>77</td>\n      <td>1225</td>\n      <td>1055000</td>\n      <td>2004</td>\n      <td>1.8</td>\n      <td>11</td>\n      <td>0</td>\n      <td>0</td>\n      <td>1</td>\n      <td>0</td>\n      <td>...</td>\n      <td>0</td>\n      <td>0</td>\n      <td>0</td>\n      <td>0</td>\n      <td>0</td>\n      <td>0</td>\n      <td>0</td>\n      <td>0</td>\n      <td>0</td>\n      <td>0</td>\n    </tr>\n    <tr>\n      <th>2</th>\n      <td>36</td>\n      <td>801</td>\n      <td>8000000</td>\n      <td>2013</td>\n      <td>1.8</td>\n      <td>11</td>\n      <td>1</td>\n      <td>0</td>\n      <td>0</td>\n      <td>0</td>\n      <td>...</td>\n      <td>1</td>\n      <td>0</td>\n      <td>0</td>\n      <td>0</td>\n      <td>0</td>\n      <td>0</td>\n      <td>0</td>\n      <td>0</td>\n      <td>0</td>\n      <td>0</td>\n    </tr>\n    <tr>\n      <th>3</th>\n      <td>29</td>\n      <td>758</td>\n      <td>6300000</td>\n      <td>2013</td>\n      <td>1.6</td>\n      <td>11</td>\n      <td>1</td>\n      <td>0</td>\n      <td>0</td>\n      <td>0</td>\n      <td>...</td>\n      <td>0</td>\n      <td>0</td>\n      <td>0</td>\n      <td>0</td>\n      <td>0</td>\n      <td>0</td>\n      <td>0</td>\n      <td>0</td>\n      <td>0</td>\n      <td>1</td>\n    </tr>\n    <tr>\n      <th>4</th>\n      <td>21</td>\n      <td>608</td>\n      <td>17000000</td>\n      <td>2018</td>\n      <td>2.5</td>\n      <td>11</td>\n      <td>1</td>\n      <td>0</td>\n      <td>0</td>\n      <td>0</td>\n      <td>...</td>\n      <td>0</td>\n      <td>0</td>\n      <td>0</td>\n      <td>1</td>\n      <td>0</td>\n      <td>0</td>\n      <td>0</td>\n      <td>0</td>\n      <td>0</td>\n      <td>0</td>\n    </tr>\n    <tr>\n      <th>...</th>\n      <td>...</td>\n      <td>...</td>\n      <td>...</td>\n      <td>...</td>\n      <td>...</td>\n      <td>...</td>\n      <td>...</td>\n      <td>...</td>\n      <td>...</td>\n      <td>...</td>\n      <td>...</td>\n      <td>...</td>\n      <td>...</td>\n      <td>...</td>\n      <td>...</td>\n      <td>...</td>\n      <td>...</td>\n      <td>...</td>\n      <td>...</td>\n      <td>...</td>\n      <td>...</td>\n    </tr>\n    <tr>\n      <th>131474</th>\n      <td>77</td>\n      <td>1179</td>\n      <td>2700000</td>\n      <td>2013</td>\n      <td>1.6</td>\n      <td>11</td>\n      <td>0</td>\n      <td>0</td>\n      <td>1</td>\n      <td>0</td>\n      <td>...</td>\n      <td>0</td>\n      <td>0</td>\n      <td>0</td>\n      <td>1</td>\n      <td>0</td>\n      <td>0</td>\n      <td>0</td>\n      <td>0</td>\n      <td>0</td>\n      <td>0</td>\n    </tr>\n    <tr>\n      <th>131476</th>\n      <td>34</td>\n      <td>1256</td>\n      <td>3600000</td>\n      <td>2002</td>\n      <td>2.2</td>\n      <td>11</td>\n      <td>1</td>\n      <td>0</td>\n      <td>0</td>\n      <td>0</td>\n      <td>...</td>\n      <td>0</td>\n      <td>0</td>\n      <td>0</td>\n      <td>1</td>\n      <td>0</td>\n      <td>0</td>\n      <td>0</td>\n      <td>0</td>\n      <td>0</td>\n      <td>0</td>\n    </tr>\n    <tr>\n      <th>131477</th>\n      <td>50</td>\n      <td>931</td>\n      <td>6700000</td>\n      <td>2013</td>\n      <td>2.9</td>\n      <td>11</td>\n      <td>0</td>\n      <td>0</td>\n      <td>1</td>\n      <td>0</td>\n      <td>...</td>\n      <td>0</td>\n      <td>1</td>\n      <td>0</td>\n      <td>0</td>\n      <td>0</td>\n      <td>0</td>\n      <td>0</td>\n      <td>0</td>\n      <td>0</td>\n      <td>0</td>\n    </tr>\n    <tr>\n      <th>131478</th>\n      <td>77</td>\n      <td>1179</td>\n      <td>3200000</td>\n      <td>2014</td>\n      <td>1.6</td>\n      <td>11</td>\n      <td>0</td>\n      <td>0</td>\n      <td>1</td>\n      <td>0</td>\n      <td>...</td>\n      <td>0</td>\n      <td>0</td>\n      <td>0</td>\n      <td>1</td>\n      <td>0</td>\n      <td>0</td>\n      <td>0</td>\n      <td>0</td>\n      <td>0</td>\n      <td>0</td>\n    </tr>\n    <tr>\n      <th>131479</th>\n      <td>77</td>\n      <td>1179</td>\n      <td>3000000</td>\n      <td>2014</td>\n      <td>1.6</td>\n      <td>11</td>\n      <td>0</td>\n      <td>0</td>\n      <td>1</td>\n      <td>0</td>\n      <td>...</td>\n      <td>0</td>\n      <td>0</td>\n      <td>0</td>\n      <td>1</td>\n      <td>0</td>\n      <td>0</td>\n      <td>0</td>\n      <td>0</td>\n      <td>0</td>\n      <td>0</td>\n    </tr>\n  </tbody>\n</table>\n<p>109483 rows × 34 columns</p>\n</div>"
     },
     "execution_count": 54,
     "metadata": {},
     "output_type": "execute_result"
    }
   ],
   "source": [
    "df_num = df.drop(['fuel_type', 'transmission', 'body'], axis=1)\n",
    "df_num"
   ],
   "metadata": {
    "collapsed": false,
    "pycharm": {
     "name": "#%%\n"
    }
   }
  },
  {
   "cell_type": "markdown",
   "source": [
    "At the end, we have ready for regression, filled only with numeric values dataframe"
   ],
   "metadata": {
    "collapsed": false,
    "pycharm": {
     "name": "#%% md\n"
    }
   }
  },
  {
   "cell_type": "code",
   "execution_count": 55,
   "outputs": [
    {
     "data": {
      "text/plain": "manufacturer       int64\nmodel              int64\nprice              int64\nyear               int64\nengine_volume    float64\ncity               int64\nавтомат            uint8\nвариатор           uint8\nмеханика           uint8\nробот              uint8\nбензин             uint8\nгаз                uint8\nгаз-бензин         uint8\nгибрид             uint8\nдизель             uint8\nэлектричество      uint8\nвнедорожник        uint8\nкабриолет          uint8\nкроссовер          uint8\nкупе               uint8\nлимузин            uint8\nлифтбек            uint8\nмикроавтобус       uint8\nмикровэн           uint8\nминивэн            uint8\nпикап              uint8\nродстер            uint8\nседан              uint8\nтарга              uint8\nуниверсал          uint8\nфастбек            uint8\nфургон             uint8\nхардтоп            uint8\nхэтчбек            uint8\ndtype: object"
     },
     "execution_count": 55,
     "metadata": {},
     "output_type": "execute_result"
    }
   ],
   "source": [
    "df_num.dtypes"
   ],
   "metadata": {
    "collapsed": false,
    "pycharm": {
     "name": "#%%\n"
    }
   }
  },
  {
   "cell_type": "markdown",
   "metadata": {
    "pycharm": {
     "name": "#%% md\n"
    }
   },
   "source": [
    "## IV. Regression"
   ]
  },
  {
   "cell_type": "code",
   "execution_count": 56,
   "metadata": {
    "pycharm": {
     "name": "#%%\n"
    }
   },
   "outputs": [],
   "source": [
    "y = df_num.price\n",
    "df_num.drop(['price'], axis=1, inplace=True)\n",
    "X = df_num\n",
    "X_train, X_test, y_train, y_test = train_test_split(X, y, test_size=0.25, random_state=2)\n",
    "model_metrics = {}"
   ]
  },
  {
   "cell_type": "code",
   "execution_count": 57,
   "outputs": [
    {
     "name": "stdout",
     "output_type": "stream",
     "text": [
      "[0.547986670824313, 3090033.0111851012, 29487790776800.92]\n"
     ]
    }
   ],
   "source": [
    "model = LinearRegression()\n",
    "model.fit(X_train,y_train)\n",
    "pred = model.predict(X_test)\n",
    "\n",
    "model_metrics['LinearRegression'] = [\n",
    "      r2_score(y_test, pred),\n",
    "      mean_absolute_error(y_test,pred),\n",
    "      mean_squared_error(y_test,pred)\n",
    "]\n",
    "print([x for x in model_metrics['LinearRegression']])"
   ],
   "metadata": {
    "collapsed": false,
    "pycharm": {
     "name": "#%%\n"
    }
   }
  },
  {
   "cell_type": "markdown",
   "source": [
    "> Elastic net linear regression uses the penalties from both the lasso and ridge techniques to regularize regression models. The technique combines both the lasso and ridge regression methods by learning from their shortcomings to improve the regularization of statistical models."
   ],
   "metadata": {
    "collapsed": false
   }
  },
  {
   "cell_type": "code",
   "execution_count": 58,
   "outputs": [
    {
     "name": "stdout",
     "output_type": "stream",
     "text": [
      "[0.5237759117084329, 3183012.2085543023, 31067217208004.926]\n"
     ]
    }
   ],
   "source": [
    "model = ElasticNet()\n",
    "model.fit(X_train,y_train)\n",
    "pred = model.predict(X_test)\n",
    "\n",
    "model_metrics['ElasticNet'] = [\n",
    "      r2_score(y_test, pred),\n",
    "      mean_absolute_error(y_test,pred),\n",
    "      mean_squared_error(y_test,pred)\n",
    "]\n",
    "print([x for x in model_metrics['ElasticNet']])"
   ],
   "metadata": {
    "collapsed": false,
    "pycharm": {
     "name": "#%%\n"
    }
   }
  },
  {
   "cell_type": "markdown",
   "source": [
    ">Bayesian regression allows a natural mechanism to survive insufficient data or poorly distributed data by formulating linear regression using probability distributors rather than point estimates. The output or response 'y' is assumed to drawn from a probability distribution rather than estimated as a single value."
   ],
   "metadata": {
    "collapsed": false,
    "pycharm": {
     "name": "#%% md\n"
    }
   }
  },
  {
   "cell_type": "code",
   "execution_count": 59,
   "outputs": [
    {
     "name": "stdout",
     "output_type": "stream",
     "text": [
      "[0.5480913285308149, 3089429.8515056954, 29480963268952.562]\n"
     ]
    }
   ],
   "source": [
    "model = BayesianRidge()\n",
    "model.fit(X_train,y_train)\n",
    "pred = model.predict(X_test)\n",
    "\n",
    "model_metrics['BayesianRidge'] = [\n",
    "      r2_score(y_test, pred),\n",
    "      mean_absolute_error(y_test,pred),\n",
    "      mean_squared_error(y_test,pred)\n",
    "]\n",
    "print([x for x in model_metrics['BayesianRidge']])"
   ],
   "metadata": {
    "collapsed": false,
    "pycharm": {
     "name": "#%%\n"
    }
   }
  },
  {
   "cell_type": "markdown",
   "source": [
    ">Gradient boosting is a type of machine learning boosting. It relies on the intuition that the best possible next model, when combined with previous models, minimizes the overall prediction error. The key idea is to set the target outcomes for this next model in order to minimize the error."
   ],
   "metadata": {
    "collapsed": false,
    "pycharm": {
     "name": "#%% md\n"
    }
   }
  },
  {
   "cell_type": "code",
   "execution_count": 60,
   "outputs": [
    {
     "name": "stdout",
     "output_type": "stream",
     "text": [
      "[0.8994483670105351, 1150147.5050085294, 6559641772657.923]\n"
     ]
    }
   ],
   "source": [
    "model = GradientBoostingRegressor()\n",
    "model.fit(X_train,y_train)\n",
    "pred = model.predict(X_test)\n",
    "\n",
    "model_metrics['GradientBoostingRegressor'] = [\n",
    "      r2_score(y_test, pred),\n",
    "      mean_absolute_error(y_test,pred),\n",
    "      mean_squared_error(y_test,pred)\n",
    "]\n",
    "print([x for x in model_metrics['GradientBoostingRegressor']])"
   ],
   "metadata": {
    "collapsed": false,
    "pycharm": {
     "name": "#%%\n"
    }
   }
  },
  {
   "cell_type": "markdown",
   "source": [
    ">Light GBM grows tree vertically while other algorithm grows trees horizontally meaning that Light GBM grows tree leaf-wise while other algorithm grows level-wise. It will choose the leaf with max delta loss to grow. When growing the same leaf, Leaf-wise algorithm can reduce more loss than a level-wise algorithm."
   ],
   "metadata": {
    "collapsed": false,
    "pycharm": {
     "name": "#%% md\n"
    }
   }
  },
  {
   "cell_type": "code",
   "execution_count": 61,
   "outputs": [
    {
     "name": "stdout",
     "output_type": "stream",
     "text": [
      "[0.9489350094239876, 866890.9777756706, 3331303881836.407]\n"
     ]
    }
   ],
   "source": [
    "model = LGBMRegressor()\n",
    "model.fit(X_train,y_train)\n",
    "pred = model.predict(X_test)\n",
    "\n",
    "model_metrics['LGBMRegressor'] = [\n",
    "      r2_score(y_test, pred),\n",
    "      mean_absolute_error(y_test,pred),\n",
    "      mean_squared_error(y_test,pred)\n",
    "]\n",
    "print([x for x in model_metrics['LGBMRegressor']])"
   ],
   "metadata": {
    "collapsed": false,
    "pycharm": {
     "name": "#%%\n"
    }
   }
  },
  {
   "cell_type": "code",
   "execution_count": 62,
   "outputs": [
    {
     "name": "stdout",
     "output_type": "stream",
     "text": [
      "[0.9570128284387328, 780635.5275361297, 2804334826578.5474]\n"
     ]
    }
   ],
   "source": [
    "model = XGBRegressor()\n",
    "model.fit(X_train,y_train)\n",
    "pred = model.predict(X_test)\n",
    "\n",
    "model_metrics['XGBRegressor'] = [\n",
    "      r2_score(y_test, pred),\n",
    "      mean_absolute_error(y_test,pred),\n",
    "      mean_squared_error(y_test,pred)\n",
    "]\n",
    "print([x for x in model_metrics['XGBRegressor']])"
   ],
   "metadata": {
    "collapsed": false,
    "pycharm": {
     "name": "#%%\n"
    }
   }
  },
  {
   "cell_type": "markdown",
   "source": [
    ">The main idea of boosting is to sequentially combine many weak models (a model performing slightly better than random chance) and thus through greedy search create a strong competitive predictive model."
   ],
   "metadata": {
    "collapsed": false,
    "pycharm": {
     "name": "#%% md\n"
    }
   }
  },
  {
   "cell_type": "code",
   "execution_count": 63,
   "outputs": [
    {
     "name": "stdout",
     "output_type": "stream",
     "text": [
      "Learning rate set to 0.082159\n",
      "0:\tlearn: 7733273.3536704\ttotal: 8.62ms\tremaining: 8.61s\n",
      "1:\tlearn: 7269122.4377391\ttotal: 13.4ms\tremaining: 6.7s\n",
      "2:\tlearn: 6847917.9007232\ttotal: 18.7ms\tremaining: 6.2s\n",
      "3:\tlearn: 6453576.7303569\ttotal: 24.6ms\tremaining: 6.12s\n",
      "4:\tlearn: 6099671.8672691\ttotal: 30.4ms\tremaining: 6.04s\n",
      "5:\tlearn: 5771385.5985980\ttotal: 35.3ms\tremaining: 5.86s\n",
      "6:\tlearn: 5489561.0778667\ttotal: 41.9ms\tremaining: 5.94s\n",
      "7:\tlearn: 5220905.0944556\ttotal: 50.6ms\tremaining: 6.27s\n",
      "8:\tlearn: 4981891.3497596\ttotal: 58.1ms\tremaining: 6.4s\n",
      "9:\tlearn: 4767746.1094837\ttotal: 65ms\tremaining: 6.43s\n",
      "10:\tlearn: 4576863.0044434\ttotal: 70.6ms\tremaining: 6.34s\n",
      "11:\tlearn: 4407426.4645345\ttotal: 77.7ms\tremaining: 6.39s\n",
      "12:\tlearn: 4244615.3286759\ttotal: 84ms\tremaining: 6.38s\n",
      "13:\tlearn: 4099939.8326949\ttotal: 89.2ms\tremaining: 6.28s\n",
      "14:\tlearn: 3968528.1240317\ttotal: 94.1ms\tremaining: 6.18s\n",
      "15:\tlearn: 3856862.0566667\ttotal: 98.8ms\tremaining: 6.08s\n",
      "16:\tlearn: 3751578.5956804\ttotal: 105ms\tremaining: 6.09s\n",
      "17:\tlearn: 3654506.3647349\ttotal: 112ms\tremaining: 6.08s\n",
      "18:\tlearn: 3572231.0930594\ttotal: 117ms\tremaining: 6.02s\n",
      "19:\tlearn: 3496544.9816877\ttotal: 122ms\tremaining: 5.99s\n",
      "20:\tlearn: 3425211.8168536\ttotal: 129ms\tremaining: 6.03s\n",
      "21:\tlearn: 3353626.6361191\ttotal: 136ms\tremaining: 6.04s\n",
      "22:\tlearn: 3293290.9960688\ttotal: 144ms\tremaining: 6.11s\n",
      "23:\tlearn: 3244034.2822432\ttotal: 151ms\tremaining: 6.12s\n",
      "24:\tlearn: 3198831.2608299\ttotal: 159ms\tremaining: 6.2s\n",
      "25:\tlearn: 3159019.4455272\ttotal: 168ms\tremaining: 6.28s\n",
      "26:\tlearn: 3115922.0314114\ttotal: 173ms\tremaining: 6.24s\n",
      "27:\tlearn: 3084680.9266230\ttotal: 179ms\tremaining: 6.21s\n",
      "28:\tlearn: 3052824.8347126\ttotal: 186ms\tremaining: 6.21s\n",
      "29:\tlearn: 3020255.7703390\ttotal: 192ms\tremaining: 6.19s\n",
      "30:\tlearn: 2993202.8181449\ttotal: 198ms\tremaining: 6.18s\n",
      "31:\tlearn: 2965965.2708182\ttotal: 203ms\tremaining: 6.13s\n",
      "32:\tlearn: 2941573.2821704\ttotal: 210ms\tremaining: 6.16s\n",
      "33:\tlearn: 2921216.7169928\ttotal: 216ms\tremaining: 6.13s\n",
      "34:\tlearn: 2895583.3746439\ttotal: 223ms\tremaining: 6.14s\n",
      "35:\tlearn: 2874829.7728935\ttotal: 229ms\tremaining: 6.13s\n",
      "36:\tlearn: 2856724.4228529\ttotal: 235ms\tremaining: 6.12s\n",
      "37:\tlearn: 2839294.9933090\ttotal: 241ms\tremaining: 6.11s\n",
      "38:\tlearn: 2821405.9467149\ttotal: 246ms\tremaining: 6.07s\n",
      "39:\tlearn: 2809159.3942964\ttotal: 259ms\tremaining: 6.21s\n",
      "40:\tlearn: 2790681.7720427\ttotal: 264ms\tremaining: 6.17s\n",
      "41:\tlearn: 2777906.1636139\ttotal: 270ms\tremaining: 6.16s\n",
      "42:\tlearn: 2765049.1962067\ttotal: 275ms\tremaining: 6.12s\n",
      "43:\tlearn: 2754399.8637004\ttotal: 280ms\tremaining: 6.08s\n",
      "44:\tlearn: 2747259.8435086\ttotal: 285ms\tremaining: 6.05s\n",
      "45:\tlearn: 2744207.8076312\ttotal: 290ms\tremaining: 6.02s\n",
      "46:\tlearn: 2736463.9479784\ttotal: 295ms\tremaining: 5.99s\n",
      "47:\tlearn: 2734757.4811242\ttotal: 300ms\tremaining: 5.95s\n",
      "48:\tlearn: 2724292.0302238\ttotal: 305ms\tremaining: 5.93s\n",
      "49:\tlearn: 2718019.7296595\ttotal: 312ms\tremaining: 5.92s\n",
      "50:\tlearn: 2716660.8006916\ttotal: 317ms\tremaining: 5.89s\n",
      "51:\tlearn: 2708385.3427991\ttotal: 323ms\tremaining: 5.88s\n",
      "52:\tlearn: 2701659.9012651\ttotal: 333ms\tremaining: 5.95s\n",
      "53:\tlearn: 2700408.9970447\ttotal: 338ms\tremaining: 5.92s\n",
      "54:\tlearn: 2699261.5552492\ttotal: 342ms\tremaining: 5.87s\n",
      "55:\tlearn: 2689612.8962194\ttotal: 349ms\tremaining: 5.88s\n",
      "56:\tlearn: 2685461.8246721\ttotal: 354ms\tremaining: 5.85s\n",
      "57:\tlearn: 2674745.3601927\ttotal: 359ms\tremaining: 5.83s\n",
      "58:\tlearn: 2673740.4868616\ttotal: 363ms\tremaining: 5.79s\n",
      "59:\tlearn: 2672606.1879461\ttotal: 369ms\tremaining: 5.78s\n",
      "60:\tlearn: 2664544.5137386\ttotal: 374ms\tremaining: 5.75s\n",
      "61:\tlearn: 2657677.0619356\ttotal: 378ms\tremaining: 5.72s\n",
      "62:\tlearn: 2656835.1893340\ttotal: 384ms\tremaining: 5.72s\n",
      "63:\tlearn: 2646307.5356370\ttotal: 392ms\tremaining: 5.73s\n",
      "64:\tlearn: 2644748.1893746\ttotal: 398ms\tremaining: 5.72s\n",
      "65:\tlearn: 2643876.8512046\ttotal: 402ms\tremaining: 5.69s\n",
      "66:\tlearn: 2632866.3395324\ttotal: 411ms\tremaining: 5.72s\n",
      "67:\tlearn: 2632112.8687223\ttotal: 417ms\tremaining: 5.71s\n",
      "68:\tlearn: 2631417.9564074\ttotal: 421ms\tremaining: 5.68s\n",
      "69:\tlearn: 2622353.5062584\ttotal: 426ms\tremaining: 5.66s\n",
      "70:\tlearn: 2617734.1004104\ttotal: 432ms\tremaining: 5.66s\n",
      "71:\tlearn: 2615097.8757517\ttotal: 437ms\tremaining: 5.64s\n",
      "72:\tlearn: 2609277.0260644\ttotal: 443ms\tremaining: 5.63s\n",
      "73:\tlearn: 2604638.3696419\ttotal: 449ms\tremaining: 5.62s\n",
      "74:\tlearn: 2598445.7251441\ttotal: 455ms\tremaining: 5.62s\n",
      "75:\tlearn: 2596054.5739516\ttotal: 462ms\tremaining: 5.62s\n",
      "76:\tlearn: 2594617.9640428\ttotal: 468ms\tremaining: 5.61s\n",
      "77:\tlearn: 2585987.3814663\ttotal: 474ms\tremaining: 5.6s\n",
      "78:\tlearn: 2581036.9426478\ttotal: 480ms\tremaining: 5.6s\n",
      "79:\tlearn: 2579710.9674612\ttotal: 485ms\tremaining: 5.58s\n",
      "80:\tlearn: 2577928.5349970\ttotal: 491ms\tremaining: 5.57s\n",
      "81:\tlearn: 2574733.7314217\ttotal: 497ms\tremaining: 5.56s\n",
      "82:\tlearn: 2570549.3347510\ttotal: 502ms\tremaining: 5.55s\n",
      "83:\tlearn: 2562411.1330292\ttotal: 509ms\tremaining: 5.55s\n",
      "84:\tlearn: 2559752.7263675\ttotal: 515ms\tremaining: 5.55s\n",
      "85:\tlearn: 2556490.5661496\ttotal: 521ms\tremaining: 5.53s\n",
      "86:\tlearn: 2552547.8070794\ttotal: 528ms\tremaining: 5.55s\n",
      "87:\tlearn: 2546687.4994606\ttotal: 536ms\tremaining: 5.56s\n",
      "88:\tlearn: 2539666.3727906\ttotal: 547ms\tremaining: 5.6s\n",
      "89:\tlearn: 2529770.1455681\ttotal: 556ms\tremaining: 5.62s\n",
      "90:\tlearn: 2521639.5165213\ttotal: 561ms\tremaining: 5.61s\n",
      "91:\tlearn: 2516232.9080141\ttotal: 566ms\tremaining: 5.59s\n",
      "92:\tlearn: 2507970.5374575\ttotal: 573ms\tremaining: 5.59s\n",
      "93:\tlearn: 2504102.5277052\ttotal: 581ms\tremaining: 5.6s\n",
      "94:\tlearn: 2498425.8685434\ttotal: 589ms\tremaining: 5.61s\n",
      "95:\tlearn: 2491125.8440369\ttotal: 596ms\tremaining: 5.61s\n",
      "96:\tlearn: 2488197.7946529\ttotal: 605ms\tremaining: 5.63s\n",
      "97:\tlearn: 2480588.5427750\ttotal: 613ms\tremaining: 5.64s\n",
      "98:\tlearn: 2478006.0796424\ttotal: 618ms\tremaining: 5.63s\n",
      "99:\tlearn: 2473560.4712739\ttotal: 624ms\tremaining: 5.61s\n",
      "100:\tlearn: 2468944.1688029\ttotal: 629ms\tremaining: 5.6s\n",
      "101:\tlearn: 2462118.5489746\ttotal: 634ms\tremaining: 5.58s\n",
      "102:\tlearn: 2457160.2076641\ttotal: 638ms\tremaining: 5.56s\n",
      "103:\tlearn: 2456664.5177173\ttotal: 643ms\tremaining: 5.54s\n",
      "104:\tlearn: 2448798.4312244\ttotal: 648ms\tremaining: 5.52s\n",
      "105:\tlearn: 2445724.1962102\ttotal: 655ms\tremaining: 5.53s\n",
      "106:\tlearn: 2443575.8514959\ttotal: 660ms\tremaining: 5.51s\n",
      "107:\tlearn: 2441106.6634211\ttotal: 665ms\tremaining: 5.49s\n",
      "108:\tlearn: 2436765.0588093\ttotal: 670ms\tremaining: 5.47s\n",
      "109:\tlearn: 2428847.4105776\ttotal: 676ms\tremaining: 5.47s\n",
      "110:\tlearn: 2421374.1352106\ttotal: 682ms\tremaining: 5.46s\n",
      "111:\tlearn: 2412730.6199248\ttotal: 688ms\tremaining: 5.45s\n",
      "112:\tlearn: 2407551.9075210\ttotal: 694ms\tremaining: 5.44s\n",
      "113:\tlearn: 2405882.8171885\ttotal: 699ms\tremaining: 5.43s\n",
      "114:\tlearn: 2388603.2452944\ttotal: 707ms\tremaining: 5.44s\n",
      "115:\tlearn: 2383842.9854746\ttotal: 713ms\tremaining: 5.43s\n",
      "116:\tlearn: 2375332.5198704\ttotal: 719ms\tremaining: 5.42s\n",
      "117:\tlearn: 2369390.9149207\ttotal: 729ms\tremaining: 5.45s\n",
      "118:\tlearn: 2365779.9919128\ttotal: 734ms\tremaining: 5.44s\n",
      "119:\tlearn: 2362105.0584081\ttotal: 740ms\tremaining: 5.43s\n",
      "120:\tlearn: 2349521.0831164\ttotal: 746ms\tremaining: 5.42s\n",
      "121:\tlearn: 2347240.9391446\ttotal: 752ms\tremaining: 5.41s\n",
      "122:\tlearn: 2342135.0891784\ttotal: 756ms\tremaining: 5.39s\n",
      "123:\tlearn: 2331395.1494591\ttotal: 762ms\tremaining: 5.38s\n",
      "124:\tlearn: 2326747.7381771\ttotal: 766ms\tremaining: 5.37s\n",
      "125:\tlearn: 2316724.5679392\ttotal: 772ms\tremaining: 5.36s\n",
      "126:\tlearn: 2313728.3575137\ttotal: 777ms\tremaining: 5.34s\n",
      "127:\tlearn: 2311420.3322835\ttotal: 781ms\tremaining: 5.32s\n",
      "128:\tlearn: 2303819.7794666\ttotal: 787ms\tremaining: 5.31s\n",
      "129:\tlearn: 2298568.6458371\ttotal: 791ms\tremaining: 5.29s\n",
      "130:\tlearn: 2294241.8257867\ttotal: 800ms\tremaining: 5.31s\n",
      "131:\tlearn: 2289574.1723421\ttotal: 807ms\tremaining: 5.31s\n",
      "132:\tlearn: 2287596.1647364\ttotal: 813ms\tremaining: 5.3s\n",
      "133:\tlearn: 2286287.8004776\ttotal: 817ms\tremaining: 5.28s\n",
      "134:\tlearn: 2282413.5266274\ttotal: 822ms\tremaining: 5.27s\n",
      "135:\tlearn: 2280182.2902749\ttotal: 826ms\tremaining: 5.25s\n",
      "136:\tlearn: 2277910.7979588\ttotal: 831ms\tremaining: 5.23s\n",
      "137:\tlearn: 2273153.7693209\ttotal: 837ms\tremaining: 5.22s\n",
      "138:\tlearn: 2267082.3370496\ttotal: 841ms\tremaining: 5.21s\n",
      "139:\tlearn: 2264421.6565482\ttotal: 846ms\tremaining: 5.19s\n",
      "140:\tlearn: 2263140.6525152\ttotal: 850ms\tremaining: 5.18s\n",
      "141:\tlearn: 2260617.2365518\ttotal: 855ms\tremaining: 5.16s\n",
      "142:\tlearn: 2258819.2549319\ttotal: 859ms\tremaining: 5.15s\n",
      "143:\tlearn: 2254541.7423412\ttotal: 864ms\tremaining: 5.13s\n",
      "144:\tlearn: 2251022.5846951\ttotal: 869ms\tremaining: 5.12s\n",
      "145:\tlearn: 2247811.1077682\ttotal: 874ms\tremaining: 5.11s\n",
      "146:\tlearn: 2237828.0694836\ttotal: 879ms\tremaining: 5.1s\n",
      "147:\tlearn: 2229204.8040398\ttotal: 884ms\tremaining: 5.09s\n",
      "148:\tlearn: 2224312.2572223\ttotal: 890ms\tremaining: 5.08s\n",
      "149:\tlearn: 2220698.1621153\ttotal: 895ms\tremaining: 5.07s\n",
      "150:\tlearn: 2215506.5330043\ttotal: 900ms\tremaining: 5.06s\n",
      "151:\tlearn: 2213249.3776529\ttotal: 905ms\tremaining: 5.05s\n",
      "152:\tlearn: 2210935.0008381\ttotal: 910ms\tremaining: 5.04s\n",
      "153:\tlearn: 2207451.9226414\ttotal: 915ms\tremaining: 5.02s\n",
      "154:\tlearn: 2203550.6538526\ttotal: 922ms\tremaining: 5.03s\n",
      "155:\tlearn: 2201757.0063269\ttotal: 928ms\tremaining: 5.02s\n",
      "156:\tlearn: 2200326.3091436\ttotal: 933ms\tremaining: 5.01s\n",
      "157:\tlearn: 2197265.3761676\ttotal: 938ms\tremaining: 5s\n",
      "158:\tlearn: 2195259.3220964\ttotal: 943ms\tremaining: 4.99s\n",
      "159:\tlearn: 2194119.1780283\ttotal: 947ms\tremaining: 4.97s\n",
      "160:\tlearn: 2192637.9737517\ttotal: 955ms\tremaining: 4.97s\n",
      "161:\tlearn: 2188117.1671179\ttotal: 960ms\tremaining: 4.96s\n",
      "162:\tlearn: 2185019.9143998\ttotal: 966ms\tremaining: 4.96s\n",
      "163:\tlearn: 2183713.3110276\ttotal: 971ms\tremaining: 4.95s\n",
      "164:\tlearn: 2179971.2895140\ttotal: 976ms\tremaining: 4.94s\n",
      "165:\tlearn: 2177462.3224844\ttotal: 982ms\tremaining: 4.93s\n",
      "166:\tlearn: 2176665.2424715\ttotal: 987ms\tremaining: 4.92s\n",
      "167:\tlearn: 2174693.8228067\ttotal: 992ms\tremaining: 4.91s\n",
      "168:\tlearn: 2170186.4077173\ttotal: 1s\tremaining: 4.94s\n",
      "169:\tlearn: 2167631.6330917\ttotal: 1.01s\tremaining: 4.93s\n",
      "170:\tlearn: 2166693.9615827\ttotal: 1.01s\tremaining: 4.92s\n",
      "171:\tlearn: 2163924.1990003\ttotal: 1.02s\tremaining: 4.91s\n",
      "172:\tlearn: 2163184.4141878\ttotal: 1.02s\tremaining: 4.89s\n",
      "173:\tlearn: 2158700.1249486\ttotal: 1.03s\tremaining: 4.9s\n",
      "174:\tlearn: 2154926.9387481\ttotal: 1.04s\tremaining: 4.89s\n",
      "175:\tlearn: 2146585.4446161\ttotal: 1.04s\tremaining: 4.88s\n",
      "176:\tlearn: 2142364.4727850\ttotal: 1.05s\tremaining: 4.87s\n",
      "177:\tlearn: 2137510.6247837\ttotal: 1.05s\tremaining: 4.85s\n",
      "178:\tlearn: 2135563.3118378\ttotal: 1.05s\tremaining: 4.84s\n",
      "179:\tlearn: 2134021.5993492\ttotal: 1.06s\tremaining: 4.82s\n",
      "180:\tlearn: 2128497.4978229\ttotal: 1.06s\tremaining: 4.81s\n",
      "181:\tlearn: 2121398.4201751\ttotal: 1.06s\tremaining: 4.79s\n",
      "182:\tlearn: 2116492.5972849\ttotal: 1.07s\tremaining: 4.78s\n",
      "183:\tlearn: 2114330.5434084\ttotal: 1.07s\tremaining: 4.76s\n",
      "184:\tlearn: 2113143.9578145\ttotal: 1.08s\tremaining: 4.75s\n",
      "185:\tlearn: 2112006.6331680\ttotal: 1.08s\tremaining: 4.74s\n",
      "186:\tlearn: 2109792.3013927\ttotal: 1.09s\tremaining: 4.72s\n",
      "187:\tlearn: 2104447.5725530\ttotal: 1.09s\tremaining: 4.71s\n",
      "188:\tlearn: 2102474.4944633\ttotal: 1.09s\tremaining: 4.7s\n",
      "189:\tlearn: 2100529.6353216\ttotal: 1.1s\tremaining: 4.69s\n",
      "190:\tlearn: 2097530.4793563\ttotal: 1.1s\tremaining: 4.68s\n",
      "191:\tlearn: 2095426.6070712\ttotal: 1.11s\tremaining: 4.66s\n",
      "192:\tlearn: 2085763.1994793\ttotal: 1.11s\tremaining: 4.66s\n",
      "193:\tlearn: 2084109.1981220\ttotal: 1.12s\tremaining: 4.64s\n",
      "194:\tlearn: 2082336.9355616\ttotal: 1.12s\tremaining: 4.63s\n",
      "195:\tlearn: 2078045.1486544\ttotal: 1.13s\tremaining: 4.62s\n",
      "196:\tlearn: 2077550.1412714\ttotal: 1.13s\tremaining: 4.61s\n",
      "197:\tlearn: 2075483.1605655\ttotal: 1.13s\tremaining: 4.6s\n",
      "198:\tlearn: 2072631.8289642\ttotal: 1.14s\tremaining: 4.58s\n",
      "199:\tlearn: 2064154.7277578\ttotal: 1.14s\tremaining: 4.57s\n",
      "200:\tlearn: 2059870.8859209\ttotal: 1.15s\tremaining: 4.56s\n",
      "201:\tlearn: 2054749.9784006\ttotal: 1.15s\tremaining: 4.55s\n",
      "202:\tlearn: 2052997.1005185\ttotal: 1.16s\tremaining: 4.54s\n",
      "203:\tlearn: 2049850.9017924\ttotal: 1.16s\tremaining: 4.53s\n",
      "204:\tlearn: 2048647.6203268\ttotal: 1.16s\tremaining: 4.52s\n",
      "205:\tlearn: 2048184.6970122\ttotal: 1.17s\tremaining: 4.5s\n",
      "206:\tlearn: 2046123.5513672\ttotal: 1.17s\tremaining: 4.49s\n",
      "207:\tlearn: 2043789.4741758\ttotal: 1.18s\tremaining: 4.48s\n",
      "208:\tlearn: 2041061.5579025\ttotal: 1.18s\tremaining: 4.47s\n",
      "209:\tlearn: 2038157.4332173\ttotal: 1.19s\tremaining: 4.46s\n",
      "210:\tlearn: 2036976.0133505\ttotal: 1.19s\tremaining: 4.45s\n",
      "211:\tlearn: 2035435.5351281\ttotal: 1.19s\tremaining: 4.43s\n",
      "212:\tlearn: 2033391.6435391\ttotal: 1.2s\tremaining: 4.42s\n",
      "213:\tlearn: 2030102.5911788\ttotal: 1.2s\tremaining: 4.41s\n",
      "214:\tlearn: 2026714.7436421\ttotal: 1.21s\tremaining: 4.4s\n",
      "215:\tlearn: 2025555.9704847\ttotal: 1.21s\tremaining: 4.39s\n",
      "216:\tlearn: 2023275.5279607\ttotal: 1.21s\tremaining: 4.38s\n",
      "217:\tlearn: 2020950.4630924\ttotal: 1.22s\tremaining: 4.37s\n",
      "218:\tlearn: 2019598.7113331\ttotal: 1.22s\tremaining: 4.36s\n",
      "219:\tlearn: 2018136.8121656\ttotal: 1.23s\tremaining: 4.35s\n",
      "220:\tlearn: 2016080.3355804\ttotal: 1.23s\tremaining: 4.34s\n",
      "221:\tlearn: 2015061.1825560\ttotal: 1.24s\tremaining: 4.33s\n",
      "222:\tlearn: 2013287.1237528\ttotal: 1.24s\tremaining: 4.32s\n",
      "223:\tlearn: 2008563.3548041\ttotal: 1.24s\tremaining: 4.31s\n",
      "224:\tlearn: 2006900.1366314\ttotal: 1.25s\tremaining: 4.29s\n",
      "225:\tlearn: 2005699.2658644\ttotal: 1.25s\tremaining: 4.28s\n",
      "226:\tlearn: 2004726.0894350\ttotal: 1.25s\tremaining: 4.27s\n",
      "227:\tlearn: 2003618.2004903\ttotal: 1.26s\tremaining: 4.26s\n",
      "228:\tlearn: 2003196.1560160\ttotal: 1.26s\tremaining: 4.25s\n",
      "229:\tlearn: 1999165.8386410\ttotal: 1.26s\tremaining: 4.24s\n",
      "230:\tlearn: 1991731.3893989\ttotal: 1.27s\tremaining: 4.23s\n",
      "231:\tlearn: 1989100.4258965\ttotal: 1.27s\tremaining: 4.22s\n",
      "232:\tlearn: 1985292.6074213\ttotal: 1.28s\tremaining: 4.21s\n",
      "233:\tlearn: 1983667.9627458\ttotal: 1.28s\tremaining: 4.2s\n",
      "234:\tlearn: 1981216.6385512\ttotal: 1.29s\tremaining: 4.19s\n",
      "235:\tlearn: 1979621.1539483\ttotal: 1.29s\tremaining: 4.18s\n",
      "236:\tlearn: 1978564.8503006\ttotal: 1.3s\tremaining: 4.17s\n",
      "237:\tlearn: 1975892.3000798\ttotal: 1.3s\tremaining: 4.16s\n",
      "238:\tlearn: 1974449.8653201\ttotal: 1.3s\tremaining: 4.15s\n",
      "239:\tlearn: 1973569.6110759\ttotal: 1.31s\tremaining: 4.14s\n",
      "240:\tlearn: 1969570.8692428\ttotal: 1.31s\tremaining: 4.13s\n",
      "241:\tlearn: 1968971.1690360\ttotal: 1.32s\tremaining: 4.12s\n",
      "242:\tlearn: 1966969.5177511\ttotal: 1.32s\tremaining: 4.11s\n",
      "243:\tlearn: 1965310.2515553\ttotal: 1.32s\tremaining: 4.1s\n",
      "244:\tlearn: 1964096.0122613\ttotal: 1.33s\tremaining: 4.09s\n",
      "245:\tlearn: 1960997.5276266\ttotal: 1.33s\tremaining: 4.08s\n",
      "246:\tlearn: 1958636.0065079\ttotal: 1.34s\tremaining: 4.07s\n",
      "247:\tlearn: 1957800.5840466\ttotal: 1.34s\tremaining: 4.06s\n",
      "248:\tlearn: 1954635.1252952\ttotal: 1.34s\tremaining: 4.05s\n",
      "249:\tlearn: 1953474.6598473\ttotal: 1.35s\tremaining: 4.04s\n",
      "250:\tlearn: 1952057.5390101\ttotal: 1.35s\tremaining: 4.03s\n",
      "251:\tlearn: 1950822.8189274\ttotal: 1.35s\tremaining: 4.02s\n",
      "252:\tlearn: 1950139.9299776\ttotal: 1.36s\tremaining: 4.01s\n",
      "253:\tlearn: 1949101.7424656\ttotal: 1.36s\tremaining: 4s\n",
      "254:\tlearn: 1948197.3059548\ttotal: 1.36s\tremaining: 3.99s\n",
      "255:\tlearn: 1947242.9742872\ttotal: 1.37s\tremaining: 3.98s\n",
      "256:\tlearn: 1946255.4854097\ttotal: 1.37s\tremaining: 3.97s\n",
      "257:\tlearn: 1941708.4206195\ttotal: 1.38s\tremaining: 3.97s\n",
      "258:\tlearn: 1940965.1650687\ttotal: 1.38s\tremaining: 3.96s\n",
      "259:\tlearn: 1939363.4365640\ttotal: 1.39s\tremaining: 3.95s\n",
      "260:\tlearn: 1936613.0074830\ttotal: 1.39s\tremaining: 3.94s\n",
      "261:\tlearn: 1934904.3429730\ttotal: 1.4s\tremaining: 3.93s\n",
      "262:\tlearn: 1934251.8550128\ttotal: 1.4s\tremaining: 3.93s\n",
      "263:\tlearn: 1932098.7545422\ttotal: 1.41s\tremaining: 3.92s\n",
      "264:\tlearn: 1930525.0072858\ttotal: 1.41s\tremaining: 3.91s\n",
      "265:\tlearn: 1928876.9878428\ttotal: 1.42s\tremaining: 3.9s\n",
      "266:\tlearn: 1927531.0597022\ttotal: 1.42s\tremaining: 3.9s\n",
      "267:\tlearn: 1926341.5101537\ttotal: 1.42s\tremaining: 3.89s\n",
      "268:\tlearn: 1924990.2048878\ttotal: 1.43s\tremaining: 3.88s\n",
      "269:\tlearn: 1923198.1103319\ttotal: 1.43s\tremaining: 3.87s\n",
      "270:\tlearn: 1921086.2789333\ttotal: 1.44s\tremaining: 3.86s\n",
      "271:\tlearn: 1917204.0560818\ttotal: 1.44s\tremaining: 3.85s\n",
      "272:\tlearn: 1915581.0809003\ttotal: 1.44s\tremaining: 3.84s\n",
      "273:\tlearn: 1913844.0414218\ttotal: 1.45s\tremaining: 3.83s\n",
      "274:\tlearn: 1912406.7837775\ttotal: 1.45s\tremaining: 3.83s\n",
      "275:\tlearn: 1911462.3778148\ttotal: 1.46s\tremaining: 3.82s\n",
      "276:\tlearn: 1909598.1474266\ttotal: 1.46s\tremaining: 3.81s\n",
      "277:\tlearn: 1908838.7904603\ttotal: 1.46s\tremaining: 3.8s\n",
      "278:\tlearn: 1907087.6068795\ttotal: 1.47s\tremaining: 3.79s\n",
      "279:\tlearn: 1905975.5358172\ttotal: 1.47s\tremaining: 3.78s\n",
      "280:\tlearn: 1905372.2124160\ttotal: 1.48s\tremaining: 3.77s\n",
      "281:\tlearn: 1903726.4863514\ttotal: 1.48s\tremaining: 3.77s\n",
      "282:\tlearn: 1900242.4790553\ttotal: 1.48s\tremaining: 3.76s\n",
      "283:\tlearn: 1899625.2150437\ttotal: 1.49s\tremaining: 3.75s\n",
      "284:\tlearn: 1897812.3984825\ttotal: 1.49s\tremaining: 3.74s\n",
      "285:\tlearn: 1897121.8171559\ttotal: 1.5s\tremaining: 3.73s\n",
      "286:\tlearn: 1893164.0043003\ttotal: 1.5s\tremaining: 3.73s\n",
      "287:\tlearn: 1892160.2587906\ttotal: 1.5s\tremaining: 3.72s\n",
      "288:\tlearn: 1890548.0856357\ttotal: 1.51s\tremaining: 3.71s\n",
      "289:\tlearn: 1888365.9392606\ttotal: 1.51s\tremaining: 3.71s\n",
      "290:\tlearn: 1887568.5803903\ttotal: 1.52s\tremaining: 3.7s\n",
      "291:\tlearn: 1886744.7661592\ttotal: 1.52s\tremaining: 3.69s\n",
      "292:\tlearn: 1885912.0229235\ttotal: 1.53s\tremaining: 3.69s\n",
      "293:\tlearn: 1883790.1424276\ttotal: 1.53s\tremaining: 3.68s\n",
      "294:\tlearn: 1880892.0742128\ttotal: 1.54s\tremaining: 3.67s\n",
      "295:\tlearn: 1878164.9479432\ttotal: 1.54s\tremaining: 3.67s\n",
      "296:\tlearn: 1876075.3732820\ttotal: 1.55s\tremaining: 3.67s\n",
      "297:\tlearn: 1875509.0622536\ttotal: 1.56s\tremaining: 3.67s\n",
      "298:\tlearn: 1874797.3622859\ttotal: 1.56s\tremaining: 3.66s\n",
      "299:\tlearn: 1873304.0780842\ttotal: 1.57s\tremaining: 3.65s\n",
      "300:\tlearn: 1872316.7813190\ttotal: 1.57s\tremaining: 3.65s\n",
      "301:\tlearn: 1871756.7523646\ttotal: 1.57s\tremaining: 3.64s\n",
      "302:\tlearn: 1870077.9403575\ttotal: 1.58s\tremaining: 3.64s\n",
      "303:\tlearn: 1866943.0052077\ttotal: 1.59s\tremaining: 3.63s\n",
      "304:\tlearn: 1866233.0301393\ttotal: 1.6s\tremaining: 3.64s\n",
      "305:\tlearn: 1865575.8166686\ttotal: 1.6s\tremaining: 3.64s\n",
      "306:\tlearn: 1864484.9261051\ttotal: 1.61s\tremaining: 3.63s\n",
      "307:\tlearn: 1863873.9304659\ttotal: 1.61s\tremaining: 3.62s\n",
      "308:\tlearn: 1863366.5954628\ttotal: 1.62s\tremaining: 3.62s\n",
      "309:\tlearn: 1861982.6841930\ttotal: 1.62s\tremaining: 3.61s\n",
      "310:\tlearn: 1861130.8081744\ttotal: 1.63s\tremaining: 3.6s\n",
      "311:\tlearn: 1857942.9678597\ttotal: 1.63s\tremaining: 3.6s\n",
      "312:\tlearn: 1855177.5933282\ttotal: 1.63s\tremaining: 3.59s\n",
      "313:\tlearn: 1853732.5169884\ttotal: 1.64s\tremaining: 3.58s\n",
      "314:\tlearn: 1851630.5693613\ttotal: 1.64s\tremaining: 3.57s\n",
      "315:\tlearn: 1849435.4988267\ttotal: 1.65s\tremaining: 3.56s\n",
      "316:\tlearn: 1847687.5330805\ttotal: 1.65s\tremaining: 3.56s\n",
      "317:\tlearn: 1845725.5932905\ttotal: 1.65s\tremaining: 3.55s\n",
      "318:\tlearn: 1844704.2466812\ttotal: 1.66s\tremaining: 3.54s\n",
      "319:\tlearn: 1844023.9216274\ttotal: 1.66s\tremaining: 3.53s\n",
      "320:\tlearn: 1842574.2020272\ttotal: 1.67s\tremaining: 3.52s\n",
      "321:\tlearn: 1841791.0338413\ttotal: 1.67s\tremaining: 3.52s\n",
      "322:\tlearn: 1839261.0207617\ttotal: 1.67s\tremaining: 3.51s\n",
      "323:\tlearn: 1838034.4180671\ttotal: 1.68s\tremaining: 3.5s\n",
      "324:\tlearn: 1837007.2746949\ttotal: 1.68s\tremaining: 3.49s\n",
      "325:\tlearn: 1836100.0085534\ttotal: 1.69s\tremaining: 3.49s\n",
      "326:\tlearn: 1835528.7410723\ttotal: 1.69s\tremaining: 3.48s\n",
      "327:\tlearn: 1833805.4017435\ttotal: 1.7s\tremaining: 3.47s\n",
      "328:\tlearn: 1832695.5903987\ttotal: 1.7s\tremaining: 3.46s\n",
      "329:\tlearn: 1832289.3108928\ttotal: 1.71s\tremaining: 3.47s\n",
      "330:\tlearn: 1830370.5194977\ttotal: 1.71s\tremaining: 3.46s\n",
      "331:\tlearn: 1828902.6183698\ttotal: 1.72s\tremaining: 3.46s\n",
      "332:\tlearn: 1828655.8925640\ttotal: 1.72s\tremaining: 3.45s\n",
      "333:\tlearn: 1827641.8537333\ttotal: 1.73s\tremaining: 3.44s\n",
      "334:\tlearn: 1827095.7824120\ttotal: 1.73s\tremaining: 3.44s\n",
      "335:\tlearn: 1826528.7209843\ttotal: 1.73s\tremaining: 3.43s\n",
      "336:\tlearn: 1825425.3598713\ttotal: 1.74s\tremaining: 3.42s\n",
      "337:\tlearn: 1824503.2508858\ttotal: 1.74s\tremaining: 3.42s\n",
      "338:\tlearn: 1823680.0128797\ttotal: 1.75s\tremaining: 3.41s\n",
      "339:\tlearn: 1822436.3813633\ttotal: 1.75s\tremaining: 3.4s\n",
      "340:\tlearn: 1820869.8240322\ttotal: 1.76s\tremaining: 3.4s\n",
      "341:\tlearn: 1820455.1262181\ttotal: 1.76s\tremaining: 3.39s\n",
      "342:\tlearn: 1818011.5238474\ttotal: 1.77s\tremaining: 3.38s\n",
      "343:\tlearn: 1816979.5908336\ttotal: 1.77s\tremaining: 3.38s\n",
      "344:\tlearn: 1816291.3265313\ttotal: 1.77s\tremaining: 3.37s\n",
      "345:\tlearn: 1815300.7807854\ttotal: 1.78s\tremaining: 3.36s\n",
      "346:\tlearn: 1814195.0480647\ttotal: 1.79s\tremaining: 3.37s\n",
      "347:\tlearn: 1813715.6159626\ttotal: 1.79s\tremaining: 3.36s\n",
      "348:\tlearn: 1811710.6638572\ttotal: 1.8s\tremaining: 3.35s\n",
      "349:\tlearn: 1809929.6245277\ttotal: 1.8s\tremaining: 3.35s\n",
      "350:\tlearn: 1808493.7172226\ttotal: 1.8s\tremaining: 3.34s\n",
      "351:\tlearn: 1808293.3587604\ttotal: 1.81s\tremaining: 3.33s\n",
      "352:\tlearn: 1807488.3491714\ttotal: 1.81s\tremaining: 3.33s\n",
      "353:\tlearn: 1807037.5307573\ttotal: 1.82s\tremaining: 3.32s\n",
      "354:\tlearn: 1805504.5864347\ttotal: 1.82s\tremaining: 3.31s\n",
      "355:\tlearn: 1804758.1526380\ttotal: 1.83s\tremaining: 3.31s\n",
      "356:\tlearn: 1804360.3346875\ttotal: 1.83s\tremaining: 3.3s\n",
      "357:\tlearn: 1803860.5095030\ttotal: 1.84s\tremaining: 3.29s\n",
      "358:\tlearn: 1802330.1353936\ttotal: 1.84s\tremaining: 3.29s\n",
      "359:\tlearn: 1801438.7332808\ttotal: 1.84s\tremaining: 3.28s\n",
      "360:\tlearn: 1801058.3155315\ttotal: 1.85s\tremaining: 3.27s\n",
      "361:\tlearn: 1798999.4109411\ttotal: 1.85s\tremaining: 3.27s\n",
      "362:\tlearn: 1798188.3094030\ttotal: 1.86s\tremaining: 3.26s\n",
      "363:\tlearn: 1794727.3547355\ttotal: 1.86s\tremaining: 3.25s\n",
      "364:\tlearn: 1791104.6056184\ttotal: 1.87s\tremaining: 3.25s\n",
      "365:\tlearn: 1789639.7519600\ttotal: 1.87s\tremaining: 3.25s\n",
      "366:\tlearn: 1787577.7757003\ttotal: 1.88s\tremaining: 3.24s\n",
      "367:\tlearn: 1786483.4344475\ttotal: 1.88s\tremaining: 3.23s\n",
      "368:\tlearn: 1785824.6553335\ttotal: 1.89s\tremaining: 3.23s\n",
      "369:\tlearn: 1784910.6880822\ttotal: 1.89s\tremaining: 3.22s\n",
      "370:\tlearn: 1784103.8752882\ttotal: 1.89s\tremaining: 3.21s\n",
      "371:\tlearn: 1783357.5252048\ttotal: 1.9s\tremaining: 3.2s\n",
      "372:\tlearn: 1782451.3753809\ttotal: 1.91s\tremaining: 3.2s\n",
      "373:\tlearn: 1781654.9527539\ttotal: 1.91s\tremaining: 3.2s\n",
      "374:\tlearn: 1777315.3957413\ttotal: 1.91s\tremaining: 3.19s\n",
      "375:\tlearn: 1776609.0555428\ttotal: 1.92s\tremaining: 3.18s\n",
      "376:\tlearn: 1776322.8188689\ttotal: 1.92s\tremaining: 3.17s\n",
      "377:\tlearn: 1775751.8805413\ttotal: 1.93s\tremaining: 3.17s\n",
      "378:\tlearn: 1774830.7383048\ttotal: 1.93s\tremaining: 3.16s\n",
      "379:\tlearn: 1774275.5285057\ttotal: 1.93s\tremaining: 3.15s\n",
      "380:\tlearn: 1773892.7903028\ttotal: 1.94s\tremaining: 3.15s\n",
      "381:\tlearn: 1772787.3231358\ttotal: 1.94s\tremaining: 3.14s\n",
      "382:\tlearn: 1772244.0620145\ttotal: 1.95s\tremaining: 3.13s\n",
      "383:\tlearn: 1770605.7303095\ttotal: 1.95s\tremaining: 3.13s\n",
      "384:\tlearn: 1769657.5270234\ttotal: 1.95s\tremaining: 3.12s\n",
      "385:\tlearn: 1768553.1622886\ttotal: 1.96s\tremaining: 3.11s\n",
      "386:\tlearn: 1767085.9003531\ttotal: 1.96s\tremaining: 3.11s\n",
      "387:\tlearn: 1766060.9784265\ttotal: 1.97s\tremaining: 3.1s\n",
      "388:\tlearn: 1765813.1640832\ttotal: 1.97s\tremaining: 3.1s\n",
      "389:\tlearn: 1761111.7692964\ttotal: 1.97s\tremaining: 3.09s\n",
      "390:\tlearn: 1760210.5524619\ttotal: 1.98s\tremaining: 3.08s\n",
      "391:\tlearn: 1759681.8951456\ttotal: 1.98s\tremaining: 3.07s\n",
      "392:\tlearn: 1756478.7470025\ttotal: 1.99s\tremaining: 3.07s\n",
      "393:\tlearn: 1755542.3187657\ttotal: 2s\tremaining: 3.07s\n",
      "394:\tlearn: 1755408.7769262\ttotal: 2s\tremaining: 3.07s\n",
      "395:\tlearn: 1754394.2502151\ttotal: 2.01s\tremaining: 3.06s\n",
      "396:\tlearn: 1753912.6587061\ttotal: 2.01s\tremaining: 3.06s\n",
      "397:\tlearn: 1752095.8425585\ttotal: 2.02s\tremaining: 3.05s\n",
      "398:\tlearn: 1751726.3629137\ttotal: 2.02s\tremaining: 3.05s\n",
      "399:\tlearn: 1751080.9448701\ttotal: 2.03s\tremaining: 3.04s\n",
      "400:\tlearn: 1750610.9049440\ttotal: 2.03s\tremaining: 3.04s\n",
      "401:\tlearn: 1750046.8885168\ttotal: 2.04s\tremaining: 3.03s\n",
      "402:\tlearn: 1749277.6823981\ttotal: 2.04s\tremaining: 3.02s\n",
      "403:\tlearn: 1748596.1221098\ttotal: 2.04s\tremaining: 3.02s\n",
      "404:\tlearn: 1747260.5620137\ttotal: 2.05s\tremaining: 3.01s\n",
      "405:\tlearn: 1746806.7694530\ttotal: 2.05s\tremaining: 3s\n",
      "406:\tlearn: 1746225.8915987\ttotal: 2.06s\tremaining: 3s\n",
      "407:\tlearn: 1745548.4392435\ttotal: 2.06s\tremaining: 2.99s\n",
      "408:\tlearn: 1744583.4560242\ttotal: 2.07s\tremaining: 2.99s\n",
      "409:\tlearn: 1744077.5307227\ttotal: 2.07s\tremaining: 2.98s\n",
      "410:\tlearn: 1742587.9355934\ttotal: 2.08s\tremaining: 2.98s\n",
      "411:\tlearn: 1739645.6623667\ttotal: 2.08s\tremaining: 2.97s\n",
      "412:\tlearn: 1738867.0821222\ttotal: 2.09s\tremaining: 2.97s\n",
      "413:\tlearn: 1738232.4354605\ttotal: 2.09s\tremaining: 2.96s\n",
      "414:\tlearn: 1737960.9606987\ttotal: 2.1s\tremaining: 2.96s\n",
      "415:\tlearn: 1737656.0112300\ttotal: 2.11s\tremaining: 2.96s\n",
      "416:\tlearn: 1737537.0339468\ttotal: 2.11s\tremaining: 2.95s\n",
      "417:\tlearn: 1733867.1226607\ttotal: 2.12s\tremaining: 2.95s\n",
      "418:\tlearn: 1733030.2427239\ttotal: 2.12s\tremaining: 2.94s\n",
      "419:\tlearn: 1732228.5851196\ttotal: 2.13s\tremaining: 2.94s\n",
      "420:\tlearn: 1731696.3630155\ttotal: 2.13s\tremaining: 2.93s\n",
      "421:\tlearn: 1731023.3299976\ttotal: 2.14s\tremaining: 2.93s\n",
      "422:\tlearn: 1730420.4665410\ttotal: 2.14s\tremaining: 2.92s\n",
      "423:\tlearn: 1729329.4561776\ttotal: 2.15s\tremaining: 2.92s\n",
      "424:\tlearn: 1728842.6190410\ttotal: 2.15s\tremaining: 2.91s\n",
      "425:\tlearn: 1727722.5517140\ttotal: 2.16s\tremaining: 2.91s\n",
      "426:\tlearn: 1726980.4289144\ttotal: 2.16s\tremaining: 2.9s\n",
      "427:\tlearn: 1724065.6130495\ttotal: 2.17s\tremaining: 2.9s\n",
      "428:\tlearn: 1723174.0197711\ttotal: 2.17s\tremaining: 2.89s\n",
      "429:\tlearn: 1722308.4910333\ttotal: 2.18s\tremaining: 2.89s\n",
      "430:\tlearn: 1721232.6327336\ttotal: 2.18s\tremaining: 2.88s\n",
      "431:\tlearn: 1720994.6672958\ttotal: 2.19s\tremaining: 2.88s\n",
      "432:\tlearn: 1719932.1621943\ttotal: 2.19s\tremaining: 2.87s\n",
      "433:\tlearn: 1719161.7835355\ttotal: 2.2s\tremaining: 2.87s\n",
      "434:\tlearn: 1717861.2362505\ttotal: 2.2s\tremaining: 2.86s\n",
      "435:\tlearn: 1717548.8238628\ttotal: 2.21s\tremaining: 2.86s\n",
      "436:\tlearn: 1716623.1230105\ttotal: 2.21s\tremaining: 2.85s\n",
      "437:\tlearn: 1716375.4690159\ttotal: 2.21s\tremaining: 2.84s\n",
      "438:\tlearn: 1715485.6552563\ttotal: 2.22s\tremaining: 2.84s\n",
      "439:\tlearn: 1714681.1481862\ttotal: 2.22s\tremaining: 2.83s\n",
      "440:\tlearn: 1713848.1168578\ttotal: 2.23s\tremaining: 2.82s\n",
      "441:\tlearn: 1713289.8785126\ttotal: 2.23s\tremaining: 2.82s\n",
      "442:\tlearn: 1713054.2243564\ttotal: 2.23s\tremaining: 2.81s\n",
      "443:\tlearn: 1712142.5344674\ttotal: 2.24s\tremaining: 2.81s\n",
      "444:\tlearn: 1711919.3149566\ttotal: 2.24s\tremaining: 2.8s\n",
      "445:\tlearn: 1711503.4904821\ttotal: 2.25s\tremaining: 2.79s\n",
      "446:\tlearn: 1710447.5661297\ttotal: 2.25s\tremaining: 2.79s\n",
      "447:\tlearn: 1709643.2745525\ttotal: 2.25s\tremaining: 2.78s\n",
      "448:\tlearn: 1709192.0948830\ttotal: 2.26s\tremaining: 2.77s\n",
      "449:\tlearn: 1708139.0151933\ttotal: 2.26s\tremaining: 2.77s\n",
      "450:\tlearn: 1708037.5656591\ttotal: 2.27s\tremaining: 2.76s\n",
      "451:\tlearn: 1707464.0509166\ttotal: 2.27s\tremaining: 2.75s\n",
      "452:\tlearn: 1706818.6783985\ttotal: 2.27s\tremaining: 2.75s\n",
      "453:\tlearn: 1705909.5272482\ttotal: 2.28s\tremaining: 2.74s\n",
      "454:\tlearn: 1705186.6188406\ttotal: 2.28s\tremaining: 2.73s\n",
      "455:\tlearn: 1704570.1794352\ttotal: 2.29s\tremaining: 2.73s\n",
      "456:\tlearn: 1703853.8073431\ttotal: 2.29s\tremaining: 2.73s\n",
      "457:\tlearn: 1703633.2837655\ttotal: 2.3s\tremaining: 2.72s\n",
      "458:\tlearn: 1703363.7638329\ttotal: 2.3s\tremaining: 2.71s\n",
      "459:\tlearn: 1702862.6515849\ttotal: 2.31s\tremaining: 2.71s\n",
      "460:\tlearn: 1702626.3700564\ttotal: 2.31s\tremaining: 2.7s\n",
      "461:\tlearn: 1702422.6941290\ttotal: 2.31s\tremaining: 2.7s\n",
      "462:\tlearn: 1701991.5732345\ttotal: 2.32s\tremaining: 2.69s\n",
      "463:\tlearn: 1701903.3328431\ttotal: 2.32s\tremaining: 2.68s\n",
      "464:\tlearn: 1701368.0434473\ttotal: 2.33s\tremaining: 2.68s\n",
      "465:\tlearn: 1699072.8740514\ttotal: 2.33s\tremaining: 2.67s\n",
      "466:\tlearn: 1698534.9781855\ttotal: 2.33s\tremaining: 2.66s\n",
      "467:\tlearn: 1698133.3518458\ttotal: 2.34s\tremaining: 2.66s\n",
      "468:\tlearn: 1697932.6302396\ttotal: 2.34s\tremaining: 2.65s\n",
      "469:\tlearn: 1697433.1932907\ttotal: 2.35s\tremaining: 2.65s\n",
      "470:\tlearn: 1696707.4666031\ttotal: 2.35s\tremaining: 2.64s\n",
      "471:\tlearn: 1696054.4150035\ttotal: 2.35s\tremaining: 2.63s\n",
      "472:\tlearn: 1695820.0017105\ttotal: 2.36s\tremaining: 2.63s\n",
      "473:\tlearn: 1695289.1125692\ttotal: 2.36s\tremaining: 2.62s\n",
      "474:\tlearn: 1694810.3233598\ttotal: 2.37s\tremaining: 2.62s\n",
      "475:\tlearn: 1694213.8858584\ttotal: 2.37s\tremaining: 2.61s\n",
      "476:\tlearn: 1693469.1339100\ttotal: 2.37s\tremaining: 2.6s\n",
      "477:\tlearn: 1693291.1143440\ttotal: 2.38s\tremaining: 2.6s\n",
      "478:\tlearn: 1692764.7058434\ttotal: 2.39s\tremaining: 2.6s\n",
      "479:\tlearn: 1692269.6179912\ttotal: 2.39s\tremaining: 2.59s\n",
      "480:\tlearn: 1692262.5961153\ttotal: 2.4s\tremaining: 2.58s\n",
      "481:\tlearn: 1691936.0459526\ttotal: 2.4s\tremaining: 2.58s\n",
      "482:\tlearn: 1690573.2091101\ttotal: 2.4s\tremaining: 2.57s\n",
      "483:\tlearn: 1690308.9226767\ttotal: 2.41s\tremaining: 2.56s\n",
      "484:\tlearn: 1689978.3478478\ttotal: 2.41s\tremaining: 2.56s\n",
      "485:\tlearn: 1688749.2188537\ttotal: 2.41s\tremaining: 2.55s\n",
      "486:\tlearn: 1688024.3140257\ttotal: 2.42s\tremaining: 2.55s\n",
      "487:\tlearn: 1687831.1055747\ttotal: 2.42s\tremaining: 2.54s\n",
      "488:\tlearn: 1687658.5437009\ttotal: 2.42s\tremaining: 2.53s\n",
      "489:\tlearn: 1687521.0346742\ttotal: 2.43s\tremaining: 2.53s\n",
      "490:\tlearn: 1687295.7732448\ttotal: 2.43s\tremaining: 2.52s\n",
      "491:\tlearn: 1686307.1688810\ttotal: 2.44s\tremaining: 2.52s\n",
      "492:\tlearn: 1683273.8165675\ttotal: 2.44s\tremaining: 2.51s\n",
      "493:\tlearn: 1682500.2908670\ttotal: 2.44s\tremaining: 2.5s\n",
      "494:\tlearn: 1681692.8932476\ttotal: 2.45s\tremaining: 2.5s\n",
      "495:\tlearn: 1680922.9901664\ttotal: 2.45s\tremaining: 2.49s\n",
      "496:\tlearn: 1680055.4780835\ttotal: 2.46s\tremaining: 2.49s\n",
      "497:\tlearn: 1679093.4109586\ttotal: 2.46s\tremaining: 2.48s\n",
      "498:\tlearn: 1676022.6132439\ttotal: 2.46s\tremaining: 2.48s\n",
      "499:\tlearn: 1674729.1781243\ttotal: 2.47s\tremaining: 2.47s\n",
      "500:\tlearn: 1673496.3188035\ttotal: 2.47s\tremaining: 2.46s\n",
      "501:\tlearn: 1672959.8254756\ttotal: 2.48s\tremaining: 2.46s\n",
      "502:\tlearn: 1672876.1561055\ttotal: 2.49s\tremaining: 2.46s\n",
      "503:\tlearn: 1671981.6026777\ttotal: 2.49s\tremaining: 2.45s\n",
      "504:\tlearn: 1671629.2375524\ttotal: 2.5s\tremaining: 2.45s\n",
      "505:\tlearn: 1671567.4698569\ttotal: 2.5s\tremaining: 2.44s\n",
      "506:\tlearn: 1670934.9882924\ttotal: 2.51s\tremaining: 2.44s\n",
      "507:\tlearn: 1669649.7788847\ttotal: 2.51s\tremaining: 2.43s\n",
      "508:\tlearn: 1669242.0886783\ttotal: 2.52s\tremaining: 2.43s\n",
      "509:\tlearn: 1668743.8237055\ttotal: 2.52s\tremaining: 2.42s\n",
      "510:\tlearn: 1668048.3111230\ttotal: 2.52s\tremaining: 2.41s\n",
      "511:\tlearn: 1667358.9293187\ttotal: 2.53s\tremaining: 2.41s\n",
      "512:\tlearn: 1666960.2999524\ttotal: 2.53s\tremaining: 2.4s\n",
      "513:\tlearn: 1664641.8430271\ttotal: 2.54s\tremaining: 2.4s\n",
      "514:\tlearn: 1664062.8443028\ttotal: 2.54s\tremaining: 2.39s\n",
      "515:\tlearn: 1661390.6191020\ttotal: 2.54s\tremaining: 2.39s\n",
      "516:\tlearn: 1660597.8001361\ttotal: 2.55s\tremaining: 2.38s\n",
      "517:\tlearn: 1659878.8043371\ttotal: 2.55s\tremaining: 2.38s\n",
      "518:\tlearn: 1659670.1067329\ttotal: 2.56s\tremaining: 2.37s\n",
      "519:\tlearn: 1658537.1934604\ttotal: 2.56s\tremaining: 2.36s\n",
      "520:\tlearn: 1657851.5857907\ttotal: 2.56s\tremaining: 2.36s\n",
      "521:\tlearn: 1657362.2238524\ttotal: 2.57s\tremaining: 2.35s\n",
      "522:\tlearn: 1656534.8427237\ttotal: 2.57s\tremaining: 2.35s\n",
      "523:\tlearn: 1656224.6894762\ttotal: 2.58s\tremaining: 2.34s\n",
      "524:\tlearn: 1655480.0939367\ttotal: 2.58s\tremaining: 2.33s\n",
      "525:\tlearn: 1655347.6678850\ttotal: 2.58s\tremaining: 2.33s\n",
      "526:\tlearn: 1654818.6657258\ttotal: 2.59s\tremaining: 2.32s\n",
      "527:\tlearn: 1653984.7335595\ttotal: 2.6s\tremaining: 2.32s\n",
      "528:\tlearn: 1653428.3904233\ttotal: 2.6s\tremaining: 2.32s\n",
      "529:\tlearn: 1652531.7921025\ttotal: 2.61s\tremaining: 2.31s\n",
      "530:\tlearn: 1651946.8568514\ttotal: 2.61s\tremaining: 2.31s\n",
      "531:\tlearn: 1649580.7567375\ttotal: 2.62s\tremaining: 2.3s\n",
      "532:\tlearn: 1648982.8702074\ttotal: 2.62s\tremaining: 2.3s\n",
      "533:\tlearn: 1648307.7673816\ttotal: 2.63s\tremaining: 2.29s\n",
      "534:\tlearn: 1648102.4234738\ttotal: 2.63s\tremaining: 2.29s\n",
      "535:\tlearn: 1647532.8628766\ttotal: 2.63s\tremaining: 2.28s\n",
      "536:\tlearn: 1647118.1979569\ttotal: 2.64s\tremaining: 2.27s\n",
      "537:\tlearn: 1646970.0121823\ttotal: 2.64s\tremaining: 2.27s\n",
      "538:\tlearn: 1646771.1321859\ttotal: 2.65s\tremaining: 2.26s\n",
      "539:\tlearn: 1646535.1541490\ttotal: 2.65s\tremaining: 2.26s\n",
      "540:\tlearn: 1646345.8539374\ttotal: 2.65s\tremaining: 2.25s\n",
      "541:\tlearn: 1645729.6819339\ttotal: 2.66s\tremaining: 2.25s\n",
      "542:\tlearn: 1645387.5822407\ttotal: 2.66s\tremaining: 2.24s\n",
      "543:\tlearn: 1645085.4184771\ttotal: 2.67s\tremaining: 2.23s\n",
      "544:\tlearn: 1644295.2230268\ttotal: 2.67s\tremaining: 2.23s\n",
      "545:\tlearn: 1644174.7195513\ttotal: 2.68s\tremaining: 2.23s\n",
      "546:\tlearn: 1642575.7548954\ttotal: 2.68s\tremaining: 2.22s\n",
      "547:\tlearn: 1642315.7068587\ttotal: 2.68s\tremaining: 2.21s\n",
      "548:\tlearn: 1641797.2954729\ttotal: 2.69s\tremaining: 2.21s\n",
      "549:\tlearn: 1639391.9802428\ttotal: 2.7s\tremaining: 2.21s\n",
      "550:\tlearn: 1638961.1763950\ttotal: 2.7s\tremaining: 2.2s\n",
      "551:\tlearn: 1637841.4414897\ttotal: 2.71s\tremaining: 2.2s\n",
      "552:\tlearn: 1637261.4926430\ttotal: 2.71s\tremaining: 2.19s\n",
      "553:\tlearn: 1636574.1505192\ttotal: 2.71s\tremaining: 2.19s\n",
      "554:\tlearn: 1636403.8732070\ttotal: 2.72s\tremaining: 2.18s\n",
      "555:\tlearn: 1635630.5103572\ttotal: 2.72s\tremaining: 2.17s\n",
      "556:\tlearn: 1635292.3267649\ttotal: 2.73s\tremaining: 2.17s\n",
      "557:\tlearn: 1634990.8696044\ttotal: 2.73s\tremaining: 2.17s\n",
      "558:\tlearn: 1634493.5545357\ttotal: 2.74s\tremaining: 2.16s\n",
      "559:\tlearn: 1634115.7244769\ttotal: 2.74s\tremaining: 2.15s\n",
      "560:\tlearn: 1632730.9658513\ttotal: 2.75s\tremaining: 2.15s\n",
      "561:\tlearn: 1632193.3057680\ttotal: 2.75s\tremaining: 2.15s\n",
      "562:\tlearn: 1631700.2401257\ttotal: 2.76s\tremaining: 2.14s\n",
      "563:\tlearn: 1631255.7339126\ttotal: 2.76s\tremaining: 2.14s\n",
      "564:\tlearn: 1630817.9676531\ttotal: 2.77s\tremaining: 2.13s\n",
      "565:\tlearn: 1630267.7982985\ttotal: 2.77s\tremaining: 2.13s\n",
      "566:\tlearn: 1630153.6370014\ttotal: 2.78s\tremaining: 2.12s\n",
      "567:\tlearn: 1629351.4260373\ttotal: 2.78s\tremaining: 2.12s\n",
      "568:\tlearn: 1628234.2958332\ttotal: 2.79s\tremaining: 2.11s\n",
      "569:\tlearn: 1627830.6858008\ttotal: 2.79s\tremaining: 2.11s\n",
      "570:\tlearn: 1627721.4472623\ttotal: 2.8s\tremaining: 2.1s\n",
      "571:\tlearn: 1627353.9076451\ttotal: 2.8s\tremaining: 2.1s\n",
      "572:\tlearn: 1626701.7794388\ttotal: 2.81s\tremaining: 2.09s\n",
      "573:\tlearn: 1626225.3085340\ttotal: 2.81s\tremaining: 2.09s\n",
      "574:\tlearn: 1625675.2756884\ttotal: 2.81s\tremaining: 2.08s\n",
      "575:\tlearn: 1625140.3516720\ttotal: 2.82s\tremaining: 2.08s\n",
      "576:\tlearn: 1624684.4390356\ttotal: 2.82s\tremaining: 2.07s\n",
      "577:\tlearn: 1624065.7726511\ttotal: 2.83s\tremaining: 2.06s\n",
      "578:\tlearn: 1623275.2770856\ttotal: 2.83s\tremaining: 2.06s\n",
      "579:\tlearn: 1622896.6742970\ttotal: 2.83s\tremaining: 2.05s\n",
      "580:\tlearn: 1621751.3806381\ttotal: 2.84s\tremaining: 2.05s\n",
      "581:\tlearn: 1621112.8615404\ttotal: 2.84s\tremaining: 2.04s\n",
      "582:\tlearn: 1620619.0167589\ttotal: 2.85s\tremaining: 2.04s\n",
      "583:\tlearn: 1620286.8057064\ttotal: 2.85s\tremaining: 2.03s\n",
      "584:\tlearn: 1619765.9755217\ttotal: 2.86s\tremaining: 2.03s\n",
      "585:\tlearn: 1619547.4793838\ttotal: 2.86s\tremaining: 2.02s\n",
      "586:\tlearn: 1618872.4369133\ttotal: 2.87s\tremaining: 2.02s\n",
      "587:\tlearn: 1618603.1250140\ttotal: 2.87s\tremaining: 2.01s\n",
      "588:\tlearn: 1618337.1515893\ttotal: 2.87s\tremaining: 2s\n",
      "589:\tlearn: 1618203.0704980\ttotal: 2.88s\tremaining: 2s\n",
      "590:\tlearn: 1617934.9209375\ttotal: 2.88s\tremaining: 1.99s\n",
      "591:\tlearn: 1617807.7520139\ttotal: 2.89s\tremaining: 1.99s\n",
      "592:\tlearn: 1617309.5756316\ttotal: 2.89s\tremaining: 1.99s\n",
      "593:\tlearn: 1616614.7934764\ttotal: 2.9s\tremaining: 1.98s\n",
      "594:\tlearn: 1616083.8228183\ttotal: 2.91s\tremaining: 1.98s\n",
      "595:\tlearn: 1615480.0074882\ttotal: 2.91s\tremaining: 1.97s\n",
      "596:\tlearn: 1615133.2044713\ttotal: 2.91s\tremaining: 1.97s\n",
      "597:\tlearn: 1614634.0782237\ttotal: 2.92s\tremaining: 1.96s\n",
      "598:\tlearn: 1614444.1853459\ttotal: 2.92s\tremaining: 1.96s\n",
      "599:\tlearn: 1613502.5251662\ttotal: 2.93s\tremaining: 1.95s\n",
      "600:\tlearn: 1613145.8407757\ttotal: 2.93s\tremaining: 1.95s\n",
      "601:\tlearn: 1612855.9856274\ttotal: 2.94s\tremaining: 1.94s\n",
      "602:\tlearn: 1612706.6307186\ttotal: 2.94s\tremaining: 1.93s\n",
      "603:\tlearn: 1612411.5132840\ttotal: 2.94s\tremaining: 1.93s\n",
      "604:\tlearn: 1612050.0156541\ttotal: 2.95s\tremaining: 1.92s\n",
      "605:\tlearn: 1611218.8507620\ttotal: 2.95s\tremaining: 1.92s\n",
      "606:\tlearn: 1610386.4185689\ttotal: 2.96s\tremaining: 1.91s\n",
      "607:\tlearn: 1609965.1906749\ttotal: 2.96s\tremaining: 1.91s\n",
      "608:\tlearn: 1609278.1807530\ttotal: 2.96s\tremaining: 1.9s\n",
      "609:\tlearn: 1608844.7100509\ttotal: 2.97s\tremaining: 1.9s\n",
      "610:\tlearn: 1608217.3603084\ttotal: 2.97s\tremaining: 1.89s\n",
      "611:\tlearn: 1607985.3632363\ttotal: 2.98s\tremaining: 1.89s\n",
      "612:\tlearn: 1607292.9671119\ttotal: 2.98s\tremaining: 1.88s\n",
      "613:\tlearn: 1606799.6511489\ttotal: 2.98s\tremaining: 1.88s\n",
      "614:\tlearn: 1606624.2012493\ttotal: 2.99s\tremaining: 1.87s\n",
      "615:\tlearn: 1604935.0859022\ttotal: 2.99s\tremaining: 1.86s\n",
      "616:\tlearn: 1604660.7019325\ttotal: 3s\tremaining: 1.86s\n",
      "617:\tlearn: 1604201.0537919\ttotal: 3s\tremaining: 1.86s\n",
      "618:\tlearn: 1603381.6679851\ttotal: 3.01s\tremaining: 1.85s\n",
      "619:\tlearn: 1602780.0926462\ttotal: 3.01s\tremaining: 1.85s\n",
      "620:\tlearn: 1602476.9009723\ttotal: 3.02s\tremaining: 1.84s\n",
      "621:\tlearn: 1601869.0793759\ttotal: 3.02s\tremaining: 1.83s\n",
      "622:\tlearn: 1601767.5074552\ttotal: 3.02s\tremaining: 1.83s\n",
      "623:\tlearn: 1601140.7753990\ttotal: 3.03s\tremaining: 1.82s\n",
      "624:\tlearn: 1600628.1491953\ttotal: 3.03s\tremaining: 1.82s\n",
      "625:\tlearn: 1600179.6445499\ttotal: 3.04s\tremaining: 1.81s\n",
      "626:\tlearn: 1599856.2149316\ttotal: 3.04s\tremaining: 1.81s\n",
      "627:\tlearn: 1599457.3084216\ttotal: 3.04s\tremaining: 1.8s\n",
      "628:\tlearn: 1599194.2231194\ttotal: 3.05s\tremaining: 1.8s\n",
      "629:\tlearn: 1598931.4739244\ttotal: 3.05s\tremaining: 1.79s\n",
      "630:\tlearn: 1598656.3944449\ttotal: 3.06s\tremaining: 1.79s\n",
      "631:\tlearn: 1598228.0301174\ttotal: 3.06s\tremaining: 1.78s\n",
      "632:\tlearn: 1597716.9415411\ttotal: 3.06s\tremaining: 1.78s\n",
      "633:\tlearn: 1597222.0151715\ttotal: 3.07s\tremaining: 1.77s\n",
      "634:\tlearn: 1596823.5405682\ttotal: 3.07s\tremaining: 1.77s\n",
      "635:\tlearn: 1596288.2624936\ttotal: 3.08s\tremaining: 1.76s\n",
      "636:\tlearn: 1596008.4753471\ttotal: 3.08s\tremaining: 1.76s\n",
      "637:\tlearn: 1595602.7978512\ttotal: 3.08s\tremaining: 1.75s\n",
      "638:\tlearn: 1595162.2186628\ttotal: 3.09s\tremaining: 1.75s\n",
      "639:\tlearn: 1595047.9634583\ttotal: 3.09s\tremaining: 1.74s\n",
      "640:\tlearn: 1595041.1010340\ttotal: 3.1s\tremaining: 1.74s\n",
      "641:\tlearn: 1594599.5351023\ttotal: 3.11s\tremaining: 1.73s\n",
      "642:\tlearn: 1594288.7977847\ttotal: 3.11s\tremaining: 1.73s\n",
      "643:\tlearn: 1593821.1784595\ttotal: 3.12s\tremaining: 1.72s\n",
      "644:\tlearn: 1593814.7531997\ttotal: 3.12s\tremaining: 1.72s\n",
      "645:\tlearn: 1593439.4121380\ttotal: 3.12s\tremaining: 1.71s\n",
      "646:\tlearn: 1592915.3702460\ttotal: 3.13s\tremaining: 1.71s\n",
      "647:\tlearn: 1592890.4679067\ttotal: 3.13s\tremaining: 1.7s\n",
      "648:\tlearn: 1592571.2635980\ttotal: 3.13s\tremaining: 1.7s\n",
      "649:\tlearn: 1592538.5482181\ttotal: 3.14s\tremaining: 1.69s\n",
      "650:\tlearn: 1592527.4823155\ttotal: 3.14s\tremaining: 1.68s\n",
      "651:\tlearn: 1592449.8718251\ttotal: 3.15s\tremaining: 1.68s\n",
      "652:\tlearn: 1592440.0062148\ttotal: 3.15s\tremaining: 1.67s\n",
      "653:\tlearn: 1592430.8397066\ttotal: 3.15s\tremaining: 1.67s\n",
      "654:\tlearn: 1592209.1881875\ttotal: 3.16s\tremaining: 1.66s\n",
      "655:\tlearn: 1591615.0074789\ttotal: 3.16s\tremaining: 1.66s\n",
      "656:\tlearn: 1591610.2291426\ttotal: 3.16s\tremaining: 1.65s\n",
      "657:\tlearn: 1591605.6861565\ttotal: 3.17s\tremaining: 1.65s\n",
      "658:\tlearn: 1591007.4455635\ttotal: 3.17s\tremaining: 1.64s\n",
      "659:\tlearn: 1590594.7829487\ttotal: 3.17s\tremaining: 1.64s\n",
      "660:\tlearn: 1589715.7879124\ttotal: 3.18s\tremaining: 1.63s\n",
      "661:\tlearn: 1588670.1950716\ttotal: 3.18s\tremaining: 1.63s\n",
      "662:\tlearn: 1588226.4560870\ttotal: 3.19s\tremaining: 1.62s\n",
      "663:\tlearn: 1587896.5828364\ttotal: 3.19s\tremaining: 1.61s\n",
      "664:\tlearn: 1587744.0648849\ttotal: 3.2s\tremaining: 1.61s\n",
      "665:\tlearn: 1587309.4187264\ttotal: 3.2s\tremaining: 1.6s\n",
      "666:\tlearn: 1586654.0216315\ttotal: 3.2s\tremaining: 1.6s\n",
      "667:\tlearn: 1586329.8415453\ttotal: 3.21s\tremaining: 1.59s\n",
      "668:\tlearn: 1586131.1458004\ttotal: 3.21s\tremaining: 1.59s\n",
      "669:\tlearn: 1585766.6995666\ttotal: 3.21s\tremaining: 1.58s\n",
      "670:\tlearn: 1585433.8113923\ttotal: 3.22s\tremaining: 1.58s\n",
      "671:\tlearn: 1585037.5968772\ttotal: 3.22s\tremaining: 1.57s\n",
      "672:\tlearn: 1584840.7109913\ttotal: 3.23s\tremaining: 1.57s\n",
      "673:\tlearn: 1584576.4590162\ttotal: 3.23s\tremaining: 1.56s\n",
      "674:\tlearn: 1584153.5527191\ttotal: 3.23s\tremaining: 1.56s\n",
      "675:\tlearn: 1583535.0575429\ttotal: 3.24s\tremaining: 1.55s\n",
      "676:\tlearn: 1583355.1508280\ttotal: 3.24s\tremaining: 1.55s\n",
      "677:\tlearn: 1583233.1283956\ttotal: 3.25s\tremaining: 1.54s\n",
      "678:\tlearn: 1582905.2578460\ttotal: 3.25s\tremaining: 1.54s\n",
      "679:\tlearn: 1582568.6395677\ttotal: 3.25s\tremaining: 1.53s\n",
      "680:\tlearn: 1582385.0866126\ttotal: 3.26s\tremaining: 1.53s\n",
      "681:\tlearn: 1581473.7387577\ttotal: 3.27s\tremaining: 1.52s\n",
      "682:\tlearn: 1581308.0526738\ttotal: 3.27s\tremaining: 1.52s\n",
      "683:\tlearn: 1581055.7625883\ttotal: 3.27s\tremaining: 1.51s\n",
      "684:\tlearn: 1580205.5961718\ttotal: 3.28s\tremaining: 1.51s\n",
      "685:\tlearn: 1579800.4081509\ttotal: 3.28s\tremaining: 1.5s\n",
      "686:\tlearn: 1579330.5688242\ttotal: 3.29s\tremaining: 1.5s\n",
      "687:\tlearn: 1578539.2261011\ttotal: 3.29s\tremaining: 1.49s\n",
      "688:\tlearn: 1578301.7585372\ttotal: 3.3s\tremaining: 1.49s\n",
      "689:\tlearn: 1577424.4950190\ttotal: 3.3s\tremaining: 1.48s\n",
      "690:\tlearn: 1576797.7526778\ttotal: 3.31s\tremaining: 1.48s\n",
      "691:\tlearn: 1576263.8807883\ttotal: 3.31s\tremaining: 1.47s\n",
      "692:\tlearn: 1574709.9236506\ttotal: 3.31s\tremaining: 1.47s\n",
      "693:\tlearn: 1574214.2601386\ttotal: 3.32s\tremaining: 1.46s\n",
      "694:\tlearn: 1573754.2479054\ttotal: 3.32s\tremaining: 1.46s\n",
      "695:\tlearn: 1573384.7003140\ttotal: 3.33s\tremaining: 1.45s\n",
      "696:\tlearn: 1573229.9772849\ttotal: 3.33s\tremaining: 1.45s\n",
      "697:\tlearn: 1573043.0970636\ttotal: 3.34s\tremaining: 1.44s\n",
      "698:\tlearn: 1571954.6310141\ttotal: 3.34s\tremaining: 1.44s\n",
      "699:\tlearn: 1571598.1417980\ttotal: 3.34s\tremaining: 1.43s\n",
      "700:\tlearn: 1571173.5903671\ttotal: 3.35s\tremaining: 1.43s\n",
      "701:\tlearn: 1570590.7680467\ttotal: 3.35s\tremaining: 1.42s\n",
      "702:\tlearn: 1570084.0368921\ttotal: 3.36s\tremaining: 1.42s\n",
      "703:\tlearn: 1569720.7608633\ttotal: 3.36s\tremaining: 1.41s\n",
      "704:\tlearn: 1569267.9459401\ttotal: 3.37s\tremaining: 1.41s\n",
      "705:\tlearn: 1568943.6890962\ttotal: 3.37s\tremaining: 1.4s\n",
      "706:\tlearn: 1568634.6078227\ttotal: 3.37s\tremaining: 1.4s\n",
      "707:\tlearn: 1567049.5802162\ttotal: 3.38s\tremaining: 1.39s\n",
      "708:\tlearn: 1566751.4823943\ttotal: 3.38s\tremaining: 1.39s\n",
      "709:\tlearn: 1566291.4085267\ttotal: 3.39s\tremaining: 1.38s\n",
      "710:\tlearn: 1566050.8168235\ttotal: 3.39s\tremaining: 1.38s\n",
      "711:\tlearn: 1565881.1387606\ttotal: 3.39s\tremaining: 1.37s\n",
      "712:\tlearn: 1565173.2299768\ttotal: 3.4s\tremaining: 1.37s\n",
      "713:\tlearn: 1564898.5784994\ttotal: 3.4s\tremaining: 1.36s\n",
      "714:\tlearn: 1564487.7750321\ttotal: 3.41s\tremaining: 1.36s\n",
      "715:\tlearn: 1564028.1068650\ttotal: 3.41s\tremaining: 1.35s\n",
      "716:\tlearn: 1563631.7339296\ttotal: 3.42s\tremaining: 1.35s\n",
      "717:\tlearn: 1563356.8502533\ttotal: 3.42s\tremaining: 1.34s\n",
      "718:\tlearn: 1562757.1024267\ttotal: 3.42s\tremaining: 1.34s\n",
      "719:\tlearn: 1562664.4750163\ttotal: 3.43s\tremaining: 1.33s\n",
      "720:\tlearn: 1562284.7222499\ttotal: 3.43s\tremaining: 1.33s\n",
      "721:\tlearn: 1562007.4153540\ttotal: 3.44s\tremaining: 1.32s\n",
      "722:\tlearn: 1561324.1687677\ttotal: 3.44s\tremaining: 1.32s\n",
      "723:\tlearn: 1560996.0468653\ttotal: 3.45s\tremaining: 1.31s\n",
      "724:\tlearn: 1560266.0244889\ttotal: 3.45s\tremaining: 1.31s\n",
      "725:\tlearn: 1559116.0005265\ttotal: 3.46s\tremaining: 1.3s\n",
      "726:\tlearn: 1558603.8655468\ttotal: 3.46s\tremaining: 1.3s\n",
      "727:\tlearn: 1558194.3915274\ttotal: 3.47s\tremaining: 1.3s\n",
      "728:\tlearn: 1557985.5889051\ttotal: 3.47s\tremaining: 1.29s\n",
      "729:\tlearn: 1557078.4785335\ttotal: 3.48s\tremaining: 1.29s\n",
      "730:\tlearn: 1556452.6691198\ttotal: 3.48s\tremaining: 1.28s\n",
      "731:\tlearn: 1555618.1116113\ttotal: 3.49s\tremaining: 1.28s\n",
      "732:\tlearn: 1555238.2614552\ttotal: 3.49s\tremaining: 1.27s\n",
      "733:\tlearn: 1554879.1517733\ttotal: 3.5s\tremaining: 1.27s\n",
      "734:\tlearn: 1554462.9533267\ttotal: 3.5s\tremaining: 1.26s\n",
      "735:\tlearn: 1554050.7564882\ttotal: 3.5s\tremaining: 1.26s\n",
      "736:\tlearn: 1553617.0760233\ttotal: 3.51s\tremaining: 1.25s\n",
      "737:\tlearn: 1553532.7328462\ttotal: 3.51s\tremaining: 1.25s\n",
      "738:\tlearn: 1552492.3789218\ttotal: 3.52s\tremaining: 1.24s\n",
      "739:\tlearn: 1550362.7150473\ttotal: 3.52s\tremaining: 1.24s\n",
      "740:\tlearn: 1550097.2025907\ttotal: 3.52s\tremaining: 1.23s\n",
      "741:\tlearn: 1549717.4878565\ttotal: 3.53s\tremaining: 1.23s\n",
      "742:\tlearn: 1549061.5447630\ttotal: 3.53s\tremaining: 1.22s\n",
      "743:\tlearn: 1548444.5176051\ttotal: 3.54s\tremaining: 1.22s\n",
      "744:\tlearn: 1548041.3583759\ttotal: 3.54s\tremaining: 1.21s\n",
      "745:\tlearn: 1547750.6593878\ttotal: 3.55s\tremaining: 1.21s\n",
      "746:\tlearn: 1547260.6847110\ttotal: 3.55s\tremaining: 1.2s\n",
      "747:\tlearn: 1546975.9296349\ttotal: 3.55s\tremaining: 1.2s\n",
      "748:\tlearn: 1546692.9147995\ttotal: 3.56s\tremaining: 1.19s\n",
      "749:\tlearn: 1546194.0701132\ttotal: 3.56s\tremaining: 1.19s\n",
      "750:\tlearn: 1545773.7989832\ttotal: 3.57s\tremaining: 1.18s\n",
      "751:\tlearn: 1545602.5969434\ttotal: 3.57s\tremaining: 1.18s\n",
      "752:\tlearn: 1545225.5130674\ttotal: 3.58s\tremaining: 1.17s\n",
      "753:\tlearn: 1545017.9009779\ttotal: 3.58s\tremaining: 1.17s\n",
      "754:\tlearn: 1544923.1542270\ttotal: 3.59s\tremaining: 1.16s\n",
      "755:\tlearn: 1544543.3220245\ttotal: 3.59s\tremaining: 1.16s\n",
      "756:\tlearn: 1544269.9791478\ttotal: 3.59s\tremaining: 1.15s\n",
      "757:\tlearn: 1543905.1092085\ttotal: 3.6s\tremaining: 1.15s\n",
      "758:\tlearn: 1543650.8732530\ttotal: 3.6s\tremaining: 1.14s\n",
      "759:\tlearn: 1543217.4454299\ttotal: 3.61s\tremaining: 1.14s\n",
      "760:\tlearn: 1543141.0815488\ttotal: 3.61s\tremaining: 1.13s\n",
      "761:\tlearn: 1542925.2185063\ttotal: 3.61s\tremaining: 1.13s\n",
      "762:\tlearn: 1542676.5132824\ttotal: 3.62s\tremaining: 1.12s\n",
      "763:\tlearn: 1542368.4597853\ttotal: 3.62s\tremaining: 1.12s\n",
      "764:\tlearn: 1542114.9651707\ttotal: 3.63s\tremaining: 1.11s\n",
      "765:\tlearn: 1541888.5912222\ttotal: 3.63s\tremaining: 1.11s\n",
      "766:\tlearn: 1541700.7707308\ttotal: 3.63s\tremaining: 1.1s\n",
      "767:\tlearn: 1541525.9634792\ttotal: 3.64s\tremaining: 1.1s\n",
      "768:\tlearn: 1540757.3262565\ttotal: 3.64s\tremaining: 1.09s\n",
      "769:\tlearn: 1540438.9695379\ttotal: 3.65s\tremaining: 1.09s\n",
      "770:\tlearn: 1540365.9431635\ttotal: 3.65s\tremaining: 1.08s\n",
      "771:\tlearn: 1540085.4634317\ttotal: 3.66s\tremaining: 1.08s\n",
      "772:\tlearn: 1539549.1578152\ttotal: 3.66s\tremaining: 1.07s\n",
      "773:\tlearn: 1539233.6168540\ttotal: 3.66s\tremaining: 1.07s\n",
      "774:\tlearn: 1538943.8711148\ttotal: 3.67s\tremaining: 1.06s\n",
      "775:\tlearn: 1538657.4214652\ttotal: 3.67s\tremaining: 1.06s\n",
      "776:\tlearn: 1538546.3853355\ttotal: 3.68s\tremaining: 1.05s\n",
      "777:\tlearn: 1538168.8427218\ttotal: 3.68s\tremaining: 1.05s\n",
      "778:\tlearn: 1537438.2843167\ttotal: 3.69s\tremaining: 1.05s\n",
      "779:\tlearn: 1537274.5720763\ttotal: 3.69s\tremaining: 1.04s\n",
      "780:\tlearn: 1537116.5403657\ttotal: 3.7s\tremaining: 1.04s\n",
      "781:\tlearn: 1536887.4726736\ttotal: 3.7s\tremaining: 1.03s\n",
      "782:\tlearn: 1536633.1563436\ttotal: 3.7s\tremaining: 1.03s\n",
      "783:\tlearn: 1536276.9407511\ttotal: 3.71s\tremaining: 1.02s\n",
      "784:\tlearn: 1536074.4891295\ttotal: 3.71s\tremaining: 1.02s\n",
      "785:\tlearn: 1535407.4873863\ttotal: 3.71s\tremaining: 1.01s\n",
      "786:\tlearn: 1535337.9359861\ttotal: 3.72s\tremaining: 1.01s\n",
      "787:\tlearn: 1534702.8353444\ttotal: 3.72s\tremaining: 1s\n",
      "788:\tlearn: 1534636.5067674\ttotal: 3.73s\tremaining: 997ms\n",
      "789:\tlearn: 1534279.0687057\ttotal: 3.73s\tremaining: 992ms\n",
      "790:\tlearn: 1534215.7060733\ttotal: 3.73s\tremaining: 987ms\n",
      "791:\tlearn: 1534033.1251189\ttotal: 3.74s\tremaining: 983ms\n",
      "792:\tlearn: 1533704.4628187\ttotal: 3.75s\tremaining: 978ms\n",
      "793:\tlearn: 1533332.3725250\ttotal: 3.75s\tremaining: 973ms\n",
      "794:\tlearn: 1532672.2149548\ttotal: 3.75s\tremaining: 968ms\n",
      "795:\tlearn: 1532249.7420753\ttotal: 3.76s\tremaining: 964ms\n",
      "796:\tlearn: 1531893.7994530\ttotal: 3.76s\tremaining: 959ms\n",
      "797:\tlearn: 1531487.6000820\ttotal: 3.77s\tremaining: 954ms\n",
      "798:\tlearn: 1531381.3912937\ttotal: 3.77s\tremaining: 950ms\n",
      "799:\tlearn: 1531111.3937467\ttotal: 3.78s\tremaining: 945ms\n",
      "800:\tlearn: 1530963.5395839\ttotal: 3.78s\tremaining: 940ms\n",
      "801:\tlearn: 1530819.8550516\ttotal: 3.79s\tremaining: 936ms\n",
      "802:\tlearn: 1530304.1501446\ttotal: 3.79s\tremaining: 931ms\n",
      "803:\tlearn: 1529997.2560212\ttotal: 3.8s\tremaining: 926ms\n",
      "804:\tlearn: 1529710.9832807\ttotal: 3.8s\tremaining: 921ms\n",
      "805:\tlearn: 1529498.6334857\ttotal: 3.81s\tremaining: 917ms\n",
      "806:\tlearn: 1529441.9044220\ttotal: 3.81s\tremaining: 912ms\n",
      "807:\tlearn: 1529267.6024415\ttotal: 3.82s\tremaining: 907ms\n",
      "808:\tlearn: 1529141.0656933\ttotal: 3.82s\tremaining: 903ms\n",
      "809:\tlearn: 1528815.4585921\ttotal: 3.83s\tremaining: 898ms\n",
      "810:\tlearn: 1528280.5004524\ttotal: 3.83s\tremaining: 893ms\n",
      "811:\tlearn: 1526416.0110037\ttotal: 3.84s\tremaining: 888ms\n",
      "812:\tlearn: 1526025.0606740\ttotal: 3.84s\tremaining: 884ms\n",
      "813:\tlearn: 1525972.9984610\ttotal: 3.85s\tremaining: 879ms\n",
      "814:\tlearn: 1525558.9826985\ttotal: 3.85s\tremaining: 875ms\n",
      "815:\tlearn: 1525322.8301116\ttotal: 3.86s\tremaining: 871ms\n",
      "816:\tlearn: 1525079.7518335\ttotal: 3.87s\tremaining: 866ms\n",
      "817:\tlearn: 1524860.5594972\ttotal: 3.87s\tremaining: 861ms\n",
      "818:\tlearn: 1524621.7459822\ttotal: 3.88s\tremaining: 857ms\n",
      "819:\tlearn: 1524164.3418904\ttotal: 3.88s\tremaining: 852ms\n",
      "820:\tlearn: 1523712.3135465\ttotal: 3.89s\tremaining: 848ms\n",
      "821:\tlearn: 1523426.5435528\ttotal: 3.89s\tremaining: 843ms\n",
      "822:\tlearn: 1523274.0565976\ttotal: 3.9s\tremaining: 838ms\n",
      "823:\tlearn: 1522957.1531494\ttotal: 3.9s\tremaining: 834ms\n",
      "824:\tlearn: 1522905.0885597\ttotal: 3.91s\tremaining: 829ms\n",
      "825:\tlearn: 1522589.2046697\ttotal: 3.91s\tremaining: 824ms\n",
      "826:\tlearn: 1522458.7047575\ttotal: 3.92s\tremaining: 819ms\n",
      "827:\tlearn: 1522409.8266755\ttotal: 3.92s\tremaining: 815ms\n",
      "828:\tlearn: 1521879.3742606\ttotal: 3.93s\tremaining: 810ms\n",
      "829:\tlearn: 1521615.0699356\ttotal: 3.93s\tremaining: 805ms\n",
      "830:\tlearn: 1520993.3586285\ttotal: 3.94s\tremaining: 801ms\n",
      "831:\tlearn: 1520942.7103745\ttotal: 3.94s\tremaining: 797ms\n",
      "832:\tlearn: 1520596.1798342\ttotal: 3.95s\tremaining: 792ms\n",
      "833:\tlearn: 1520234.7396951\ttotal: 3.96s\tremaining: 788ms\n",
      "834:\tlearn: 1519711.4106344\ttotal: 3.96s\tremaining: 783ms\n",
      "835:\tlearn: 1519424.4909059\ttotal: 3.97s\tremaining: 779ms\n",
      "836:\tlearn: 1518241.4794159\ttotal: 3.97s\tremaining: 774ms\n",
      "837:\tlearn: 1517918.7253423\ttotal: 3.98s\tremaining: 769ms\n",
      "838:\tlearn: 1517754.9570815\ttotal: 3.98s\tremaining: 765ms\n",
      "839:\tlearn: 1517480.9911019\ttotal: 3.99s\tremaining: 760ms\n",
      "840:\tlearn: 1517344.7582795\ttotal: 3.99s\tremaining: 755ms\n",
      "841:\tlearn: 1517101.2302660\ttotal: 4s\tremaining: 751ms\n",
      "842:\tlearn: 1516845.7423610\ttotal: 4.01s\tremaining: 746ms\n",
      "843:\tlearn: 1516558.4226758\ttotal: 4.01s\tremaining: 742ms\n",
      "844:\tlearn: 1516342.8704057\ttotal: 4.02s\tremaining: 737ms\n",
      "845:\tlearn: 1516188.2053787\ttotal: 4.02s\tremaining: 732ms\n",
      "846:\tlearn: 1515441.9810543\ttotal: 4.02s\tremaining: 727ms\n",
      "847:\tlearn: 1515299.7947562\ttotal: 4.03s\tremaining: 722ms\n",
      "848:\tlearn: 1514438.5151409\ttotal: 4.03s\tremaining: 717ms\n",
      "849:\tlearn: 1513933.2206049\ttotal: 4.04s\tremaining: 712ms\n",
      "850:\tlearn: 1513694.5723085\ttotal: 4.04s\tremaining: 707ms\n",
      "851:\tlearn: 1513056.4328343\ttotal: 4.04s\tremaining: 703ms\n",
      "852:\tlearn: 1512708.5908882\ttotal: 4.05s\tremaining: 698ms\n",
      "853:\tlearn: 1512314.8900736\ttotal: 4.06s\tremaining: 694ms\n",
      "854:\tlearn: 1511595.0320592\ttotal: 4.06s\tremaining: 689ms\n",
      "855:\tlearn: 1511079.1107759\ttotal: 4.07s\tremaining: 685ms\n",
      "856:\tlearn: 1510398.8456317\ttotal: 4.08s\tremaining: 680ms\n",
      "857:\tlearn: 1509476.5055265\ttotal: 4.08s\tremaining: 676ms\n",
      "858:\tlearn: 1509215.7419404\ttotal: 4.09s\tremaining: 671ms\n",
      "859:\tlearn: 1508831.4103238\ttotal: 4.1s\tremaining: 667ms\n",
      "860:\tlearn: 1508457.1965991\ttotal: 4.1s\tremaining: 663ms\n",
      "861:\tlearn: 1508142.0422643\ttotal: 4.11s\tremaining: 658ms\n",
      "862:\tlearn: 1507934.9604330\ttotal: 4.12s\tremaining: 654ms\n",
      "863:\tlearn: 1507502.9010989\ttotal: 4.13s\tremaining: 650ms\n",
      "864:\tlearn: 1507264.6229497\ttotal: 4.13s\tremaining: 645ms\n",
      "865:\tlearn: 1507141.4775346\ttotal: 4.14s\tremaining: 640ms\n",
      "866:\tlearn: 1507041.8263683\ttotal: 4.14s\tremaining: 636ms\n",
      "867:\tlearn: 1506525.4435339\ttotal: 4.15s\tremaining: 631ms\n",
      "868:\tlearn: 1505847.2745014\ttotal: 4.15s\tremaining: 626ms\n",
      "869:\tlearn: 1505568.9869092\ttotal: 4.16s\tremaining: 621ms\n",
      "870:\tlearn: 1505285.8448273\ttotal: 4.16s\tremaining: 617ms\n",
      "871:\tlearn: 1505205.3436508\ttotal: 4.17s\tremaining: 612ms\n",
      "872:\tlearn: 1504840.1493809\ttotal: 4.17s\tremaining: 607ms\n",
      "873:\tlearn: 1504636.1473540\ttotal: 4.18s\tremaining: 603ms\n",
      "874:\tlearn: 1504397.5642562\ttotal: 4.18s\tremaining: 598ms\n",
      "875:\tlearn: 1504257.5910470\ttotal: 4.19s\tremaining: 593ms\n",
      "876:\tlearn: 1504191.8966296\ttotal: 4.2s\tremaining: 588ms\n",
      "877:\tlearn: 1503841.0107044\ttotal: 4.2s\tremaining: 584ms\n",
      "878:\tlearn: 1503654.2365236\ttotal: 4.21s\tremaining: 579ms\n",
      "879:\tlearn: 1503425.9433946\ttotal: 4.21s\tremaining: 574ms\n",
      "880:\tlearn: 1503057.2944997\ttotal: 4.21s\tremaining: 569ms\n",
      "881:\tlearn: 1502846.9712246\ttotal: 4.22s\tremaining: 565ms\n",
      "882:\tlearn: 1502452.8490482\ttotal: 4.22s\tremaining: 560ms\n",
      "883:\tlearn: 1502407.6700527\ttotal: 4.23s\tremaining: 555ms\n",
      "884:\tlearn: 1502185.0488485\ttotal: 4.23s\tremaining: 550ms\n",
      "885:\tlearn: 1501999.5656545\ttotal: 4.24s\tremaining: 545ms\n",
      "886:\tlearn: 1501783.6096746\ttotal: 4.24s\tremaining: 541ms\n",
      "887:\tlearn: 1501470.8156183\ttotal: 4.25s\tremaining: 536ms\n",
      "888:\tlearn: 1501008.6503265\ttotal: 4.25s\tremaining: 531ms\n",
      "889:\tlearn: 1500819.3195296\ttotal: 4.26s\tremaining: 526ms\n",
      "890:\tlearn: 1500629.9951738\ttotal: 4.26s\tremaining: 522ms\n",
      "891:\tlearn: 1500428.5706498\ttotal: 4.27s\tremaining: 517ms\n",
      "892:\tlearn: 1500046.8985507\ttotal: 4.27s\tremaining: 512ms\n",
      "893:\tlearn: 1499862.2503831\ttotal: 4.28s\tremaining: 507ms\n",
      "894:\tlearn: 1499525.3303816\ttotal: 4.29s\tremaining: 503ms\n",
      "895:\tlearn: 1499188.4307505\ttotal: 4.29s\tremaining: 498ms\n",
      "896:\tlearn: 1498912.0571413\ttotal: 4.29s\tremaining: 493ms\n",
      "897:\tlearn: 1498793.7828801\ttotal: 4.3s\tremaining: 488ms\n",
      "898:\tlearn: 1497930.6862116\ttotal: 4.31s\tremaining: 484ms\n",
      "899:\tlearn: 1497804.8069892\ttotal: 4.31s\tremaining: 479ms\n",
      "900:\tlearn: 1497179.2214184\ttotal: 4.32s\tremaining: 474ms\n",
      "901:\tlearn: 1496780.7344282\ttotal: 4.32s\tremaining: 469ms\n",
      "902:\tlearn: 1496348.8486112\ttotal: 4.33s\tremaining: 465ms\n",
      "903:\tlearn: 1495736.0056353\ttotal: 4.33s\tremaining: 460ms\n",
      "904:\tlearn: 1495510.6377417\ttotal: 4.33s\tremaining: 455ms\n",
      "905:\tlearn: 1494800.3677235\ttotal: 4.34s\tremaining: 450ms\n",
      "906:\tlearn: 1494309.9939484\ttotal: 4.34s\tremaining: 446ms\n",
      "907:\tlearn: 1494120.2049491\ttotal: 4.35s\tremaining: 441ms\n",
      "908:\tlearn: 1493443.5292854\ttotal: 4.36s\tremaining: 437ms\n",
      "909:\tlearn: 1493016.9538471\ttotal: 4.37s\tremaining: 432ms\n",
      "910:\tlearn: 1492834.1669955\ttotal: 4.37s\tremaining: 427ms\n",
      "911:\tlearn: 1492680.6710321\ttotal: 4.38s\tremaining: 423ms\n",
      "912:\tlearn: 1492145.9336841\ttotal: 4.39s\tremaining: 418ms\n",
      "913:\tlearn: 1491880.4870709\ttotal: 4.39s\tremaining: 413ms\n",
      "914:\tlearn: 1491669.9876573\ttotal: 4.4s\tremaining: 409ms\n",
      "915:\tlearn: 1491445.4910408\ttotal: 4.41s\tremaining: 404ms\n",
      "916:\tlearn: 1490878.9768220\ttotal: 4.42s\tremaining: 400ms\n",
      "917:\tlearn: 1490426.4555685\ttotal: 4.42s\tremaining: 395ms\n",
      "918:\tlearn: 1490049.7262292\ttotal: 4.43s\tremaining: 390ms\n",
      "919:\tlearn: 1489869.4253652\ttotal: 4.43s\tremaining: 385ms\n",
      "920:\tlearn: 1489647.8206517\ttotal: 4.44s\tremaining: 381ms\n",
      "921:\tlearn: 1489379.2016152\ttotal: 4.44s\tremaining: 376ms\n",
      "922:\tlearn: 1489159.2509260\ttotal: 4.45s\tremaining: 371ms\n",
      "923:\tlearn: 1488968.9142367\ttotal: 4.45s\tremaining: 366ms\n",
      "924:\tlearn: 1488742.2144782\ttotal: 4.46s\tremaining: 362ms\n",
      "925:\tlearn: 1488575.0442726\ttotal: 4.46s\tremaining: 357ms\n",
      "926:\tlearn: 1488327.9565560\ttotal: 4.47s\tremaining: 352ms\n",
      "927:\tlearn: 1488045.3858947\ttotal: 4.47s\tremaining: 347ms\n",
      "928:\tlearn: 1487857.9292726\ttotal: 4.48s\tremaining: 342ms\n",
      "929:\tlearn: 1487628.9725598\ttotal: 4.48s\tremaining: 338ms\n",
      "930:\tlearn: 1487182.0462389\ttotal: 4.49s\tremaining: 333ms\n",
      "931:\tlearn: 1487014.8358416\ttotal: 4.49s\tremaining: 328ms\n",
      "932:\tlearn: 1486910.0390528\ttotal: 4.5s\tremaining: 323ms\n",
      "933:\tlearn: 1486757.9424580\ttotal: 4.5s\tremaining: 318ms\n",
      "934:\tlearn: 1486556.5937958\ttotal: 4.51s\tremaining: 313ms\n",
      "935:\tlearn: 1486398.1293856\ttotal: 4.51s\tremaining: 308ms\n",
      "936:\tlearn: 1486201.3137134\ttotal: 4.51s\tremaining: 303ms\n",
      "937:\tlearn: 1485832.7261730\ttotal: 4.52s\tremaining: 299ms\n",
      "938:\tlearn: 1485579.0940171\ttotal: 4.52s\tremaining: 294ms\n",
      "939:\tlearn: 1485262.7277458\ttotal: 4.53s\tremaining: 289ms\n",
      "940:\tlearn: 1484678.3799475\ttotal: 4.53s\tremaining: 284ms\n",
      "941:\tlearn: 1484582.0335166\ttotal: 4.53s\tremaining: 279ms\n",
      "942:\tlearn: 1484252.3323104\ttotal: 4.54s\tremaining: 274ms\n",
      "943:\tlearn: 1484044.6014956\ttotal: 4.54s\tremaining: 270ms\n",
      "944:\tlearn: 1483885.8111782\ttotal: 4.55s\tremaining: 265ms\n",
      "945:\tlearn: 1483208.2884335\ttotal: 4.55s\tremaining: 260ms\n",
      "946:\tlearn: 1483008.2462586\ttotal: 4.56s\tremaining: 255ms\n",
      "947:\tlearn: 1482885.4401971\ttotal: 4.56s\tremaining: 250ms\n",
      "948:\tlearn: 1482426.0885037\ttotal: 4.57s\tremaining: 245ms\n",
      "949:\tlearn: 1482286.2790058\ttotal: 4.57s\tremaining: 241ms\n",
      "950:\tlearn: 1481954.0864592\ttotal: 4.58s\tremaining: 236ms\n",
      "951:\tlearn: 1481553.7022435\ttotal: 4.58s\tremaining: 231ms\n",
      "952:\tlearn: 1481511.6580902\ttotal: 4.58s\tremaining: 226ms\n",
      "953:\tlearn: 1481282.9624255\ttotal: 4.59s\tremaining: 221ms\n",
      "954:\tlearn: 1481154.2455702\ttotal: 4.59s\tremaining: 216ms\n",
      "955:\tlearn: 1481043.4262072\ttotal: 4.6s\tremaining: 212ms\n",
      "956:\tlearn: 1480836.8978346\ttotal: 4.6s\tremaining: 207ms\n",
      "957:\tlearn: 1480241.0015951\ttotal: 4.61s\tremaining: 202ms\n",
      "958:\tlearn: 1479960.5607293\ttotal: 4.61s\tremaining: 197ms\n",
      "959:\tlearn: 1479693.3532700\ttotal: 4.61s\tremaining: 192ms\n",
      "960:\tlearn: 1479573.7633564\ttotal: 4.62s\tremaining: 187ms\n",
      "961:\tlearn: 1478725.7929530\ttotal: 4.62s\tremaining: 183ms\n",
      "962:\tlearn: 1477330.9683600\ttotal: 4.63s\tremaining: 178ms\n",
      "963:\tlearn: 1476651.3352239\ttotal: 4.63s\tremaining: 173ms\n",
      "964:\tlearn: 1476355.6889267\ttotal: 4.63s\tremaining: 168ms\n",
      "965:\tlearn: 1475957.5180585\ttotal: 4.64s\tremaining: 163ms\n",
      "966:\tlearn: 1475848.2116176\ttotal: 4.64s\tremaining: 158ms\n",
      "967:\tlearn: 1475620.6907979\ttotal: 4.65s\tremaining: 154ms\n",
      "968:\tlearn: 1475284.2253998\ttotal: 4.65s\tremaining: 149ms\n",
      "969:\tlearn: 1475109.1797485\ttotal: 4.66s\tremaining: 144ms\n",
      "970:\tlearn: 1474808.8517363\ttotal: 4.66s\tremaining: 139ms\n",
      "971:\tlearn: 1474620.0272299\ttotal: 4.67s\tremaining: 134ms\n",
      "972:\tlearn: 1474500.9952067\ttotal: 4.67s\tremaining: 130ms\n",
      "973:\tlearn: 1474349.3394850\ttotal: 4.67s\tremaining: 125ms\n",
      "974:\tlearn: 1474137.3122585\ttotal: 4.68s\tremaining: 120ms\n",
      "975:\tlearn: 1473830.9115722\ttotal: 4.68s\tremaining: 115ms\n",
      "976:\tlearn: 1473826.6559159\ttotal: 4.69s\tremaining: 110ms\n",
      "977:\tlearn: 1473484.7824078\ttotal: 4.69s\tremaining: 106ms\n",
      "978:\tlearn: 1473223.6650613\ttotal: 4.7s\tremaining: 101ms\n",
      "979:\tlearn: 1472891.8775465\ttotal: 4.7s\tremaining: 95.9ms\n",
      "980:\tlearn: 1472677.2314426\ttotal: 4.7s\tremaining: 91.1ms\n",
      "981:\tlearn: 1472479.3452986\ttotal: 4.71s\tremaining: 86.3ms\n",
      "982:\tlearn: 1472205.2527873\ttotal: 4.71s\tremaining: 81.5ms\n",
      "983:\tlearn: 1472112.0770405\ttotal: 4.72s\tremaining: 76.7ms\n",
      "984:\tlearn: 1471681.8207241\ttotal: 4.72s\tremaining: 71.9ms\n",
      "985:\tlearn: 1471569.6937087\ttotal: 4.72s\tremaining: 67.1ms\n",
      "986:\tlearn: 1471332.6887730\ttotal: 4.73s\tremaining: 62.3ms\n",
      "987:\tlearn: 1471302.2032099\ttotal: 4.74s\tremaining: 57.5ms\n",
      "988:\tlearn: 1471046.0357189\ttotal: 4.74s\tremaining: 52.7ms\n",
      "989:\tlearn: 1470891.2558490\ttotal: 4.75s\tremaining: 48ms\n",
      "990:\tlearn: 1470886.8803324\ttotal: 4.75s\tremaining: 43.2ms\n",
      "991:\tlearn: 1470737.5795357\ttotal: 4.76s\tremaining: 38.4ms\n",
      "992:\tlearn: 1470297.2512252\ttotal: 4.76s\tremaining: 33.6ms\n",
      "993:\tlearn: 1470030.4983803\ttotal: 4.77s\tremaining: 28.8ms\n",
      "994:\tlearn: 1469836.1454954\ttotal: 4.77s\tremaining: 24ms\n",
      "995:\tlearn: 1469533.5031209\ttotal: 4.78s\tremaining: 19.2ms\n",
      "996:\tlearn: 1468525.3631108\ttotal: 4.79s\tremaining: 14.4ms\n",
      "997:\tlearn: 1468467.1034464\ttotal: 4.8s\tremaining: 9.61ms\n",
      "998:\tlearn: 1468364.2113575\ttotal: 4.8s\tremaining: 4.81ms\n",
      "999:\tlearn: 1468133.2469444\ttotal: 4.81s\tremaining: 0us\n",
      "[0.9574641759382865, 790164.7988022688, 2774890472230.102]\n"
     ]
    }
   ],
   "source": [
    "model = CatBoostRegressor()\n",
    "model.fit(X_train,y_train)\n",
    "pred = model.predict(X_test)\n",
    "\n",
    "model_metrics['CatBoostRegressor'] = [\n",
    "      r2_score(y_test, pred),\n",
    "      mean_absolute_error(y_test,pred),\n",
    "      mean_squared_error(y_test,pred)\n",
    "]\n",
    "print([x for x in model_metrics['CatBoostRegressor']])"
   ],
   "metadata": {
    "collapsed": false,
    "pycharm": {
     "name": "#%%\n"
    }
   }
  },
  {
   "cell_type": "code",
   "execution_count": 64,
   "outputs": [
    {
     "name": "stdout",
     "output_type": "stream",
     "text": [
      "LinearRegression [0.547986670824313, 3090033.0111851012, 29487790776800.92]\n",
      "ElasticNet [0.5237759117084329, 3183012.2085543023, 31067217208004.926]\n",
      "BayesianRidge [0.5480913285308149, 3089429.8515056954, 29480963268952.562]\n",
      "GradientBoostingRegressor [0.8994483670105351, 1150147.5050085294, 6559641772657.923]\n",
      "LGBMRegressor [0.9489350094239876, 866890.9777756706, 3331303881836.407]\n",
      "XGBRegressor [0.9570128284387328, 780635.5275361297, 2804334826578.5474]\n",
      "CatBoostRegressor [0.9574641759382865, 790164.7988022688, 2774890472230.102]\n"
     ]
    }
   ],
   "source": [
    "for k,v in model_metrics.items():\n",
    "      print(k,v)"
   ],
   "metadata": {
    "collapsed": false,
    "pycharm": {
     "name": "#%%\n"
    }
   }
  }
 ],
 "metadata": {
  "kernelspec": {
   "display_name": "Python 3 (ipykernel)",
   "language": "python",
   "name": "python3"
  },
  "language_info": {
   "codemirror_mode": {
    "name": "ipython",
    "version": 3
   },
   "file_extension": ".py",
   "mimetype": "text/x-python",
   "name": "python",
   "nbconvert_exporter": "python",
   "pygments_lexer": "ipython3",
   "version": "3.8.10"
  }
 },
 "nbformat": 4,
 "nbformat_minor": 1
}