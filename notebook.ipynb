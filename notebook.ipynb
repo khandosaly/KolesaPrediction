{
 "cells": [
  {
   "cell_type": "markdown",
   "source": [
    "# Cars price prediction"
   ],
   "metadata": {
    "collapsed": false,
    "pycharm": {
     "name": "#%% md\n"
    }
   }
  },
  {
   "cell_type": "markdown",
   "source": [
    "## I. Data import"
   ],
   "metadata": {
    "collapsed": false,
    "pycharm": {
     "name": "#%% md\n"
    }
   }
  },
  {
   "cell_type": "code",
   "execution_count": 7,
   "outputs": [
    {
     "name": "stderr",
     "output_type": "stream",
     "text": [
      "/tmp/ipykernel_18905/2035301755.py:2: DtypeWarning: Columns (5) have mixed types. Specify dtype option on import or set low_memory=False.\n",
      "  df = pd.read_csv('ScrapyParser/kolesa_cars.csv')\n"
     ]
    },
    {
     "data": {
      "text/plain": "  manufacturer                model       price  year         body  \\\n0      Renault               Megane   1 800 000  2004        седан   \n1   ВАЗ (Lada)  2131 (5-ти дверный)   1 055 000  2004  внедорожник   \n2    Chevrolet              Orlando   8 000 000  2013      минивэн   \n3          Kia                Cee’d   6 300 000  2013      хэтчбек   \n4       Toyota                Camry  17 000 000  2018        седан   \n\n  engine_volume fuel_type transmission    city      date  \n0           1.4    бензин     механика  Актобе  29 марта  \n1           1.8    бензин     механика  Актобе  29 марта  \n2           1.8    бензин      автомат  Актобе  29 марта  \n3           1.6    бензин      автомат  Актобе  29 марта  \n4           2.5    бензин      автомат  Актобе  29 марта  ",
      "text/html": "<div>\n<style scoped>\n    .dataframe tbody tr th:only-of-type {\n        vertical-align: middle;\n    }\n\n    .dataframe tbody tr th {\n        vertical-align: top;\n    }\n\n    .dataframe thead th {\n        text-align: right;\n    }\n</style>\n<table border=\"1\" class=\"dataframe\">\n  <thead>\n    <tr style=\"text-align: right;\">\n      <th></th>\n      <th>manufacturer</th>\n      <th>model</th>\n      <th>price</th>\n      <th>year</th>\n      <th>body</th>\n      <th>engine_volume</th>\n      <th>fuel_type</th>\n      <th>transmission</th>\n      <th>city</th>\n      <th>date</th>\n    </tr>\n  </thead>\n  <tbody>\n    <tr>\n      <th>0</th>\n      <td>Renault</td>\n      <td>Megane</td>\n      <td>1 800 000</td>\n      <td>2004</td>\n      <td>седан</td>\n      <td>1.4</td>\n      <td>бензин</td>\n      <td>механика</td>\n      <td>Актобе</td>\n      <td>29 марта</td>\n    </tr>\n    <tr>\n      <th>1</th>\n      <td>ВАЗ (Lada)</td>\n      <td>2131 (5-ти дверный)</td>\n      <td>1 055 000</td>\n      <td>2004</td>\n      <td>внедорожник</td>\n      <td>1.8</td>\n      <td>бензин</td>\n      <td>механика</td>\n      <td>Актобе</td>\n      <td>29 марта</td>\n    </tr>\n    <tr>\n      <th>2</th>\n      <td>Chevrolet</td>\n      <td>Orlando</td>\n      <td>8 000 000</td>\n      <td>2013</td>\n      <td>минивэн</td>\n      <td>1.8</td>\n      <td>бензин</td>\n      <td>автомат</td>\n      <td>Актобе</td>\n      <td>29 марта</td>\n    </tr>\n    <tr>\n      <th>3</th>\n      <td>Kia</td>\n      <td>Cee’d</td>\n      <td>6 300 000</td>\n      <td>2013</td>\n      <td>хэтчбек</td>\n      <td>1.6</td>\n      <td>бензин</td>\n      <td>автомат</td>\n      <td>Актобе</td>\n      <td>29 марта</td>\n    </tr>\n    <tr>\n      <th>4</th>\n      <td>Toyota</td>\n      <td>Camry</td>\n      <td>17 000 000</td>\n      <td>2018</td>\n      <td>седан</td>\n      <td>2.5</td>\n      <td>бензин</td>\n      <td>автомат</td>\n      <td>Актобе</td>\n      <td>29 марта</td>\n    </tr>\n  </tbody>\n</table>\n</div>"
     },
     "execution_count": 7,
     "metadata": {},
     "output_type": "execute_result"
    }
   ],
   "source": [
    "import pandas as pd\n",
    "df = pd.read_csv('ScrapyParser/kolesa_cars.csv')\n",
    "df.head()"
   ],
   "metadata": {
    "collapsed": false,
    "pycharm": {
     "name": "#%%\n"
    }
   }
  },
  {
   "cell_type": "markdown",
   "source": [
    "## II. Data cleaning\n",
    "\n",
    "#### Remove duplicates\n",
    "Due to the inherent nature of the repetition of ads and due to the technical specifics of the parser, there are duplicates in the dataset that need to be removed."
   ],
   "metadata": {
    "collapsed": false,
    "pycharm": {
     "name": "#%% md\n"
    }
   }
  },
  {
   "cell_type": "code",
   "execution_count": 8,
   "outputs": [
    {
     "name": "stdout",
     "output_type": "stream",
     "text": [
      "Total amount of rows: 131480\n",
      "Total amount of duplicates: 15759\n",
      "New amount: 115721\n"
     ]
    }
   ],
   "source": [
    "print(f'Total amount of rows: {len(df)}\\n'\n",
    "      f'Total amount of duplicates: {len(df)-len(df.drop_duplicates())}')\n",
    "df = df.drop_duplicates()\n",
    "print(f'New amount: {len(df)}')"
   ],
   "metadata": {
    "collapsed": false,
    "pycharm": {
     "name": "#%%\n"
    }
   }
  },
  {
   "cell_type": "markdown",
   "source": [
    "#### Drop useless columns\n",
    "The parsing occurred on March 29 and, accordingly, the date in the column is only 7 days. This data is useless."
   ],
   "metadata": {
    "collapsed": false,
    "pycharm": {
     "name": "#%% md\n"
    }
   }
  },
  {
   "cell_type": "code",
   "execution_count": 9,
   "outputs": [
    {
     "name": "stdout",
     "output_type": "stream",
     "text": [
      "All days in dataset: ['29 марта' '25 марта' '23 марта' '24 марта' '26 марта' '28 марта'\n",
      " '27 марта' '30 марта']\n"
     ]
    },
    {
     "data": {
      "text/plain": "  manufacturer                model       price  year         body  \\\n0      Renault               Megane   1 800 000  2004        седан   \n1   ВАЗ (Lada)  2131 (5-ти дверный)   1 055 000  2004  внедорожник   \n2    Chevrolet              Orlando   8 000 000  2013      минивэн   \n3          Kia                Cee’d   6 300 000  2013      хэтчбек   \n4       Toyota                Camry  17 000 000  2018        седан   \n\n  engine_volume fuel_type transmission    city  \n0           1.4    бензин     механика  Актобе  \n1           1.8    бензин     механика  Актобе  \n2           1.8    бензин      автомат  Актобе  \n3           1.6    бензин      автомат  Актобе  \n4           2.5    бензин      автомат  Актобе  ",
      "text/html": "<div>\n<style scoped>\n    .dataframe tbody tr th:only-of-type {\n        vertical-align: middle;\n    }\n\n    .dataframe tbody tr th {\n        vertical-align: top;\n    }\n\n    .dataframe thead th {\n        text-align: right;\n    }\n</style>\n<table border=\"1\" class=\"dataframe\">\n  <thead>\n    <tr style=\"text-align: right;\">\n      <th></th>\n      <th>manufacturer</th>\n      <th>model</th>\n      <th>price</th>\n      <th>year</th>\n      <th>body</th>\n      <th>engine_volume</th>\n      <th>fuel_type</th>\n      <th>transmission</th>\n      <th>city</th>\n    </tr>\n  </thead>\n  <tbody>\n    <tr>\n      <th>0</th>\n      <td>Renault</td>\n      <td>Megane</td>\n      <td>1 800 000</td>\n      <td>2004</td>\n      <td>седан</td>\n      <td>1.4</td>\n      <td>бензин</td>\n      <td>механика</td>\n      <td>Актобе</td>\n    </tr>\n    <tr>\n      <th>1</th>\n      <td>ВАЗ (Lada)</td>\n      <td>2131 (5-ти дверный)</td>\n      <td>1 055 000</td>\n      <td>2004</td>\n      <td>внедорожник</td>\n      <td>1.8</td>\n      <td>бензин</td>\n      <td>механика</td>\n      <td>Актобе</td>\n    </tr>\n    <tr>\n      <th>2</th>\n      <td>Chevrolet</td>\n      <td>Orlando</td>\n      <td>8 000 000</td>\n      <td>2013</td>\n      <td>минивэн</td>\n      <td>1.8</td>\n      <td>бензин</td>\n      <td>автомат</td>\n      <td>Актобе</td>\n    </tr>\n    <tr>\n      <th>3</th>\n      <td>Kia</td>\n      <td>Cee’d</td>\n      <td>6 300 000</td>\n      <td>2013</td>\n      <td>хэтчбек</td>\n      <td>1.6</td>\n      <td>бензин</td>\n      <td>автомат</td>\n      <td>Актобе</td>\n    </tr>\n    <tr>\n      <th>4</th>\n      <td>Toyota</td>\n      <td>Camry</td>\n      <td>17 000 000</td>\n      <td>2018</td>\n      <td>седан</td>\n      <td>2.5</td>\n      <td>бензин</td>\n      <td>автомат</td>\n      <td>Актобе</td>\n    </tr>\n  </tbody>\n</table>\n</div>"
     },
     "execution_count": 9,
     "metadata": {},
     "output_type": "execute_result"
    }
   ],
   "source": [
    "print(f\"All days in dataset: {df['date'].unique()}\")\n",
    "df.drop('date', inplace=True, axis=1)"
   ],
   "metadata": {
    "collapsed": false,
    "pycharm": {
     "name": "#%%\n"
    }
   }
  },
  {
   "cell_type": "markdown",
   "source": [
    "## III. Data preparation"
   ],
   "metadata": {
    "collapsed": false,
    "pycharm": {
     "name": "#%% md\n"
    }
   }
  },
  {
   "cell_type": "markdown",
   "source": [
    "## IV. Regression"
   ],
   "metadata": {
    "collapsed": false,
    "pycharm": {
     "name": "#%% md\n"
    }
   }
  },
  {
   "cell_type": "code",
   "execution_count": null,
   "outputs": [],
   "source": [],
   "metadata": {
    "collapsed": false,
    "pycharm": {
     "name": "#%%\n"
    }
   }
  }
 ],
 "metadata": {
  "kernelspec": {
   "display_name": "Python 3",
   "language": "python",
   "name": "python3"
  },
  "language_info": {
   "codemirror_mode": {
    "name": "ipython",
    "version": 2
   },
   "file_extension": ".py",
   "mimetype": "text/x-python",
   "name": "python",
   "nbconvert_exporter": "python",
   "pygments_lexer": "ipython2",
   "version": "2.7.6"
  }
 },
 "nbformat": 4,
 "nbformat_minor": 0
}